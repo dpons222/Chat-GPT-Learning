{
 "cells": [
  {
   "cell_type": "code",
   "execution_count": 17,
   "metadata": {},
   "outputs": [],
   "source": [
    "import numpy as np\n",
    "from scipy.stats import binomtest\n",
    "import matplotlib.pyplot as plt\n"
   ]
  },
  {
   "cell_type": "code",
   "execution_count": null,
   "metadata": {},
   "outputs": [],
   "source": [
    "# Define hypotheses and collect data\n",
    "# Null Hypothesis (H0): The coin is fair (p = 0.5)\n",
    "# Alternative Hypothesis (H1): The coin is not fair (p ≠ 0.5)\n"
   ]
  },
  {
   "cell_type": "code",
   "execution_count": 43,
   "metadata": {},
   "outputs": [
    {
     "name": "stdout",
     "output_type": "stream",
     "text": [
      "Number of heads:  4986\n"
     ]
    }
   ],
   "source": [
    "heads_count = 0\n",
    "#how many total experiments\n",
    "for i in range(1000):\n",
    "    #how many flips per experiment\n",
    "    flips = np.random.choice(['heads', 'tails'], size = 10, p= [.5,.5])\n",
    "    #count the number of heads\n",
    "    heads_count += np.sum(flips == 'heads')\n",
    "    #print(flips)\n",
    "    #print(np.sum(flips == 'heads'))\n",
    "    #print(heads_count)\n",
    "\n",
    "print(\"Number of heads: \", heads_count)"
   ]
  },
  {
   "cell_type": "code",
   "execution_count": null,
   "metadata": {},
   "outputs": [],
   "source": [
    "sig_threshold = 0.05\n"
   ]
  }
 ],
 "metadata": {
  "kernelspec": {
   "display_name": ".venv",
   "language": "python",
   "name": "python3"
  },
  "language_info": {
   "codemirror_mode": {
    "name": "ipython",
    "version": 3
   },
   "file_extension": ".py",
   "mimetype": "text/x-python",
   "name": "python",
   "nbconvert_exporter": "python",
   "pygments_lexer": "ipython3",
   "version": "3.11.9"
  }
 },
 "nbformat": 4,
 "nbformat_minor": 2
}
