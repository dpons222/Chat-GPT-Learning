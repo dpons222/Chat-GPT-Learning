{
 "cells": [
  {
   "cell_type": "code",
   "execution_count": 43,
   "metadata": {},
   "outputs": [],
   "source": [
    "import numpy as np\n",
    "import pandas as pd\n",
    "import matplotlib.pyplot as plt \n",
    "import seaborn as sns\n",
    "\n",
    "titanic = pd.read_csv('titanic.csv')"
   ]
  },
  {
   "cell_type": "code",
   "execution_count": 44,
   "metadata": {},
   "outputs": [
    {
     "data": {
      "text/html": [
       "<div>\n",
       "<style scoped>\n",
       "    .dataframe tbody tr th:only-of-type {\n",
       "        vertical-align: middle;\n",
       "    }\n",
       "\n",
       "    .dataframe tbody tr th {\n",
       "        vertical-align: top;\n",
       "    }\n",
       "\n",
       "    .dataframe thead th {\n",
       "        text-align: right;\n",
       "    }\n",
       "</style>\n",
       "<table border=\"1\" class=\"dataframe\">\n",
       "  <thead>\n",
       "    <tr style=\"text-align: right;\">\n",
       "      <th></th>\n",
       "      <th>PassengerId</th>\n",
       "      <th>Survived</th>\n",
       "      <th>Pclass</th>\n",
       "      <th>Name</th>\n",
       "      <th>Sex</th>\n",
       "      <th>Age</th>\n",
       "      <th>SibSp</th>\n",
       "      <th>Parch</th>\n",
       "      <th>Ticket</th>\n",
       "      <th>Fare</th>\n",
       "      <th>Cabin</th>\n",
       "      <th>Embarked</th>\n",
       "    </tr>\n",
       "  </thead>\n",
       "  <tbody>\n",
       "    <tr>\n",
       "      <th>0</th>\n",
       "      <td>1</td>\n",
       "      <td>0</td>\n",
       "      <td>3</td>\n",
       "      <td>Braund, Mr. Owen Harris</td>\n",
       "      <td>male</td>\n",
       "      <td>22.0</td>\n",
       "      <td>1</td>\n",
       "      <td>0</td>\n",
       "      <td>A/5 21171</td>\n",
       "      <td>7.2500</td>\n",
       "      <td>NaN</td>\n",
       "      <td>S</td>\n",
       "    </tr>\n",
       "    <tr>\n",
       "      <th>1</th>\n",
       "      <td>2</td>\n",
       "      <td>1</td>\n",
       "      <td>1</td>\n",
       "      <td>Cumings, Mrs. John Bradley (Florence Briggs Th...</td>\n",
       "      <td>female</td>\n",
       "      <td>38.0</td>\n",
       "      <td>1</td>\n",
       "      <td>0</td>\n",
       "      <td>PC 17599</td>\n",
       "      <td>71.2833</td>\n",
       "      <td>C85</td>\n",
       "      <td>C</td>\n",
       "    </tr>\n",
       "    <tr>\n",
       "      <th>2</th>\n",
       "      <td>3</td>\n",
       "      <td>1</td>\n",
       "      <td>3</td>\n",
       "      <td>Heikkinen, Miss. Laina</td>\n",
       "      <td>female</td>\n",
       "      <td>26.0</td>\n",
       "      <td>0</td>\n",
       "      <td>0</td>\n",
       "      <td>STON/O2. 3101282</td>\n",
       "      <td>7.9250</td>\n",
       "      <td>NaN</td>\n",
       "      <td>S</td>\n",
       "    </tr>\n",
       "    <tr>\n",
       "      <th>3</th>\n",
       "      <td>4</td>\n",
       "      <td>1</td>\n",
       "      <td>1</td>\n",
       "      <td>Futrelle, Mrs. Jacques Heath (Lily May Peel)</td>\n",
       "      <td>female</td>\n",
       "      <td>35.0</td>\n",
       "      <td>1</td>\n",
       "      <td>0</td>\n",
       "      <td>113803</td>\n",
       "      <td>53.1000</td>\n",
       "      <td>C123</td>\n",
       "      <td>S</td>\n",
       "    </tr>\n",
       "    <tr>\n",
       "      <th>4</th>\n",
       "      <td>5</td>\n",
       "      <td>0</td>\n",
       "      <td>3</td>\n",
       "      <td>Allen, Mr. William Henry</td>\n",
       "      <td>male</td>\n",
       "      <td>35.0</td>\n",
       "      <td>0</td>\n",
       "      <td>0</td>\n",
       "      <td>373450</td>\n",
       "      <td>8.0500</td>\n",
       "      <td>NaN</td>\n",
       "      <td>S</td>\n",
       "    </tr>\n",
       "  </tbody>\n",
       "</table>\n",
       "</div>"
      ],
      "text/plain": [
       "   PassengerId  Survived  Pclass  \\\n",
       "0            1         0       3   \n",
       "1            2         1       1   \n",
       "2            3         1       3   \n",
       "3            4         1       1   \n",
       "4            5         0       3   \n",
       "\n",
       "                                                Name     Sex   Age  SibSp  \\\n",
       "0                            Braund, Mr. Owen Harris    male  22.0      1   \n",
       "1  Cumings, Mrs. John Bradley (Florence Briggs Th...  female  38.0      1   \n",
       "2                             Heikkinen, Miss. Laina  female  26.0      0   \n",
       "3       Futrelle, Mrs. Jacques Heath (Lily May Peel)  female  35.0      1   \n",
       "4                           Allen, Mr. William Henry    male  35.0      0   \n",
       "\n",
       "   Parch            Ticket     Fare Cabin Embarked  \n",
       "0      0         A/5 21171   7.2500   NaN        S  \n",
       "1      0          PC 17599  71.2833   C85        C  \n",
       "2      0  STON/O2. 3101282   7.9250   NaN        S  \n",
       "3      0            113803  53.1000  C123        S  \n",
       "4      0            373450   8.0500   NaN        S  "
      ]
     },
     "execution_count": 44,
     "metadata": {},
     "output_type": "execute_result"
    }
   ],
   "source": [
    "titanic.head()\n",
    "\n"
   ]
  },
  {
   "cell_type": "code",
   "execution_count": 45,
   "metadata": {},
   "outputs": [
    {
     "name": "stdout",
     "output_type": "stream",
     "text": [
      "<class 'pandas.core.frame.DataFrame'>\n",
      "RangeIndex: 871 entries, 0 to 870\n",
      "Data columns (total 12 columns):\n",
      " #   Column       Non-Null Count  Dtype  \n",
      "---  ------       --------------  -----  \n",
      " 0   PassengerId  871 non-null    int64  \n",
      " 1   Survived     871 non-null    int64  \n",
      " 2   Pclass       871 non-null    int64  \n",
      " 3   Name         871 non-null    object \n",
      " 4   Sex          871 non-null    object \n",
      " 5   Age          696 non-null    float64\n",
      " 6   SibSp        871 non-null    int64  \n",
      " 7   Parch        871 non-null    int64  \n",
      " 8   Ticket       871 non-null    object \n",
      " 9   Fare         871 non-null    float64\n",
      " 10  Cabin        187 non-null    object \n",
      " 11  Embarked     869 non-null    object \n",
      "dtypes: float64(2), int64(5), object(5)\n",
      "memory usage: 81.8+ KB\n"
     ]
    }
   ],
   "source": [
    "titanic.info()"
   ]
  },
  {
   "cell_type": "code",
   "execution_count": 46,
   "metadata": {},
   "outputs": [
    {
     "data": {
      "text/html": [
       "<div>\n",
       "<style scoped>\n",
       "    .dataframe tbody tr th:only-of-type {\n",
       "        vertical-align: middle;\n",
       "    }\n",
       "\n",
       "    .dataframe tbody tr th {\n",
       "        vertical-align: top;\n",
       "    }\n",
       "\n",
       "    .dataframe thead th {\n",
       "        text-align: right;\n",
       "    }\n",
       "</style>\n",
       "<table border=\"1\" class=\"dataframe\">\n",
       "  <thead>\n",
       "    <tr style=\"text-align: right;\">\n",
       "      <th></th>\n",
       "      <th>PassengerId</th>\n",
       "      <th>Survived</th>\n",
       "      <th>Pclass</th>\n",
       "      <th>Age</th>\n",
       "      <th>SibSp</th>\n",
       "      <th>Parch</th>\n",
       "      <th>Fare</th>\n",
       "    </tr>\n",
       "  </thead>\n",
       "  <tbody>\n",
       "    <tr>\n",
       "      <th>count</th>\n",
       "      <td>871.000000</td>\n",
       "      <td>871.000000</td>\n",
       "      <td>871.000000</td>\n",
       "      <td>696.000000</td>\n",
       "      <td>871.000000</td>\n",
       "      <td>871.000000</td>\n",
       "      <td>871.000000</td>\n",
       "    </tr>\n",
       "    <tr>\n",
       "      <th>mean</th>\n",
       "      <td>445.319173</td>\n",
       "      <td>0.376579</td>\n",
       "      <td>2.338691</td>\n",
       "      <td>29.661164</td>\n",
       "      <td>0.517796</td>\n",
       "      <td>0.366246</td>\n",
       "      <td>26.530170</td>\n",
       "    </tr>\n",
       "    <tr>\n",
       "      <th>std</th>\n",
       "      <td>257.761917</td>\n",
       "      <td>0.484806</td>\n",
       "      <td>0.821469</td>\n",
       "      <td>14.571894</td>\n",
       "      <td>1.101448</td>\n",
       "      <td>0.792325</td>\n",
       "      <td>29.351184</td>\n",
       "    </tr>\n",
       "    <tr>\n",
       "      <th>min</th>\n",
       "      <td>1.000000</td>\n",
       "      <td>0.000000</td>\n",
       "      <td>1.000000</td>\n",
       "      <td>0.420000</td>\n",
       "      <td>0.000000</td>\n",
       "      <td>0.000000</td>\n",
       "      <td>0.000000</td>\n",
       "    </tr>\n",
       "    <tr>\n",
       "      <th>25%</th>\n",
       "      <td>221.500000</td>\n",
       "      <td>0.000000</td>\n",
       "      <td>2.000000</td>\n",
       "      <td>20.000000</td>\n",
       "      <td>0.000000</td>\n",
       "      <td>0.000000</td>\n",
       "      <td>7.895800</td>\n",
       "    </tr>\n",
       "    <tr>\n",
       "      <th>50%</th>\n",
       "      <td>446.000000</td>\n",
       "      <td>0.000000</td>\n",
       "      <td>3.000000</td>\n",
       "      <td>28.000000</td>\n",
       "      <td>0.000000</td>\n",
       "      <td>0.000000</td>\n",
       "      <td>13.862500</td>\n",
       "    </tr>\n",
       "    <tr>\n",
       "      <th>75%</th>\n",
       "      <td>665.500000</td>\n",
       "      <td>1.000000</td>\n",
       "      <td>3.000000</td>\n",
       "      <td>38.000000</td>\n",
       "      <td>1.000000</td>\n",
       "      <td>0.000000</td>\n",
       "      <td>30.000000</td>\n",
       "    </tr>\n",
       "    <tr>\n",
       "      <th>max</th>\n",
       "      <td>891.000000</td>\n",
       "      <td>1.000000</td>\n",
       "      <td>3.000000</td>\n",
       "      <td>80.000000</td>\n",
       "      <td>8.000000</td>\n",
       "      <td>6.000000</td>\n",
       "      <td>164.866700</td>\n",
       "    </tr>\n",
       "  </tbody>\n",
       "</table>\n",
       "</div>"
      ],
      "text/plain": [
       "       PassengerId    Survived      Pclass         Age       SibSp  \\\n",
       "count   871.000000  871.000000  871.000000  696.000000  871.000000   \n",
       "mean    445.319173    0.376579    2.338691   29.661164    0.517796   \n",
       "std     257.761917    0.484806    0.821469   14.571894    1.101448   \n",
       "min       1.000000    0.000000    1.000000    0.420000    0.000000   \n",
       "25%     221.500000    0.000000    2.000000   20.000000    0.000000   \n",
       "50%     446.000000    0.000000    3.000000   28.000000    0.000000   \n",
       "75%     665.500000    1.000000    3.000000   38.000000    1.000000   \n",
       "max     891.000000    1.000000    3.000000   80.000000    8.000000   \n",
       "\n",
       "            Parch        Fare  \n",
       "count  871.000000  871.000000  \n",
       "mean     0.366246   26.530170  \n",
       "std      0.792325   29.351184  \n",
       "min      0.000000    0.000000  \n",
       "25%      0.000000    7.895800  \n",
       "50%      0.000000   13.862500  \n",
       "75%      0.000000   30.000000  \n",
       "max      6.000000  164.866700  "
      ]
     },
     "execution_count": 46,
     "metadata": {},
     "output_type": "execute_result"
    }
   ],
   "source": [
    "titanic.describe()\n"
   ]
  },
  {
   "cell_type": "markdown",
   "metadata": {},
   "source": [
    "### Calculate the difference in mean fare paid by those who survived and those who died. Which group paid a higher average fare?"
   ]
  },
  {
   "cell_type": "code",
   "execution_count": 47,
   "metadata": {},
   "outputs": [],
   "source": [
    "#those who died column\n",
    "Died = titanic[titanic['Survived'] == 0]\n",
    "#those who survived column\n",
    "Survived = titanic[titanic['Survived'] == 1]\n",
    "\n"
   ]
  },
  {
   "cell_type": "code",
   "execution_count": 48,
   "metadata": {},
   "outputs": [
    {
     "data": {
      "text/plain": [
       "np.float64(19.720800920810312)"
      ]
     },
     "execution_count": 48,
     "metadata": {},
     "output_type": "execute_result"
    }
   ],
   "source": [
    "dies_mean_fare = Died['Fare'].mean()  \n",
    "dies_mean_fare  "
   ]
  },
  {
   "cell_type": "code",
   "execution_count": 49,
   "metadata": {},
   "outputs": [
    {
     "data": {
      "text/plain": [
       "np.float64(37.802998475609755)"
      ]
     },
     "execution_count": 49,
     "metadata": {},
     "output_type": "execute_result"
    }
   ],
   "source": [
    "survived_mean_fare = Survived['Fare'].mean()\n",
    "survived_mean_fare"
   ]
  },
  {
   "cell_type": "markdown",
   "metadata": {},
   "source": [
    "##### those who survived paid and avergae higher fare"
   ]
  },
  {
   "cell_type": "markdown",
   "metadata": {},
   "source": [
    "### Calculate the difference in median fare for those who survived and those who died."
   ]
  },
  {
   "cell_type": "code",
   "execution_count": 50,
   "metadata": {},
   "outputs": [
    {
     "data": {
      "text/plain": [
       "np.float64(10.4625)"
      ]
     },
     "execution_count": 50,
     "metadata": {},
     "output_type": "execute_result"
    }
   ],
   "source": [
    "died_median_fare = Died['Fare'].median()\n",
    "died_median_fare"
   ]
  },
  {
   "cell_type": "code",
   "execution_count": 51,
   "metadata": {},
   "outputs": [
    {
     "data": {
      "text/plain": [
       "np.float64(26.0)"
      ]
     },
     "execution_count": 51,
     "metadata": {},
     "output_type": "execute_result"
    }
   ],
   "source": [
    "survived_median_fare = Survived['Fare'].median()\n",
    "survived_median_fare"
   ]
  },
  {
   "cell_type": "code",
   "execution_count": 52,
   "metadata": {},
   "outputs": [
    {
     "data": {
      "text/plain": [
       "np.float64(15.5375)"
      ]
     },
     "execution_count": 52,
     "metadata": {},
     "output_type": "execute_result"
    }
   ],
   "source": [
    "survived_median_fare - died_median_fare"
   ]
  },
  {
   "cell_type": "markdown",
   "metadata": {},
   "source": [
    "### Side by side box plots by survival "
   ]
  },
  {
   "cell_type": "code",
   "execution_count": 53,
   "metadata": {},
   "outputs": [
    {
     "data": {
      "image/png": "[encoded data removed]",
      "text/plain": [
       "<Figure size 640x480 with 1 Axes>"
      ]
     },
     "metadata": {},
     "output_type": "display_data"
    }
   ],
   "source": [
    "sns.boxplot(x='Survived', y='Fare', data=titanic)\n",
    "plt.show()  "
   ]
  },
  {
   "cell_type": "code",
   "execution_count": 54,
   "metadata": {},
   "outputs": [
    {
     "data": {
      "text/plain": [
       "<Figure size 1000x2000 with 0 Axes>"
      ]
     },
     "metadata": {},
     "output_type": "display_data"
    }
   ],
   "source": [
    "#create subplots (scroll to see plots)\n",
    "fig = plt.figure(figsize = (10,20))"
   ]
  },
  {
   "cell_type": "code",
   "execution_count": 55,
   "metadata": {},
   "outputs": [
    {
     "data": {
      "image/png": "[encoded data removed]",
      "text/plain": [
       "<Figure size 640x480 with 1 Axes>"
      ]
     },
     "metadata": {},
     "output_type": "display_data"
    }
   ],
   "source": [
    "ax = fig.add_subplot(2,1,1)\n",
    "ax = sns.boxplot(data = titanic, x = 'Survived', y = 'Fare')"
   ]
  },
  {
   "cell_type": "code",
   "execution_count": 56,
   "metadata": {},
   "outputs": [
    {
     "ename": "ConversionError",
     "evalue": "Failed to convert value(s) to axis units: array(['Braund, Mr. Owen Harris', 'Allen, Mr. William Henry',\n       'Moran, Mr. James', 'McCarthy, Mr. Timothy J',\n       'Palsson, Master. Gosta Leonard', 'Saundercock, Mr. William Henry',\n       'Andersson, Mr. Anders Johan',\n       'Vestrom, Miss. Hulda Amanda Adolfina', 'Rice, Master. Eugene',\n       'Vander Planke, Mrs. Julius (Emelia Maria Vandemoortele)',\n       'Fynney, Mr. Joseph J', 'Palsson, Miss. Torborg Danira',\n       'Emir, Mr. Farred Chehab', 'Todoroff, Mr. Lalio',\n       'Uruchurtu, Don. Manuel E', 'Wheadon, Mr. Edward H',\n       'Meyer, Mr. Edgar Joseph', 'Holverson, Mr. Alexander Oskar',\n       'Cann, Mr. Ernest Charles', 'Vander Planke, Miss. Augusta Maria',\n       'Ahlin, Mrs. Johan (Johanna Persdotter Larsson)',\n       'Turpin, Mrs. William John Robert (Dorothy Ann Wonnacott)',\n       'Kraeff, Mr. Theodor', 'Rogers, Mr. William John',\n       'Lennon, Mr. Denis', 'Samaan, Mr. Youssef',\n       'Arnold-Franchi, Mrs. Josef (Josefine Franchi)',\n       'Panula, Master. Juha Niilo', 'Nosworthy, Mr. Richard Cater',\n       'Ostby, Mr. Engelhart Cornelius', 'Novel, Mr. Mansouer',\n       'Goodwin, Master. William Frederick', 'Sirayanian, Mr. Orsen',\n       'Harris, Mr. Henry Birkhardt', 'Skoog, Master. Harald',\n       'Stewart, Mr. Albert A', 'Crease, Mr. Ernest James',\n       'Kink, Mr. Vincenz', 'Jenkin, Mr. Stephen Curnow',\n       'Goodwin, Miss. Lillian Amy', 'Hood, Mr. Ambrose Jr',\n       'Chronopoulos, Mr. Apostolos', 'Moen, Mr. Sigurd Hansen',\n       'Staneff, Mr. Ivan', 'Moutal, Mr. Rahamin Haim',\n       'Waelens, Mr. Achille', 'Carrau, Mr. Francisco M',\n       'Ford, Mr. William Neal', 'Slocovski, Mr. Selman Francis',\n       'Celotti, Mr. Francesco', 'Christmann, Mr. Emil',\n       'Andreasson, Mr. Paul Edvin', 'Chaffee, Mr. Herbert Fuller',\n       'Dean, Mr. Bertram Frank', 'Coxon, Mr. Daniel',\n       'Shorney, Mr. Charles Joseph', 'Goldschmidt, Mr. George B',\n       'Kantor, Mr. Sinai', 'Petranec, Miss. Matilda',\n       'Petroff, Mr. Pastcho (\"Pentcho\")', 'White, Mr. Richard Frasar',\n       'Johansson, Mr. Gustaf Joel', 'Gustafsson, Mr. Anders Vilhelm',\n       'Mionoff, Mr. Stoytcho', 'Rekic, Mr. Tido',\n       'Porter, Mr. Walter Chamberlain', 'Zabour, Miss. Hileni',\n       'Barton, Mr. David John', 'Jussila, Miss. Katriina',\n       'Attalah, Miss. Malake', 'Pekoniemi, Mr. Edvard',\n       'Connors, Mr. Patrick', 'Turpin, Mr. William John Robert',\n       'Andersson, Miss. Ellis Anna Maria', 'Hickman, Mr. Stanley George',\n       'Moore, Mr. Leonard Charles', 'Nasser, Mr. Nicholas',\n       'White, Mr. Percival Wayland', 'McMahon, Mr. Martin',\n       'Ekstrom, Mr. Johan', 'Drazenoic, Mr. Jozef',\n       'Coelho, Mr. Domingos Fernandeo',\n       'Robins, Mrs. Alexander A (Grace Charity Laury)',\n       'Sobey, Mr. Samuel James Hayden', 'Richard, Mr. Emile',\n       'Futrelle, Mr. Jacques Heath', 'Osen, Mr. Olaf Elon',\n       'Giglio, Mr. Victor', 'Boulos, Mrs. Joseph (Sultana)',\n       'Burke, Mr. Jeremiah', 'Andrew, Mr. Edgardo Samuel',\n       'Nicholls, Mr. Joseph Charles', 'Ford, Miss. Robina Maggie \"Ruby\"',\n       'Navratil, Mr. Michel (\"Louis M Hoffman\")',\n       'Byles, Rev. Thomas Roussel Davids', 'Bateman, Rev. Robert James',\n       'Meo, Mr. Alfonzo', 'van Billiard, Mr. Austin Blyler',\n       'Olsen, Mr. Ole Martin', 'Williams, Mr. Charles Duane',\n       'Corn, Mr. Harry', 'Smiljanic, Mr. Mile',\n       'Sage, Master. Thomas Henry', 'Cribb, Mr. John Hatfield',\n       'Bengtsson, Mr. John Viktor', 'Calic, Mr. Jovo',\n       'Panula, Master. Eino Viljami',\n       'Skoog, Mrs. William (Anna Bernhardina Karlsson)',\n       'Baumann, Mr. John D', 'Ling, Mr. Lee',\n       'Van der hoef, Mr. Wyckoff', 'Rice, Master. Arthur',\n       'Sivola, Mr. Antti Wilhelm', 'Smith, Mr. James Clinch',\n       'Klasen, Mr. Klas Albin', 'Lefebre, Master. Henry Forbes',\n       'Isham, Miss. Ann Elizabeth', 'Hale, Mr. Reginald',\n       'Leonard, Mr. Lionel', 'Sage, Miss. Constance Gladys',\n       'Pernot, Mr. Rene', 'Asplund, Master. Clarence Gustaf Hugo',\n       'Rood, Mr. Hugh Roscoe', 'Bourke, Mr. John', 'Turcin, Mr. Stjepan',\n       'Carbines, Mr. William', 'Mernagh, Mr. Robert',\n       'Olsen, Mr. Karl Siegwart Andreas',\n       'Yrois, Miss. Henriette (\"Mrs Harbeck\")',\n       'Vande Walle, Mr. Nestor Cyriel', 'Sage, Mr. Frederick',\n       'Johanson, Mr. Jakob Alfred', 'Youseff, Mr. Gerious',\n       'Strom, Miss. Telma Matilda', 'Backstrom, Mr. Karl Alfred',\n       'Ali, Mr. Ahmed', 'Perkin, Mr. John Henry',\n       'Givard, Mr. Hans Kristensen', 'Kiernan, Mr. Philip',\n       'Jacobsohn, Mr. Sidney Samuel', 'Harris, Mr. Walter',\n       'Bracken, Mr. James H', 'Green, Mr. George Henry',\n       'Nenkoff, Mr. Christo', 'Berglund, Mr. Karl Ivar Sven',\n       'Lovell, Mr. John Hall (\"Henry\")', 'Fahlstrom, Mr. Arne Jonas',\n       'Lefebre, Miss. Mathilde', 'Larsson, Mr. Bengt Edvin',\n       'Sjostedt, Mr. Ernst Adolf', 'Leyson, Mr. Robert William Norman',\n       'Harknett, Miss. Alice Phoebe', 'Hold, Mr. Stephen',\n       'Pengelly, Mr. Frederick William', 'Hunt, Mr. George Henry',\n       'Zabour, Miss. Thamine', 'Coleridge, Mr. Reginald Charles',\n       'Maenpaa, Mr. Matti Alexanteri', 'Attalah, Mr. Sleiman',\n       'Minahan, Dr. William Edward',\n       'Lindahl, Miss. Agda Thorilda Viktoria',\n       'Carter, Rev. Ernest Courtenay', 'Reed, Mr. James George',\n       'Strom, Mrs. Wilhelm (Elna Matilda Persson)',\n       'Stead, Mr. William Thomas', 'Lobb, Mr. William Arthur',\n       'Rosblom, Mrs. Viktor (Helena Wilhelmina)', 'Smith, Mr. Thomas',\n       'Taussig, Mr. Emil', 'Harrison, Mr. William', 'Henry, Miss. Delia',\n       'Reeves, Mr. David', 'Panula, Mr. Ernesti Arvid',\n       'Cairns, Mr. Alexander', 'Natsch, Mr. Charles H',\n       'Lindblom, Miss. Augusta Charlotta', 'Parkes, Mr. Francis \"Frank\"',\n       'Rice, Master. Eric', 'Duane, Mr. Frank',\n       'Olsson, Mr. Nils Johan Goransson', 'de Pelsmaeker, Mr. Alfons',\n       'Smith, Mr. Richard William', 'Stankovic, Mr. Ivan',\n       'Naidenoff, Mr. Penko', 'Levy, Mr. Rene Jacques',\n       'Haas, Miss. Aloisia', 'Mineff, Mr. Ivan', 'Lewy, Mr. Ervin G',\n       'Hanna, Mr. Mansour', 'Allison, Miss. Helen Loraine',\n       'Johnson, Mr. William Cahoone Jr',\n       'Williams, Mr. Howard Hugh \"Harry\"', 'Abelson, Mr. Samuel',\n       'Lahtinen, Mrs. William (Anna Sylfven)', 'Hendekovic, Mr. Ignjac',\n       'Hart, Mr. Benjamin', 'Moraweck, Dr. Ernest', 'Dennis, Mr. Samuel',\n       'Danoff, Mr. Yoto', 'Sage, Mr. George John Jr',\n       'Nysveen, Mr. Johan Hansen', 'Partner, Mr. Austen',\n       'Graham, Mr. George Edward', 'Vander Planke, Mr. Leo Edmondus',\n       'Denkoff, Mr. Mitto', 'Pears, Mr. Thomas Clinton',\n       'Blackwell, Mr. Stephen Weart', 'Collander, Mr. Erik Gustaf',\n       'Sedgwick, Mr. Charles Frederick Waddington',\n       'Fox, Mr. Stanley Hubert', 'Dimic, Mr. Jovan',\n       'Odahl, Mr. Nils Martin', 'Williams-Lambert, Mr. Fletcher Fellows',\n       'Elias, Mr. Tannous', 'Arnold-Franchi, Mr. Josef',\n       'Yousif, Mr. Wazli', 'Vanden Steen, Mr. Leo Peter',\n       'Funk, Miss. Annie Clemmer', 'Skoog, Mr. Wilhelm',\n       'del Carlo, Mr. Sebastiano', 'Barbara, Mrs. (Catherine David)',\n       'Asim, Mr. Adola', \"O'Brien, Mr. Thomas\",\n       'Adahl, Mr. Mauritz Nils Martin', 'Wiklund, Mr. Jakob Alfred',\n       'Beavan, Mr. William Thomas', 'Ringhini, Mr. Sante',\n       'Palsson, Miss. Stina Viola', 'Betros, Mr. Tannous',\n       'Gustafsson, Mr. Karl Gideon', 'Tikkanen, Mr. Juho',\n       'Plotcharsky, Mr. Vasil', 'Davies, Mr. Charles Henry',\n       'Goodwin, Master. Sidney Leonard', 'Sadlier, Mr. Matthew',\n       'Gustafsson, Mr. Johan Birger', 'Johansson, Mr. Erik',\n       'Olsson, Miss. Elina', 'McKane, Mr. Peter David',\n       'Pain, Dr. Alfred', 'Adams, Mr. John', 'Jussila, Miss. Mari Aina',\n       'Hakkarainen, Mr. Pekka Pietari', 'Oreskovic, Miss. Marija',\n       'Gale, Mr. Shadrach', 'Widegren, Mr. Carl/Charles Peter',\n       'Birkeland, Mr. Hans Martin Monsen', 'Lefebre, Miss. Ida',\n       'Sdycoff, Mr. Todor', 'Hart, Mr. Henry',\n       'Cunningham, Mr. Alfred Fleming',\n       'Meek, Mrs. Thomas (Annie Louise Rowley)',\n       'Matthews, Mr. William John', 'Van Impe, Miss. Catharina',\n       'Gheorgheff, Mr. Stanio', 'Charters, Mr. David',\n       'Zimmerman, Mr. Leo',\n       'Danbom, Mrs. Ernst Gilbert (Anna Sigrid Maria Brogren)',\n       'Rosblom, Mr. Viktor Richard', 'Wiseman, Mr. Phillippe',\n       'Flynn, Mr. James', 'Kallio, Mr. Nikolai Erland',\n       'Silvey, Mr. William Baird',\n       'Ford, Miss. Doolina Margaret \"Daisy\"',\n       'Kvillner, Mr. Johan Henrik Johannesson', 'Hampe, Mr. Leon',\n       'Petterson, Mr. Johan Emil', 'West, Mr. Edwy Arthur',\n       'Hagland, Mr. Ingvald Olai Olsen',\n       'Foreman, Mr. Benjamin Laventall', 'Peduzzi, Mr. Joseph',\n       'Millet, Mr. Francis Davis', \"O'Connor, Mr. Maurice\",\n       'Morley, Mr. William', 'Gee, Mr. Arthur H',\n       'Milling, Mr. Jacob Christian', 'Maisner, Mr. Simon',\n       'Goncalves, Mr. Manuel Estanslas', 'Campbell, Mr. William',\n       'Smart, Mr. John Montgomery', 'Scanlan, Mr. James',\n       'Keefe, Mr. Arthur', 'Cacic, Mr. Luka',\n       'Strandberg, Miss. Ida Sofia', 'Clifford, Mr. George Quincy',\n       'Renouf, Mr. Peter Henry', 'Braund, Mr. Lewis Richard',\n       'Karlsson, Mr. Nils August', 'Goodwin, Master. Harold Victor',\n       'Frost, Mr. Anthony Wood \"Archie\"', 'Rouse, Mr. Richard Henry',\n       'Lefebre, Miss. Jeannie', 'Kent, Mr. Edward Austin',\n       'Somerton, Mr. Francis William',\n       'Hagland, Mr. Konrad Mathias Reiersen', 'Windelov, Mr. Einar',\n       'Molson, Mr. Harry Markland', 'Artagaveytia, Mr. Ramon',\n       'Stanley, Mr. Edward Roland', 'Yousseff, Mr. Gerious',\n       'Shellard, Mr. Frederick William',\n       'Allison, Mrs. Hudson J C (Bessie Waldo Daniels)',\n       'Svensson, Mr. Olof', 'Calic, Mr. Petar', 'Canavan, Miss. Mary',\n       \"O'Sullivan, Miss. Bridget Mary\", 'Laitinen, Miss. Kristina Sofia',\n       'Penasco y Castellana, Mr. Victor de Satode',\n       'Olsen, Mr. Henry Margido', 'Webber, Mr. James',\n       'Coleff, Mr. Satio', 'Walker, Mr. William Anderson',\n       'Ryan, Mr. Patrick', 'Pavlovic, Mr. Stefo', 'Vovk, Mr. Janko',\n       'Lahoud, Mr. Sarkis', 'Kassem, Mr. Fared', 'Farrell, Mr. James',\n       'Salonen, Mr. Johan Werner', 'Hocking, Mr. Richard George',\n       'Toufik, Mr. Nakli', 'Elias, Mr. Joseph Jr', 'Cacic, Miss. Marija',\n       'Butt, Major. Archibald Willingham', 'Risien, Mr. Samuel Beard',\n       'Andersson, Miss. Ingeborg Constanzia',\n       'Andersson, Miss. Sigrid Elisabeth', 'Douglas, Mr. Walter Donald',\n       'Nicholson, Mr. Arthur Ernest', 'Goldsmith, Mr. Frank John',\n       'Sharp, Mr. Percival James R', \"O'Brien, Mr. Timothy\",\n       'Wright, Mr. George', 'Morrow, Mr. Thomas Rowan',\n       'Sivic, Mr. Husein', 'Norman, Mr. Robert Douglas',\n       'Simmons, Mr. John', 'Meanwell, Miss. (Marion Ogden)',\n       'Davies, Mr. Alfred J', 'Stoytcheff, Mr. Ilia',\n       'Palsson, Mrs. Nils (Alma Cornelia Berglund)',\n       'Doharr, Mr. Tannous', 'Rush, Mr. Alfred George John',\n       'Patchett, Mr. George', 'Caram, Mrs. Joseph (Maria Elias)',\n       'Downton, Mr. William James', 'Ross, Mr. John Hugo',\n       'Paulner, Mr. Uscher', 'Jarvis, Mr. John Denzil',\n       'Gilinski, Mr. Eliezer', 'Murdlin, Mr. Joseph',\n       'Rintamaki, Mr. Matti', 'Elsbury, Mr. William James',\n       'Bourke, Miss. Mary', 'Chapman, Mr. John Henry',\n       'Van Impe, Mr. Jean Baptiste', 'Johnson, Mr. Alfred',\n       'Boulos, Mr. Hanna', 'Slabenoff, Mr. Petco',\n       'Harrington, Mr. Charles H', 'Torber, Mr. Ernst William',\n       'Lindell, Mr. Edvard Bengtsson', 'Karaic, Mr. Milan',\n       'Andersson, Mrs. Anders Johan (Alfrida Konstantia Brogren)',\n       'Jardin, Mr. Jose Neto', 'Horgan, Mr. John',\n       'Brocklebank, Mr. William Alfred', 'Danbom, Mr. Ernst Gilbert',\n       'Lobb, Mrs. William Arthur (Cordelia K Stanlick)',\n       'Gavey, Mr. Lawrence', 'Yasbeck, Mr. Antoni',\n       'Hansen, Mr. Henry Damsgaard', 'Bowen, Mr. David John \"Dai\"',\n       'Sutton, Mr. Frederick', 'Kirkland, Rev. Charles Leonard',\n       'Bostandyeff, Mr. Guentcho', \"O'Connell, Mr. Patrick D\",\n       'Lundahl, Mr. Johan Svensson', 'Parr, Mr. William Henry Marsh',\n       'Skoog, Miss. Mabel', 'Leinonen, Mr. Antti Gustaf',\n       'Collyer, Mr. Harvey', 'Panula, Mrs. Juha (Maria Emilia Ojala)',\n       'Thorneycroft, Mr. Percival', 'Jensen, Mr. Hans Peder',\n       'Skoog, Miss. Margit Elizabeth', 'Cor, Mr. Liudevit',\n       'Willey, Mr. Edward', 'Mitkoff, Mr. Mito',\n       'Kalvik, Mr. Johannes Halvorsen', 'Hegarty, Miss. Hanora \"Nora\"',\n       'Hickman, Mr. Leonard Mark', 'Radeff, Mr. Alexander',\n       'Bourke, Mrs. John (Catherine)', 'Eitemiller, Mr. George Floyd',\n       'Newell, Mr. Arthur Webster', 'Badt, Mr. Mohamed',\n       'Colley, Mr. Edward Pomeroy', 'Coleff, Mr. Peju',\n       'Hickman, Mr. Lewis', 'Butler, Mr. Reginald Fenton',\n       'Rommetvedt, Mr. Knud Paust', 'Cook, Mr. Jacob',\n       'Davidson, Mr. Thornton', 'Mitchell, Mr. Henry Michael',\n       'Watson, Mr. Ennis Hastings', 'Edvardsson, Mr. Gustaf Hjalmar',\n       'Sawyer, Mr. Frederick Charles',\n       'Goodwin, Mrs. Frederick (Augusta Tyler)', 'Peters, Miss. Katie',\n       'Olsvigen, Mr. Thor Anderson', 'Goodwin, Mr. Charles Edward',\n       'Brown, Mr. Thomas William Solomon',\n       'Laroche, Mr. Joseph Philippe Lemercier',\n       'Panula, Mr. Jaako Arnold', 'Dakic, Mr. Branko',\n       'Fischer, Mr. Eberhard Thelander', 'Saad, Mr. Khalil',\n       'Weir, Col. John', 'Chapman, Mr. Charles Henry',\n       'Kelly, Mr. James', 'Thayer, Mr. John Borland',\n       'Humblen, Mr. Adolf Mathias Nicolai Olsen',\n       'Barbara, Miss. Saiide', 'Gallagher, Mr. Martin',\n       'Hansen, Mr. Henrik Juul',\n       'Morley, Mr. Henry Samuel (\"Mr Henry Marshall\")',\n       'Klaber, Mr. Herman', 'Larsson, Mr. August Viktor',\n       'Greenberg, Mr. Samuel',\n       'Soholt, Mr. Peter Andreas Lauritz Andersen',\n       'McEvoy, Mr. Michael', 'Johnson, Mr. Malkolm Joackim',\n       'Jensen, Mr. Svend Lauritz', 'Gillespie, Mr. William Henry',\n       'Hodges, Mr. Henry Price', 'Oreskovic, Mr. Luka',\n       'Bryhl, Mr. Kurt Arnold Gottfrid', 'Ilmakangas, Miss. Pieta Sofia',\n       'Hassan, Mr. Houssein G N', 'Knight, Mr. Robert J',\n       'Berriman, Mr. William John', 'Troupiansky, Mr. Moses Aaron',\n       'Williams, Mr. Leslie', 'Ford, Mrs. Edward (Margaret Ann Watson)',\n       'Ivanoff, Mr. Kanio', 'Nankoff, Mr. Minko',\n       'Cavendish, Mr. Tyrell William', 'McNamee, Mr. Neal',\n       'Crosby, Capt. Edward Gifford', 'Abbott, Mr. Rossmore Edward',\n       'Marvin, Mr. Daniel Warner', 'Connaghton, Mr. Michael',\n       'Vande Velde, Mr. Johannes Joseph', 'Jonkoff, Mr. Lalio',\n       'Carlsson, Mr. August Sigfrid', 'Bailey, Mr. Percy Andrew',\n       'Theobald, Mr. Thomas Leonard', 'Garfirth, Mr. John',\n       'Nirva, Mr. Iisakki Antino Aijo', 'Eklund, Mr. Hans Linus',\n       'Brewe, Dr. Arthur Jackson', 'Mangan, Miss. Mary',\n       'Moran, Mr. Daniel J', 'Gronnestad, Mr. Daniel Danielsen',\n       'Lievens, Mr. Rene Aime', 'Jensen, Mr. Niels Peder',\n       'Mack, Mrs. (Mary)', 'Elias, Mr. Dibo',\n       'Myhrman, Mr. Pehr Fabian Oliver Malkolm', 'Tobin, Mr. Roger',\n       'Kilgannon, Mr. Thomas J', 'Long, Mr. Milton Clyde',\n       'Johnston, Mr. Andrew G', 'Ali, Mr. William',\n       'Harmer, Mr. Abraham (David Lishin)', 'Rice, Master. George Hugh',\n       'Guggenheim, Mr. Benjamin', 'Keane, Mr. Andrew \"Andy\"',\n       'Gaskell, Mr. Alfred', 'Sage, Miss. Stella Anna',\n       'Hoyt, Mr. William Fisher', 'Dantcheff, Mr. Ristiu',\n       'Otter, Mr. Richard', 'Ibrahim Shawah, Mr. Yousseff',\n       'Van Impe, Mrs. Jean Baptiste (Rosalie Paula Govaert)',\n       'Ponesell, Mr. Martin', 'Johansson, Mr. Karl Johan',\n       'Andrews, Mr. Thomas Jr', 'Pettersson, Miss. Ellen Natalia',\n       'Meyer, Mr. August', 'Alexander, Mr. William', 'Lester, Mr. James',\n       'Slemen, Mr. Richard James', 'Andersson, Miss. Ebba Iris Alfrida',\n       'Tomlin, Mr. Ernest Portage', 'Fry, Mr. Richard',\n       'Heininen, Miss. Wendla Maria', 'Mallet, Mr. Albert',\n       'Holm, Mr. John Fredrik Alexander', 'Skoog, Master. Karl Thorsten',\n       'Reuchlin, Jonkheer. John George', 'Panula, Master. Urho Abraham',\n       'Flynn, Mr. John', 'Lam, Mr. Len', 'Saad, Mr. Amin',\n       'Augustsson, Mr. Albert', 'Allum, Mr. Owen George',\n       'Pasic, Mr. Jakob', 'Sirota, Mr. Maurice',\n       'Alhomaki, Mr. Ilmari Rudolf', 'Mudd, Mr. Thomas Charles',\n       'Lemberopolous, Mr. Peter L', 'Culumovic, Mr. Jeso',\n       'Abbing, Mr. Anthony', 'Sage, Mr. Douglas Bullen',\n       'Markoff, Mr. Marin', 'Harper, Rev. John',\n       'Andersson, Master. Sigvard Harald Elias', 'Svensson, Mr. Johan',\n       'Boulos, Miss. Nourelain',\n       'Carter, Mrs. Ernest Courtenay (Lilian Hughes)',\n       'Razi, Mr. Raihed', 'Hansen, Mr. Claus Peter',\n       'Giles, Mr. Frederick Edward', 'Sage, Miss. Dorothy Edith \"Dolly\"',\n       'Gill, Mr. John William', 'Roebling, Mr. Washington Augustus II',\n       'van Melkebeke, Mr. Philemon', 'Balkic, Mr. Cerin',\n       'Carlsson, Mr. Frans Olof', 'Vander Cruyssen, Mr. Victor',\n       'Gustafsson, Mr. Alfred Ossian', 'Petroff, Mr. Nedelio',\n       'Laleff, Mr. Kristo', 'Markun, Mr. Johann',\n       'Dahlberg, Miss. Gerda Ulrika', 'Banfield, Mr. Frederick James',\n       'Sutehall, Mr. Henry Jr', 'Rice, Mrs. William (Margaret Norton)',\n       'Montvila, Rev. Juozas',\n       'Johnston, Miss. Catherine Helen \"Carrie\"', 'Dooley, Mr. Patrick'],\n      dtype=object)",
     "output_type": "error",
     "traceback": [
      "\u001b[1;31m---------------------------------------------------------------------------\u001b[0m",
      "\u001b[1;31mValueError\u001b[0m                                Traceback (most recent call last)",
      "File \u001b[1;32me:\\Coding\\Chat-GPT-Learning\\.venv\\Lib\\site-packages\\matplotlib\\axis.py:1813\u001b[0m, in \u001b[0;36mAxis.convert_units\u001b[1;34m(self, x)\u001b[0m\n\u001b[0;32m   1812\u001b[0m \u001b[38;5;28;01mtry\u001b[39;00m:\n\u001b[1;32m-> 1813\u001b[0m     ret \u001b[38;5;241m=\u001b[39m \u001b[38;5;28;43mself\u001b[39;49m\u001b[38;5;241;43m.\u001b[39;49m\u001b[43mconverter\u001b[49m\u001b[38;5;241;43m.\u001b[39;49m\u001b[43mconvert\u001b[49m\u001b[43m(\u001b[49m\u001b[43mx\u001b[49m\u001b[43m,\u001b[49m\u001b[43m \u001b[49m\u001b[38;5;28;43mself\u001b[39;49m\u001b[38;5;241;43m.\u001b[39;49m\u001b[43munits\u001b[49m\u001b[43m,\u001b[49m\u001b[43m \u001b[49m\u001b[38;5;28;43mself\u001b[39;49m\u001b[43m)\u001b[49m\n\u001b[0;32m   1814\u001b[0m \u001b[38;5;28;01mexcept\u001b[39;00m \u001b[38;5;167;01mException\u001b[39;00m \u001b[38;5;28;01mas\u001b[39;00m e:\n",
      "File \u001b[1;32me:\\Coding\\Chat-GPT-Learning\\.venv\\Lib\\site-packages\\matplotlib\\category.py:49\u001b[0m, in \u001b[0;36mStrCategoryConverter.convert\u001b[1;34m(value, unit, axis)\u001b[0m\n\u001b[0;32m     48\u001b[0m \u001b[38;5;28;01mif\u001b[39;00m unit \u001b[38;5;129;01mis\u001b[39;00m \u001b[38;5;28;01mNone\u001b[39;00m:\n\u001b[1;32m---> 49\u001b[0m     \u001b[38;5;28;01mraise\u001b[39;00m \u001b[38;5;167;01mValueError\u001b[39;00m(\n\u001b[0;32m     50\u001b[0m         \u001b[38;5;124m'\u001b[39m\u001b[38;5;124mMissing category information for StrCategoryConverter; \u001b[39m\u001b[38;5;124m'\u001b[39m\n\u001b[0;32m     51\u001b[0m         \u001b[38;5;124m'\u001b[39m\u001b[38;5;124mthis might be caused by unintendedly mixing categorical and \u001b[39m\u001b[38;5;124m'\u001b[39m\n\u001b[0;32m     52\u001b[0m         \u001b[38;5;124m'\u001b[39m\u001b[38;5;124mnumeric data\u001b[39m\u001b[38;5;124m'\u001b[39m)\n\u001b[0;32m     53\u001b[0m StrCategoryConverter\u001b[38;5;241m.\u001b[39m_validate_unit(unit)\n",
      "\u001b[1;31mValueError\u001b[0m: Missing category information for StrCategoryConverter; this might be caused by unintendedly mixing categorical and numeric data",
      "\nThe above exception was the direct cause of the following exception:\n",
      "\u001b[1;31mConversionError\u001b[0m                           Traceback (most recent call last)",
      "Cell \u001b[1;32mIn[56], line 3\u001b[0m\n\u001b[0;32m      1\u001b[0m \u001b[38;5;66;03m#create the histograms:\u001b[39;00m\n\u001b[0;32m      2\u001b[0m ax \u001b[38;5;241m=\u001b[39m fig\u001b[38;5;241m.\u001b[39madd_subplot(\u001b[38;5;241m2\u001b[39m,\u001b[38;5;241m1\u001b[39m,\u001b[38;5;241m2\u001b[39m)\n\u001b[1;32m----> 3\u001b[0m ax \u001b[38;5;241m=\u001b[39m \u001b[43mplt\u001b[49m\u001b[38;5;241;43m.\u001b[39;49m\u001b[43mhist\u001b[49m\u001b[43m(\u001b[49m\u001b[43mDied\u001b[49m\u001b[43m,\u001b[49m\u001b[43m \u001b[49m\u001b[43mcolor\u001b[49m\u001b[38;5;241;43m=\u001b[39;49m\u001b[38;5;124;43m\"\u001b[39;49m\u001b[38;5;124;43mblue\u001b[39;49m\u001b[38;5;124;43m\"\u001b[39;49m\u001b[43m,\u001b[49m\u001b[43m \u001b[49m\u001b[43mlabel\u001b[49m\u001b[38;5;241;43m=\u001b[39;49m\u001b[38;5;124;43m\"\u001b[39;49m\u001b[38;5;124;43mDied\u001b[39;49m\u001b[38;5;124;43m\"\u001b[39;49m\u001b[43m,\u001b[49m\u001b[43m \u001b[49m\u001b[43mnormed\u001b[49m\u001b[38;5;241;43m=\u001b[39;49m\u001b[38;5;28;43;01mTrue\u001b[39;49;00m\u001b[43m,\u001b[49m\u001b[43m \u001b[49m\u001b[43malpha\u001b[49m\u001b[38;5;241;43m=\u001b[39;49m\u001b[38;5;241;43m0.5\u001b[39;49m\u001b[43m)\u001b[49m\n\u001b[0;32m      4\u001b[0m ax \u001b[38;5;241m=\u001b[39m plt\u001b[38;5;241m.\u001b[39mhist(Survived, color\u001b[38;5;241m=\u001b[39m\u001b[38;5;124m\"\u001b[39m\u001b[38;5;124mred\u001b[39m\u001b[38;5;124m\"\u001b[39m, label\u001b[38;5;241m=\u001b[39m\u001b[38;5;124m\"\u001b[39m\u001b[38;5;124mSurvived\u001b[39m\u001b[38;5;124m\"\u001b[39m, normed\u001b[38;5;241m=\u001b[39m\u001b[38;5;28;01mTrue\u001b[39;00m, alpha\u001b[38;5;241m=\u001b[39m\u001b[38;5;241m0.5\u001b[39m)\n\u001b[0;32m      5\u001b[0m ax \u001b[38;5;241m=\u001b[39m plt\u001b[38;5;241m.\u001b[39mlegend()\n",
      "File \u001b[1;32me:\\Coding\\Chat-GPT-Learning\\.venv\\Lib\\site-packages\\matplotlib\\pyplot.py:3440\u001b[0m, in \u001b[0;36mhist\u001b[1;34m(x, bins, range, density, weights, cumulative, bottom, histtype, align, orientation, rwidth, log, color, label, stacked, data, **kwargs)\u001b[0m\n\u001b[0;32m   3415\u001b[0m \u001b[38;5;129m@_copy_docstring_and_deprecators\u001b[39m(Axes\u001b[38;5;241m.\u001b[39mhist)\n\u001b[0;32m   3416\u001b[0m \u001b[38;5;28;01mdef\u001b[39;00m \u001b[38;5;21mhist\u001b[39m(\n\u001b[0;32m   3417\u001b[0m     x: ArrayLike \u001b[38;5;241m|\u001b[39m Sequence[ArrayLike],\n\u001b[1;32m   (...)\u001b[0m\n\u001b[0;32m   3438\u001b[0m     BarContainer \u001b[38;5;241m|\u001b[39m Polygon \u001b[38;5;241m|\u001b[39m \u001b[38;5;28mlist\u001b[39m[BarContainer \u001b[38;5;241m|\u001b[39m Polygon],\n\u001b[0;32m   3439\u001b[0m ]:\n\u001b[1;32m-> 3440\u001b[0m     \u001b[38;5;28;01mreturn\u001b[39;00m \u001b[43mgca\u001b[49m\u001b[43m(\u001b[49m\u001b[43m)\u001b[49m\u001b[38;5;241;43m.\u001b[39;49m\u001b[43mhist\u001b[49m\u001b[43m(\u001b[49m\n\u001b[0;32m   3441\u001b[0m \u001b[43m        \u001b[49m\u001b[43mx\u001b[49m\u001b[43m,\u001b[49m\n\u001b[0;32m   3442\u001b[0m \u001b[43m        \u001b[49m\u001b[43mbins\u001b[49m\u001b[38;5;241;43m=\u001b[39;49m\u001b[43mbins\u001b[49m\u001b[43m,\u001b[49m\n\u001b[0;32m   3443\u001b[0m \u001b[43m        \u001b[49m\u001b[38;5;28;43mrange\u001b[39;49m\u001b[38;5;241;43m=\u001b[39;49m\u001b[38;5;28;43mrange\u001b[39;49m\u001b[43m,\u001b[49m\n\u001b[0;32m   3444\u001b[0m \u001b[43m        \u001b[49m\u001b[43mdensity\u001b[49m\u001b[38;5;241;43m=\u001b[39;49m\u001b[43mdensity\u001b[49m\u001b[43m,\u001b[49m\n\u001b[0;32m   3445\u001b[0m \u001b[43m        \u001b[49m\u001b[43mweights\u001b[49m\u001b[38;5;241;43m=\u001b[39;49m\u001b[43mweights\u001b[49m\u001b[43m,\u001b[49m\n\u001b[0;32m   3446\u001b[0m \u001b[43m        \u001b[49m\u001b[43mcumulative\u001b[49m\u001b[38;5;241;43m=\u001b[39;49m\u001b[43mcumulative\u001b[49m\u001b[43m,\u001b[49m\n\u001b[0;32m   3447\u001b[0m \u001b[43m        \u001b[49m\u001b[43mbottom\u001b[49m\u001b[38;5;241;43m=\u001b[39;49m\u001b[43mbottom\u001b[49m\u001b[43m,\u001b[49m\n\u001b[0;32m   3448\u001b[0m \u001b[43m        \u001b[49m\u001b[43mhisttype\u001b[49m\u001b[38;5;241;43m=\u001b[39;49m\u001b[43mhisttype\u001b[49m\u001b[43m,\u001b[49m\n\u001b[0;32m   3449\u001b[0m \u001b[43m        \u001b[49m\u001b[43malign\u001b[49m\u001b[38;5;241;43m=\u001b[39;49m\u001b[43malign\u001b[49m\u001b[43m,\u001b[49m\n\u001b[0;32m   3450\u001b[0m \u001b[43m        \u001b[49m\u001b[43morientation\u001b[49m\u001b[38;5;241;43m=\u001b[39;49m\u001b[43morientation\u001b[49m\u001b[43m,\u001b[49m\n\u001b[0;32m   3451\u001b[0m \u001b[43m        \u001b[49m\u001b[43mrwidth\u001b[49m\u001b[38;5;241;43m=\u001b[39;49m\u001b[43mrwidth\u001b[49m\u001b[43m,\u001b[49m\n\u001b[0;32m   3452\u001b[0m \u001b[43m        \u001b[49m\u001b[43mlog\u001b[49m\u001b[38;5;241;43m=\u001b[39;49m\u001b[43mlog\u001b[49m\u001b[43m,\u001b[49m\n\u001b[0;32m   3453\u001b[0m \u001b[43m        \u001b[49m\u001b[43mcolor\u001b[49m\u001b[38;5;241;43m=\u001b[39;49m\u001b[43mcolor\u001b[49m\u001b[43m,\u001b[49m\n\u001b[0;32m   3454\u001b[0m \u001b[43m        \u001b[49m\u001b[43mlabel\u001b[49m\u001b[38;5;241;43m=\u001b[39;49m\u001b[43mlabel\u001b[49m\u001b[43m,\u001b[49m\n\u001b[0;32m   3455\u001b[0m \u001b[43m        \u001b[49m\u001b[43mstacked\u001b[49m\u001b[38;5;241;43m=\u001b[39;49m\u001b[43mstacked\u001b[49m\u001b[43m,\u001b[49m\n\u001b[0;32m   3456\u001b[0m \u001b[43m        \u001b[49m\u001b[38;5;241;43m*\u001b[39;49m\u001b[38;5;241;43m*\u001b[39;49m\u001b[43m(\u001b[49m\u001b[43m{\u001b[49m\u001b[38;5;124;43m\"\u001b[39;49m\u001b[38;5;124;43mdata\u001b[39;49m\u001b[38;5;124;43m\"\u001b[39;49m\u001b[43m:\u001b[49m\u001b[43m \u001b[49m\u001b[43mdata\u001b[49m\u001b[43m}\u001b[49m\u001b[43m \u001b[49m\u001b[38;5;28;43;01mif\u001b[39;49;00m\u001b[43m \u001b[49m\u001b[43mdata\u001b[49m\u001b[43m \u001b[49m\u001b[38;5;129;43;01mis\u001b[39;49;00m\u001b[43m \u001b[49m\u001b[38;5;129;43;01mnot\u001b[39;49;00m\u001b[43m \u001b[49m\u001b[38;5;28;43;01mNone\u001b[39;49;00m\u001b[43m \u001b[49m\u001b[38;5;28;43;01melse\u001b[39;49;00m\u001b[43m \u001b[49m\u001b[43m{\u001b[49m\u001b[43m}\u001b[49m\u001b[43m)\u001b[49m\u001b[43m,\u001b[49m\n\u001b[0;32m   3457\u001b[0m \u001b[43m        \u001b[49m\u001b[38;5;241;43m*\u001b[39;49m\u001b[38;5;241;43m*\u001b[39;49m\u001b[43mkwargs\u001b[49m\u001b[43m,\u001b[49m\n\u001b[0;32m   3458\u001b[0m \u001b[43m    \u001b[49m\u001b[43m)\u001b[49m\n",
      "File \u001b[1;32me:\\Coding\\Chat-GPT-Learning\\.venv\\Lib\\site-packages\\matplotlib\\__init__.py:1473\u001b[0m, in \u001b[0;36m_preprocess_data.<locals>.inner\u001b[1;34m(ax, data, *args, **kwargs)\u001b[0m\n\u001b[0;32m   1470\u001b[0m \u001b[38;5;129m@functools\u001b[39m\u001b[38;5;241m.\u001b[39mwraps(func)\n\u001b[0;32m   1471\u001b[0m \u001b[38;5;28;01mdef\u001b[39;00m \u001b[38;5;21minner\u001b[39m(ax, \u001b[38;5;241m*\u001b[39margs, data\u001b[38;5;241m=\u001b[39m\u001b[38;5;28;01mNone\u001b[39;00m, \u001b[38;5;241m*\u001b[39m\u001b[38;5;241m*\u001b[39mkwargs):\n\u001b[0;32m   1472\u001b[0m     \u001b[38;5;28;01mif\u001b[39;00m data \u001b[38;5;129;01mis\u001b[39;00m \u001b[38;5;28;01mNone\u001b[39;00m:\n\u001b[1;32m-> 1473\u001b[0m         \u001b[38;5;28;01mreturn\u001b[39;00m \u001b[43mfunc\u001b[49m\u001b[43m(\u001b[49m\n\u001b[0;32m   1474\u001b[0m \u001b[43m            \u001b[49m\u001b[43max\u001b[49m\u001b[43m,\u001b[49m\n\u001b[0;32m   1475\u001b[0m \u001b[43m            \u001b[49m\u001b[38;5;241;43m*\u001b[39;49m\u001b[38;5;28;43mmap\u001b[39;49m\u001b[43m(\u001b[49m\u001b[43msanitize_sequence\u001b[49m\u001b[43m,\u001b[49m\u001b[43m \u001b[49m\u001b[43margs\u001b[49m\u001b[43m)\u001b[49m\u001b[43m,\u001b[49m\n\u001b[0;32m   1476\u001b[0m \u001b[43m            \u001b[49m\u001b[38;5;241;43m*\u001b[39;49m\u001b[38;5;241;43m*\u001b[39;49m\u001b[43m{\u001b[49m\u001b[43mk\u001b[49m\u001b[43m:\u001b[49m\u001b[43m \u001b[49m\u001b[43msanitize_sequence\u001b[49m\u001b[43m(\u001b[49m\u001b[43mv\u001b[49m\u001b[43m)\u001b[49m\u001b[43m \u001b[49m\u001b[38;5;28;43;01mfor\u001b[39;49;00m\u001b[43m \u001b[49m\u001b[43mk\u001b[49m\u001b[43m,\u001b[49m\u001b[43m \u001b[49m\u001b[43mv\u001b[49m\u001b[43m \u001b[49m\u001b[38;5;129;43;01min\u001b[39;49;00m\u001b[43m \u001b[49m\u001b[43mkwargs\u001b[49m\u001b[38;5;241;43m.\u001b[39;49m\u001b[43mitems\u001b[49m\u001b[43m(\u001b[49m\u001b[43m)\u001b[49m\u001b[43m}\u001b[49m\u001b[43m)\u001b[49m\n\u001b[0;32m   1478\u001b[0m     bound \u001b[38;5;241m=\u001b[39m new_sig\u001b[38;5;241m.\u001b[39mbind(ax, \u001b[38;5;241m*\u001b[39margs, \u001b[38;5;241m*\u001b[39m\u001b[38;5;241m*\u001b[39mkwargs)\n\u001b[0;32m   1479\u001b[0m     auto_label \u001b[38;5;241m=\u001b[39m (bound\u001b[38;5;241m.\u001b[39marguments\u001b[38;5;241m.\u001b[39mget(label_namer)\n\u001b[0;32m   1480\u001b[0m                   \u001b[38;5;129;01mor\u001b[39;00m bound\u001b[38;5;241m.\u001b[39mkwargs\u001b[38;5;241m.\u001b[39mget(label_namer))\n",
      "File \u001b[1;32me:\\Coding\\Chat-GPT-Learning\\.venv\\Lib\\site-packages\\matplotlib\\axes\\_axes.py:6922\u001b[0m, in \u001b[0;36mAxes.hist\u001b[1;34m(self, x, bins, range, density, weights, cumulative, bottom, histtype, align, orientation, rwidth, log, color, label, stacked, **kwargs)\u001b[0m\n\u001b[0;32m   6920\u001b[0m \u001b[38;5;28;01mif\u001b[39;00m orientation \u001b[38;5;241m==\u001b[39m \u001b[38;5;124m\"\u001b[39m\u001b[38;5;124mvertical\u001b[39m\u001b[38;5;124m\"\u001b[39m:\n\u001b[0;32m   6921\u001b[0m     convert_units \u001b[38;5;241m=\u001b[39m \u001b[38;5;28mself\u001b[39m\u001b[38;5;241m.\u001b[39mconvert_xunits\n\u001b[1;32m-> 6922\u001b[0m     x \u001b[38;5;241m=\u001b[39m [\u001b[38;5;241m*\u001b[39m\u001b[38;5;28mself\u001b[39m\u001b[38;5;241m.\u001b[39m_process_unit_info([(\u001b[38;5;124m\"\u001b[39m\u001b[38;5;124mx\u001b[39m\u001b[38;5;124m\"\u001b[39m, x[\u001b[38;5;241m0\u001b[39m])], kwargs),\n\u001b[0;32m   6923\u001b[0m          \u001b[38;5;241m*\u001b[39m\u001b[38;5;28mmap\u001b[39m(convert_units, x[\u001b[38;5;241m1\u001b[39m:])]\n\u001b[0;32m   6924\u001b[0m \u001b[38;5;28;01melse\u001b[39;00m:  \u001b[38;5;66;03m# horizontal\u001b[39;00m\n\u001b[0;32m   6925\u001b[0m     convert_units \u001b[38;5;241m=\u001b[39m \u001b[38;5;28mself\u001b[39m\u001b[38;5;241m.\u001b[39mconvert_yunits\n",
      "File \u001b[1;32me:\\Coding\\Chat-GPT-Learning\\.venv\\Lib\\site-packages\\matplotlib\\artist.py:279\u001b[0m, in \u001b[0;36mArtist.convert_xunits\u001b[1;34m(self, x)\u001b[0m\n\u001b[0;32m    277\u001b[0m \u001b[38;5;28;01mif\u001b[39;00m ax \u001b[38;5;129;01mis\u001b[39;00m \u001b[38;5;28;01mNone\u001b[39;00m \u001b[38;5;129;01mor\u001b[39;00m ax\u001b[38;5;241m.\u001b[39mxaxis \u001b[38;5;129;01mis\u001b[39;00m \u001b[38;5;28;01mNone\u001b[39;00m:\n\u001b[0;32m    278\u001b[0m     \u001b[38;5;28;01mreturn\u001b[39;00m x\n\u001b[1;32m--> 279\u001b[0m \u001b[38;5;28;01mreturn\u001b[39;00m \u001b[43max\u001b[49m\u001b[38;5;241;43m.\u001b[39;49m\u001b[43mxaxis\u001b[49m\u001b[38;5;241;43m.\u001b[39;49m\u001b[43mconvert_units\u001b[49m\u001b[43m(\u001b[49m\u001b[43mx\u001b[49m\u001b[43m)\u001b[49m\n",
      "File \u001b[1;32me:\\Coding\\Chat-GPT-Learning\\.venv\\Lib\\site-packages\\matplotlib\\axis.py:1815\u001b[0m, in \u001b[0;36mAxis.convert_units\u001b[1;34m(self, x)\u001b[0m\n\u001b[0;32m   1813\u001b[0m     ret \u001b[38;5;241m=\u001b[39m \u001b[38;5;28mself\u001b[39m\u001b[38;5;241m.\u001b[39mconverter\u001b[38;5;241m.\u001b[39mconvert(x, \u001b[38;5;28mself\u001b[39m\u001b[38;5;241m.\u001b[39munits, \u001b[38;5;28mself\u001b[39m)\n\u001b[0;32m   1814\u001b[0m \u001b[38;5;28;01mexcept\u001b[39;00m \u001b[38;5;167;01mException\u001b[39;00m \u001b[38;5;28;01mas\u001b[39;00m e:\n\u001b[1;32m-> 1815\u001b[0m     \u001b[38;5;28;01mraise\u001b[39;00m munits\u001b[38;5;241m.\u001b[39mConversionError(\u001b[38;5;124m'\u001b[39m\u001b[38;5;124mFailed to convert value(s) to axis \u001b[39m\u001b[38;5;124m'\u001b[39m\n\u001b[0;32m   1816\u001b[0m                                  \u001b[38;5;124mf\u001b[39m\u001b[38;5;124m'\u001b[39m\u001b[38;5;124munits: \u001b[39m\u001b[38;5;132;01m{\u001b[39;00mx\u001b[38;5;132;01m!r}\u001b[39;00m\u001b[38;5;124m'\u001b[39m) \u001b[38;5;28;01mfrom\u001b[39;00m \u001b[38;5;21;01me\u001b[39;00m\n\u001b[0;32m   1817\u001b[0m \u001b[38;5;28;01mreturn\u001b[39;00m ret\n",
      "\u001b[1;31mConversionError\u001b[0m: Failed to convert value(s) to axis units: array(['Braund, Mr. Owen Harris', 'Allen, Mr. William Henry',\n       'Moran, Mr. James', 'McCarthy, Mr. Timothy J',\n       'Palsson, Master. Gosta Leonard', 'Saundercock, Mr. William Henry',\n       'Andersson, Mr. Anders Johan',\n       'Vestrom, Miss. Hulda Amanda Adolfina', 'Rice, Master. Eugene',\n       'Vander Planke, Mrs. Julius (Emelia Maria Vandemoortele)',\n       'Fynney, Mr. Joseph J', 'Palsson, Miss. Torborg Danira',\n       'Emir, Mr. Farred Chehab', 'Todoroff, Mr. Lalio',\n       'Uruchurtu, Don. Manuel E', 'Wheadon, Mr. Edward H',\n       'Meyer, Mr. Edgar Joseph', 'Holverson, Mr. Alexander Oskar',\n       'Cann, Mr. Ernest Charles', 'Vander Planke, Miss. Augusta Maria',\n       'Ahlin, Mrs. Johan (Johanna Persdotter Larsson)',\n       'Turpin, Mrs. William John Robert (Dorothy Ann Wonnacott)',\n       'Kraeff, Mr. Theodor', 'Rogers, Mr. William John',\n       'Lennon, Mr. Denis', 'Samaan, Mr. Youssef',\n       'Arnold-Franchi, Mrs. Josef (Josefine Franchi)',\n       'Panula, Master. Juha Niilo', 'Nosworthy, Mr. Richard Cater',\n       'Ostby, Mr. Engelhart Cornelius', 'Novel, Mr. Mansouer',\n       'Goodwin, Master. William Frederick', 'Sirayanian, Mr. Orsen',\n       'Harris, Mr. Henry Birkhardt', 'Skoog, Master. Harald',\n       'Stewart, Mr. Albert A', 'Crease, Mr. Ernest James',\n       'Kink, Mr. Vincenz', 'Jenkin, Mr. Stephen Curnow',\n       'Goodwin, Miss. Lillian Amy', 'Hood, Mr. Ambrose Jr',\n       'Chronopoulos, Mr. Apostolos', 'Moen, Mr. Sigurd Hansen',\n       'Staneff, Mr. Ivan', 'Moutal, Mr. Rahamin Haim',\n       'Waelens, Mr. Achille', 'Carrau, Mr. Francisco M',\n       'Ford, Mr. William Neal', 'Slocovski, Mr. Selman Francis',\n       'Celotti, Mr. Francesco', 'Christmann, Mr. Emil',\n       'Andreasson, Mr. Paul Edvin', 'Chaffee, Mr. Herbert Fuller',\n       'Dean, Mr. Bertram Frank', 'Coxon, Mr. Daniel',\n       'Shorney, Mr. Charles Joseph', 'Goldschmidt, Mr. George B',\n       'Kantor, Mr. Sinai', 'Petranec, Miss. Matilda',\n       'Petroff, Mr. Pastcho (\"Pentcho\")', 'White, Mr. Richard Frasar',\n       'Johansson, Mr. Gustaf Joel', 'Gustafsson, Mr. Anders Vilhelm',\n       'Mionoff, Mr. Stoytcho', 'Rekic, Mr. Tido',\n       'Porter, Mr. Walter Chamberlain', 'Zabour, Miss. Hileni',\n       'Barton, Mr. David John', 'Jussila, Miss. Katriina',\n       'Attalah, Miss. Malake', 'Pekoniemi, Mr. Edvard',\n       'Connors, Mr. Patrick', 'Turpin, Mr. William John Robert',\n       'Andersson, Miss. Ellis Anna Maria', 'Hickman, Mr. Stanley George',\n       'Moore, Mr. Leonard Charles', 'Nasser, Mr. Nicholas',\n       'White, Mr. Percival Wayland', 'McMahon, Mr. Martin',\n       'Ekstrom, Mr. Johan', 'Drazenoic, Mr. Jozef',\n       'Coelho, Mr. Domingos Fernandeo',\n       'Robins, Mrs. Alexander A (Grace Charity Laury)',\n       'Sobey, Mr. Samuel James Hayden', 'Richard, Mr. Emile',\n       'Futrelle, Mr. Jacques Heath', 'Osen, Mr. Olaf Elon',\n       'Giglio, Mr. Victor', 'Boulos, Mrs. Joseph (Sultana)',\n       'Burke, Mr. Jeremiah', 'Andrew, Mr. Edgardo Samuel',\n       'Nicholls, Mr. Joseph Charles', 'Ford, Miss. Robina Maggie \"Ruby\"',\n       'Navratil, Mr. Michel (\"Louis M Hoffman\")',\n       'Byles, Rev. Thomas Roussel Davids', 'Bateman, Rev. Robert James',\n       'Meo, Mr. Alfonzo', 'van Billiard, Mr. Austin Blyler',\n       'Olsen, Mr. Ole Martin', 'Williams, Mr. Charles Duane',\n       'Corn, Mr. Harry', 'Smiljanic, Mr. Mile',\n       'Sage, Master. Thomas Henry', 'Cribb, Mr. John Hatfield',\n       'Bengtsson, Mr. John Viktor', 'Calic, Mr. Jovo',\n       'Panula, Master. Eino Viljami',\n       'Skoog, Mrs. William (Anna Bernhardina Karlsson)',\n       'Baumann, Mr. John D', 'Ling, Mr. Lee',\n       'Van der hoef, Mr. Wyckoff', 'Rice, Master. Arthur',\n       'Sivola, Mr. Antti Wilhelm', 'Smith, Mr. James Clinch',\n       'Klasen, Mr. Klas Albin', 'Lefebre, Master. Henry Forbes',\n       'Isham, Miss. Ann Elizabeth', 'Hale, Mr. Reginald',\n       'Leonard, Mr. Lionel', 'Sage, Miss. Constance Gladys',\n       'Pernot, Mr. Rene', 'Asplund, Master. Clarence Gustaf Hugo',\n       'Rood, Mr. Hugh Roscoe', 'Bourke, Mr. John', 'Turcin, Mr. Stjepan',\n       'Carbines, Mr. William', 'Mernagh, Mr. Robert',\n       'Olsen, Mr. Karl Siegwart Andreas',\n       'Yrois, Miss. Henriette (\"Mrs Harbeck\")',\n       'Vande Walle, Mr. Nestor Cyriel', 'Sage, Mr. Frederick',\n       'Johanson, Mr. Jakob Alfred', 'Youseff, Mr. Gerious',\n       'Strom, Miss. Telma Matilda', 'Backstrom, Mr. Karl Alfred',\n       'Ali, Mr. Ahmed', 'Perkin, Mr. John Henry',\n       'Givard, Mr. Hans Kristensen', 'Kiernan, Mr. Philip',\n       'Jacobsohn, Mr. Sidney Samuel', 'Harris, Mr. Walter',\n       'Bracken, Mr. James H', 'Green, Mr. George Henry',\n       'Nenkoff, Mr. Christo', 'Berglund, Mr. Karl Ivar Sven',\n       'Lovell, Mr. John Hall (\"Henry\")', 'Fahlstrom, Mr. Arne Jonas',\n       'Lefebre, Miss. Mathilde', 'Larsson, Mr. Bengt Edvin',\n       'Sjostedt, Mr. Ernst Adolf', 'Leyson, Mr. Robert William Norman',\n       'Harknett, Miss. Alice Phoebe', 'Hold, Mr. Stephen',\n       'Pengelly, Mr. Frederick William', 'Hunt, Mr. George Henry',\n       'Zabour, Miss. Thamine', 'Coleridge, Mr. Reginald Charles',\n       'Maenpaa, Mr. Matti Alexanteri', 'Attalah, Mr. Sleiman',\n       'Minahan, Dr. William Edward',\n       'Lindahl, Miss. Agda Thorilda Viktoria',\n       'Carter, Rev. Ernest Courtenay', 'Reed, Mr. James George',\n       'Strom, Mrs. Wilhelm (Elna Matilda Persson)',\n       'Stead, Mr. William Thomas', 'Lobb, Mr. William Arthur',\n       'Rosblom, Mrs. Viktor (Helena Wilhelmina)', 'Smith, Mr. Thomas',\n       'Taussig, Mr. Emil', 'Harrison, Mr. William', 'Henry, Miss. Delia',\n       'Reeves, Mr. David', 'Panula, Mr. Ernesti Arvid',\n       'Cairns, Mr. Alexander', 'Natsch, Mr. Charles H',\n       'Lindblom, Miss. Augusta Charlotta', 'Parkes, Mr. Francis \"Frank\"',\n       'Rice, Master. Eric', 'Duane, Mr. Frank',\n       'Olsson, Mr. Nils Johan Goransson', 'de Pelsmaeker, Mr. Alfons',\n       'Smith, Mr. Richard William', 'Stankovic, Mr. Ivan',\n       'Naidenoff, Mr. Penko', 'Levy, Mr. Rene Jacques',\n       'Haas, Miss. Aloisia', 'Mineff, Mr. Ivan', 'Lewy, Mr. Ervin G',\n       'Hanna, Mr. Mansour', 'Allison, Miss. Helen Loraine',\n       'Johnson, Mr. William Cahoone Jr',\n       'Williams, Mr. Howard Hugh \"Harry\"', 'Abelson, Mr. Samuel',\n       'Lahtinen, Mrs. William (Anna Sylfven)', 'Hendekovic, Mr. Ignjac',\n       'Hart, Mr. Benjamin', 'Moraweck, Dr. Ernest', 'Dennis, Mr. Samuel',\n       'Danoff, Mr. Yoto', 'Sage, Mr. George John Jr',\n       'Nysveen, Mr. Johan Hansen', 'Partner, Mr. Austen',\n       'Graham, Mr. George Edward', 'Vander Planke, Mr. Leo Edmondus',\n       'Denkoff, Mr. Mitto', 'Pears, Mr. Thomas Clinton',\n       'Blackwell, Mr. Stephen Weart', 'Collander, Mr. Erik Gustaf',\n       'Sedgwick, Mr. Charles Frederick Waddington',\n       'Fox, Mr. Stanley Hubert', 'Dimic, Mr. Jovan',\n       'Odahl, Mr. Nils Martin', 'Williams-Lambert, Mr. Fletcher Fellows',\n       'Elias, Mr. Tannous', 'Arnold-Franchi, Mr. Josef',\n       'Yousif, Mr. Wazli', 'Vanden Steen, Mr. Leo Peter',\n       'Funk, Miss. Annie Clemmer', 'Skoog, Mr. Wilhelm',\n       'del Carlo, Mr. Sebastiano', 'Barbara, Mrs. (Catherine David)',\n       'Asim, Mr. Adola', \"O'Brien, Mr. Thomas\",\n       'Adahl, Mr. Mauritz Nils Martin', 'Wiklund, Mr. Jakob Alfred',\n       'Beavan, Mr. William Thomas', 'Ringhini, Mr. Sante',\n       'Palsson, Miss. Stina Viola', 'Betros, Mr. Tannous',\n       'Gustafsson, Mr. Karl Gideon', 'Tikkanen, Mr. Juho',\n       'Plotcharsky, Mr. Vasil', 'Davies, Mr. Charles Henry',\n       'Goodwin, Master. Sidney Leonard', 'Sadlier, Mr. Matthew',\n       'Gustafsson, Mr. Johan Birger', 'Johansson, Mr. Erik',\n       'Olsson, Miss. Elina', 'McKane, Mr. Peter David',\n       'Pain, Dr. Alfred', 'Adams, Mr. John', 'Jussila, Miss. Mari Aina',\n       'Hakkarainen, Mr. Pekka Pietari', 'Oreskovic, Miss. Marija',\n       'Gale, Mr. Shadrach', 'Widegren, Mr. Carl/Charles Peter',\n       'Birkeland, Mr. Hans Martin Monsen', 'Lefebre, Miss. Ida',\n       'Sdycoff, Mr. Todor', 'Hart, Mr. Henry',\n       'Cunningham, Mr. Alfred Fleming',\n       'Meek, Mrs. Thomas (Annie Louise Rowley)',\n       'Matthews, Mr. William John', 'Van Impe, Miss. Catharina',\n       'Gheorgheff, Mr. Stanio', 'Charters, Mr. David',\n       'Zimmerman, Mr. Leo',\n       'Danbom, Mrs. Ernst Gilbert (Anna Sigrid Maria Brogren)',\n       'Rosblom, Mr. Viktor Richard', 'Wiseman, Mr. Phillippe',\n       'Flynn, Mr. James', 'Kallio, Mr. Nikolai Erland',\n       'Silvey, Mr. William Baird',\n       'Ford, Miss. Doolina Margaret \"Daisy\"',\n       'Kvillner, Mr. Johan Henrik Johannesson', 'Hampe, Mr. Leon',\n       'Petterson, Mr. Johan Emil', 'West, Mr. Edwy Arthur',\n       'Hagland, Mr. Ingvald Olai Olsen',\n       'Foreman, Mr. Benjamin Laventall', 'Peduzzi, Mr. Joseph',\n       'Millet, Mr. Francis Davis', \"O'Connor, Mr. Maurice\",\n       'Morley, Mr. William', 'Gee, Mr. Arthur H',\n       'Milling, Mr. Jacob Christian', 'Maisner, Mr. Simon',\n       'Goncalves, Mr. Manuel Estanslas', 'Campbell, Mr. William',\n       'Smart, Mr. John Montgomery', 'Scanlan, Mr. James',\n       'Keefe, Mr. Arthur', 'Cacic, Mr. Luka',\n       'Strandberg, Miss. Ida Sofia', 'Clifford, Mr. George Quincy',\n       'Renouf, Mr. Peter Henry', 'Braund, Mr. Lewis Richard',\n       'Karlsson, Mr. Nils August', 'Goodwin, Master. Harold Victor',\n       'Frost, Mr. Anthony Wood \"Archie\"', 'Rouse, Mr. Richard Henry',\n       'Lefebre, Miss. Jeannie', 'Kent, Mr. Edward Austin',\n       'Somerton, Mr. Francis William',\n       'Hagland, Mr. Konrad Mathias Reiersen', 'Windelov, Mr. Einar',\n       'Molson, Mr. Harry Markland', 'Artagaveytia, Mr. Ramon',\n       'Stanley, Mr. Edward Roland', 'Yousseff, Mr. Gerious',\n       'Shellard, Mr. Frederick William',\n       'Allison, Mrs. Hudson J C (Bessie Waldo Daniels)',\n       'Svensson, Mr. Olof', 'Calic, Mr. Petar', 'Canavan, Miss. Mary',\n       \"O'Sullivan, Miss. Bridget Mary\", 'Laitinen, Miss. Kristina Sofia',\n       'Penasco y Castellana, Mr. Victor de Satode',\n       'Olsen, Mr. Henry Margido', 'Webber, Mr. James',\n       'Coleff, Mr. Satio', 'Walker, Mr. William Anderson',\n       'Ryan, Mr. Patrick', 'Pavlovic, Mr. Stefo', 'Vovk, Mr. Janko',\n       'Lahoud, Mr. Sarkis', 'Kassem, Mr. Fared', 'Farrell, Mr. James',\n       'Salonen, Mr. Johan Werner', 'Hocking, Mr. Richard George',\n       'Toufik, Mr. Nakli', 'Elias, Mr. Joseph Jr', 'Cacic, Miss. Marija',\n       'Butt, Major. Archibald Willingham', 'Risien, Mr. Samuel Beard',\n       'Andersson, Miss. Ingeborg Constanzia',\n       'Andersson, Miss. Sigrid Elisabeth', 'Douglas, Mr. Walter Donald',\n       'Nicholson, Mr. Arthur Ernest', 'Goldsmith, Mr. Frank John',\n       'Sharp, Mr. Percival James R', \"O'Brien, Mr. Timothy\",\n       'Wright, Mr. George', 'Morrow, Mr. Thomas Rowan',\n       'Sivic, Mr. Husein', 'Norman, Mr. Robert Douglas',\n       'Simmons, Mr. John', 'Meanwell, Miss. (Marion Ogden)',\n       'Davies, Mr. Alfred J', 'Stoytcheff, Mr. Ilia',\n       'Palsson, Mrs. Nils (Alma Cornelia Berglund)',\n       'Doharr, Mr. Tannous', 'Rush, Mr. Alfred George John',\n       'Patchett, Mr. George', 'Caram, Mrs. Joseph (Maria Elias)',\n       'Downton, Mr. William James', 'Ross, Mr. John Hugo',\n       'Paulner, Mr. Uscher', 'Jarvis, Mr. John Denzil',\n       'Gilinski, Mr. Eliezer', 'Murdlin, Mr. Joseph',\n       'Rintamaki, Mr. Matti', 'Elsbury, Mr. William James',\n       'Bourke, Miss. Mary', 'Chapman, Mr. John Henry',\n       'Van Impe, Mr. Jean Baptiste', 'Johnson, Mr. Alfred',\n       'Boulos, Mr. Hanna', 'Slabenoff, Mr. Petco',\n       'Harrington, Mr. Charles H', 'Torber, Mr. Ernst William',\n       'Lindell, Mr. Edvard Bengtsson', 'Karaic, Mr. Milan',\n       'Andersson, Mrs. Anders Johan (Alfrida Konstantia Brogren)',\n       'Jardin, Mr. Jose Neto', 'Horgan, Mr. John',\n       'Brocklebank, Mr. William Alfred', 'Danbom, Mr. Ernst Gilbert',\n       'Lobb, Mrs. William Arthur (Cordelia K Stanlick)',\n       'Gavey, Mr. Lawrence', 'Yasbeck, Mr. Antoni',\n       'Hansen, Mr. Henry Damsgaard', 'Bowen, Mr. David John \"Dai\"',\n       'Sutton, Mr. Frederick', 'Kirkland, Rev. Charles Leonard',\n       'Bostandyeff, Mr. Guentcho', \"O'Connell, Mr. Patrick D\",\n       'Lundahl, Mr. Johan Svensson', 'Parr, Mr. William Henry Marsh',\n       'Skoog, Miss. Mabel', 'Leinonen, Mr. Antti Gustaf',\n       'Collyer, Mr. Harvey', 'Panula, Mrs. Juha (Maria Emilia Ojala)',\n       'Thorneycroft, Mr. Percival', 'Jensen, Mr. Hans Peder',\n       'Skoog, Miss. Margit Elizabeth', 'Cor, Mr. Liudevit',\n       'Willey, Mr. Edward', 'Mitkoff, Mr. Mito',\n       'Kalvik, Mr. Johannes Halvorsen', 'Hegarty, Miss. Hanora \"Nora\"',\n       'Hickman, Mr. Leonard Mark', 'Radeff, Mr. Alexander',\n       'Bourke, Mrs. John (Catherine)', 'Eitemiller, Mr. George Floyd',\n       'Newell, Mr. Arthur Webster', 'Badt, Mr. Mohamed',\n       'Colley, Mr. Edward Pomeroy', 'Coleff, Mr. Peju',\n       'Hickman, Mr. Lewis', 'Butler, Mr. Reginald Fenton',\n       'Rommetvedt, Mr. Knud Paust', 'Cook, Mr. Jacob',\n       'Davidson, Mr. Thornton', 'Mitchell, Mr. Henry Michael',\n       'Watson, Mr. Ennis Hastings', 'Edvardsson, Mr. Gustaf Hjalmar',\n       'Sawyer, Mr. Frederick Charles',\n       'Goodwin, Mrs. Frederick (Augusta Tyler)', 'Peters, Miss. Katie',\n       'Olsvigen, Mr. Thor Anderson', 'Goodwin, Mr. Charles Edward',\n       'Brown, Mr. Thomas William Solomon',\n       'Laroche, Mr. Joseph Philippe Lemercier',\n       'Panula, Mr. Jaako Arnold', 'Dakic, Mr. Branko',\n       'Fischer, Mr. Eberhard Thelander', 'Saad, Mr. Khalil',\n       'Weir, Col. John', 'Chapman, Mr. Charles Henry',\n       'Kelly, Mr. James', 'Thayer, Mr. John Borland',\n       'Humblen, Mr. Adolf Mathias Nicolai Olsen',\n       'Barbara, Miss. Saiide', 'Gallagher, Mr. Martin',\n       'Hansen, Mr. Henrik Juul',\n       'Morley, Mr. Henry Samuel (\"Mr Henry Marshall\")',\n       'Klaber, Mr. Herman', 'Larsson, Mr. August Viktor',\n       'Greenberg, Mr. Samuel',\n       'Soholt, Mr. Peter Andreas Lauritz Andersen',\n       'McEvoy, Mr. Michael', 'Johnson, Mr. Malkolm Joackim',\n       'Jensen, Mr. Svend Lauritz', 'Gillespie, Mr. William Henry',\n       'Hodges, Mr. Henry Price', 'Oreskovic, Mr. Luka',\n       'Bryhl, Mr. Kurt Arnold Gottfrid', 'Ilmakangas, Miss. Pieta Sofia',\n       'Hassan, Mr. Houssein G N', 'Knight, Mr. Robert J',\n       'Berriman, Mr. William John', 'Troupiansky, Mr. Moses Aaron',\n       'Williams, Mr. Leslie', 'Ford, Mrs. Edward (Margaret Ann Watson)',\n       'Ivanoff, Mr. Kanio', 'Nankoff, Mr. Minko',\n       'Cavendish, Mr. Tyrell William', 'McNamee, Mr. Neal',\n       'Crosby, Capt. Edward Gifford', 'Abbott, Mr. Rossmore Edward',\n       'Marvin, Mr. Daniel Warner', 'Connaghton, Mr. Michael',\n       'Vande Velde, Mr. Johannes Joseph', 'Jonkoff, Mr. Lalio',\n       'Carlsson, Mr. August Sigfrid', 'Bailey, Mr. Percy Andrew',\n       'Theobald, Mr. Thomas Leonard', 'Garfirth, Mr. John',\n       'Nirva, Mr. Iisakki Antino Aijo', 'Eklund, Mr. Hans Linus',\n       'Brewe, Dr. Arthur Jackson', 'Mangan, Miss. Mary',\n       'Moran, Mr. Daniel J', 'Gronnestad, Mr. Daniel Danielsen',\n       'Lievens, Mr. Rene Aime', 'Jensen, Mr. Niels Peder',\n       'Mack, Mrs. (Mary)', 'Elias, Mr. Dibo',\n       'Myhrman, Mr. Pehr Fabian Oliver Malkolm', 'Tobin, Mr. Roger',\n       'Kilgannon, Mr. Thomas J', 'Long, Mr. Milton Clyde',\n       'Johnston, Mr. Andrew G', 'Ali, Mr. William',\n       'Harmer, Mr. Abraham (David Lishin)', 'Rice, Master. George Hugh',\n       'Guggenheim, Mr. Benjamin', 'Keane, Mr. Andrew \"Andy\"',\n       'Gaskell, Mr. Alfred', 'Sage, Miss. Stella Anna',\n       'Hoyt, Mr. William Fisher', 'Dantcheff, Mr. Ristiu',\n       'Otter, Mr. Richard', 'Ibrahim Shawah, Mr. Yousseff',\n       'Van Impe, Mrs. Jean Baptiste (Rosalie Paula Govaert)',\n       'Ponesell, Mr. Martin', 'Johansson, Mr. Karl Johan',\n       'Andrews, Mr. Thomas Jr', 'Pettersson, Miss. Ellen Natalia',\n       'Meyer, Mr. August', 'Alexander, Mr. William', 'Lester, Mr. James',\n       'Slemen, Mr. Richard James', 'Andersson, Miss. Ebba Iris Alfrida',\n       'Tomlin, Mr. Ernest Portage', 'Fry, Mr. Richard',\n       'Heininen, Miss. Wendla Maria', 'Mallet, Mr. Albert',\n       'Holm, Mr. John Fredrik Alexander', 'Skoog, Master. Karl Thorsten',\n       'Reuchlin, Jonkheer. John George', 'Panula, Master. Urho Abraham',\n       'Flynn, Mr. John', 'Lam, Mr. Len', 'Saad, Mr. Amin',\n       'Augustsson, Mr. Albert', 'Allum, Mr. Owen George',\n       'Pasic, Mr. Jakob', 'Sirota, Mr. Maurice',\n       'Alhomaki, Mr. Ilmari Rudolf', 'Mudd, Mr. Thomas Charles',\n       'Lemberopolous, Mr. Peter L', 'Culumovic, Mr. Jeso',\n       'Abbing, Mr. Anthony', 'Sage, Mr. Douglas Bullen',\n       'Markoff, Mr. Marin', 'Harper, Rev. John',\n       'Andersson, Master. Sigvard Harald Elias', 'Svensson, Mr. Johan',\n       'Boulos, Miss. Nourelain',\n       'Carter, Mrs. Ernest Courtenay (Lilian Hughes)',\n       'Razi, Mr. Raihed', 'Hansen, Mr. Claus Peter',\n       'Giles, Mr. Frederick Edward', 'Sage, Miss. Dorothy Edith \"Dolly\"',\n       'Gill, Mr. John William', 'Roebling, Mr. Washington Augustus II',\n       'van Melkebeke, Mr. Philemon', 'Balkic, Mr. Cerin',\n       'Carlsson, Mr. Frans Olof', 'Vander Cruyssen, Mr. Victor',\n       'Gustafsson, Mr. Alfred Ossian', 'Petroff, Mr. Nedelio',\n       'Laleff, Mr. Kristo', 'Markun, Mr. Johann',\n       'Dahlberg, Miss. Gerda Ulrika', 'Banfield, Mr. Frederick James',\n       'Sutehall, Mr. Henry Jr', 'Rice, Mrs. William (Margaret Norton)',\n       'Montvila, Rev. Juozas',\n       'Johnston, Miss. Catherine Helen \"Carrie\"', 'Dooley, Mr. Patrick'],\n      dtype=object)"
     ]
    },
    {
     "data": {
      "image/png": "[encoded data removed]",
      "text/plain": [
       "<Figure size 640x480 with 1 Axes>"
      ]
     },
     "metadata": {},
     "output_type": "display_data"
    }
   ],
   "source": [
    "#create the histograms:\n",
    "ax = fig.add_subplot(2,1,2)\n",
    "ax = plt.hist(Died, color=\"blue\", label=\"Died\", normed=True, alpha=0.5)\n",
    "ax = plt.hist(Survived, color=\"red\", label=\"Survived\", normed=True, alpha=0.5)\n",
    "ax = plt.legend()\n",
    "plt.show()"
   ]
  }
 ],
 "metadata": {
  "kernelspec": {
   "display_name": ".venv",
   "language": "python",
   "name": "python3"
  },
  "language_info": {
   "codemirror_mode": {
    "name": "ipython",
    "version": 3
   },
   "file_extension": ".py",
   "mimetype": "text/x-python",
   "name": "python",
   "nbconvert_exporter": "python",
   "pygments_lexer": "ipython3",
   "version": "3.11.9"
  }
 },
 "nbformat": 4,
 "nbformat_minor": 2
}
