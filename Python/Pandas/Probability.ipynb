{
 "cells": [
  {
   "cell_type": "markdown",
   "metadata": {},
   "source": [
    "# Probability"
   ]
  },
  {
   "cell_type": "markdown",
   "metadata": {},
   "source": [
    "## Set Theory"
   ]
  },
  {
   "cell_type": "markdown",
   "metadata": {},
   "source": [
    "Set is a collection of things. For example, {Book,Paper,Folder,Hat,Pen,Snack}\n",
    "Notationally, mathematicians often represent sets with curly braces. Sets also follow two key rules:\n",
    "- Each element in a set is distinct.\n",
    "- The elements in a set are in no particular order.\n",
    "\n",
    "Therefore we can say\n",
    "- {1,2,3,4,5}={5,3,2,4,1}\n",
    "\n",
    "When defining a set, we often use a capital letter. For example:\n",
    "- A={1,2,3,4,5}\n",
    "\n",
    "Sets can also contain subsets. Set A is a subset of set B if all the elements in A exist within B. For example:\n",
    "- A={1,2,3}\n",
    "- B={1,2,3,4,5}\n",
    "\n",
    "Here, set A is a subset of B because all elements of A are contained within B.\n",
    "\n",
    "\n"
   ]
  },
  {
   "cell_type": "markdown",
   "metadata": {},
   "source": [
    "---"
   ]
  },
  {
   "cell_type": "markdown",
   "metadata": {},
   "source": [
    "## Experiments and Sample Spaces"
   ]
  },
  {
   "cell_type": "markdown",
   "metadata": {},
   "source": [
    "In probability, an **experiment** is something that produces observation(s) with some level of uncertainty. A **sample point** is a single possible outcome of an experiment. Finally, a **sample space** is the set of all possible sample points for an experiment."
   ]
  },
  {
   "cell_type": "markdown",
   "metadata": {},
   "source": [
    "For example, suppose that we run an experiment where we flip a coin twice and record whether each flip results in heads or tails. There are four sample points in this experiment: two heads (HH), tails and then heads (TH), heads and then tails (HT), or two tails (TT). We can write the full sample space for this experiment as follows:\n",
    "- S={HH,TT,HT,TH}"
   ]
  },
  {
   "cell_type": "markdown",
   "metadata": {},
   "source": [
    "Suppose we are interested in the probability of one specific outcome: HH. A specific outcome (or set of outcomes) is known as an **event** and is a subset of the sample space. Three events we might look at in this sample space are:\n",
    "\n",
    "    Getting Two Heads\n",
    "    A={HH}\n",
    "\n",
    "    Getting Two Tails\n",
    "    B={TT}\n",
    "    \n",
    "    Getting Both a Heads and Tails\n",
    "    C={HT,TH}\n",
    "\n"
   ]
  },
  {
   "cell_type": "markdown",
   "metadata": {},
   "source": [
    "To calculate the estimated probability of any one outcome, we use the following formula:\n",
    "\n",
    "P(Event) = Number of Times Event Occurered / Total Number of Trials\n",
    "\n",
    "The higher the total number of Trials, the more true the probability (since we cannot do a trial of inifity, we use Large numbers)\n",
    "For example, in the code below, we run the coin_flip_experiment to simiulate 2 coin tosses, 5 times. You notice that when run, the results are inconsistent. But if we use large numbers, instead of 5, the results start to converge towards the true probability. (We can change the trial number with the num_trials variable) "
   ]
  },
  {
   "cell_type": "code",
   "execution_count": 146,
   "metadata": {},
   "outputs": [
    {
     "data": {
      "image/png": "[encoded data removed]",
      "text/plain": [
       "<Figure size 640x480 with 1 Axes>"
      ]
     },
     "metadata": {},
     "output_type": "display_data"
    }
   ],
   "source": [
    "import matplotlib.pyplot as plt\n",
    "import numpy as np\n",
    "\n",
    "def coin_flip_experiment():\n",
    "  # defining our two coins as lists\n",
    "  coin1 = ['Heads', 'Tails']\n",
    "  coin2 = ['Heads', 'Tails']\n",
    " \n",
    "  # \"flipping\" both coins randomly\n",
    "  coin1_result = np.random.choice(coin1)\n",
    "  coin2_result = np.random.choice(coin2)\n",
    " \n",
    "  # checking if both flips are heads\n",
    "  if coin1_result == 'Heads' and coin2_result == 'Heads':\n",
    "    return 1\n",
    "  else:\n",
    "    return 0\n",
    " \n",
    "# how many times we run the experiment\n",
    "num_trials = 5\n",
    "prop = []\n",
    "flips = []\n",
    "# keep track of the number of times heads pops up twice\n",
    "two_heads_counter = 0\n",
    " \n",
    "# perform the experiment five times\n",
    "for flip in range(num_trials):\n",
    "  # if both coins are heads add 1 to the counter\n",
    "  two_heads_counter += coin_flip_experiment()\n",
    "  # keep track of the proportion of two heads at each flip \n",
    "  prop.append(two_heads_counter/(flip+1))\n",
    "  # keep a list for number of flips\n",
    "  flips.append(flip+1)\n",
    " \n",
    "# plot all flips and proportion of two heads\n",
    "plt.plot(flips, prop, label='Experimental Probability')\n",
    "plt.xlabel('Number of Flips')\n",
    "plt.ylabel('Proportion of Two Heads')\n",
    "\n",
    "plt.hlines(0.25, 0, num_trials, colors='orange', label='True Probability')\n",
    "plt.legend()\n",
    "\n",
    "\n",
    " \n",
    "plt.show()"
   ]
  },
  {
   "cell_type": "markdown",
   "metadata": {},
   "source": [
    "---"
   ]
  },
  {
   "cell_type": "markdown",
   "metadata": {},
   "source": [
    "## Union, Intersection, and Complement"
   ]
  },
  {
   "cell_type": "markdown",
   "metadata": {},
   "source": [
    "### Union\n",
    "The union of two sets encompasses any element that exists in either one or both of them. We can represent this visually as a Venn diagram.\n",
    "\n",
    "For example:\n",
    "- Set A: Rolling an odd number with a six-sided die ({1, 3, 5})\n",
    "- Set B: Rolling a number greater than two ({3, 4, 5, 6})\n",
    "\n",
    "The union of sets A and B is everything in either set A, set B, or both: {1, 3, 4, 5, 6}. We write the union of two events mathematically as **$A \\cup B$**."
   ]
  },
  {
   "cell_type": "markdown",
   "metadata": {},
   "source": [
    "<?xml version=\"1.0\" encoding=\"UTF-8\"?>\n",
    "<svg width=\"425px\" height=\"267px\" viewBox=\"0 0 425 267\" version=\"1.1\" xmlns=\"http://www.w3.org/2000/svg\" xmlns:xlink=\"http://www.w3.org/1999/xlink\">\n",
    "    <title>Union Venn Diagram</title>\n",
    "    <g id=\"Union-Venn-Diagram\" stroke=\"none\" stroke-width=\"1\" fill=\"none\" fill-rule=\"evenodd\">\n",
    "        <rect fill=\"#FFFFFF\" x=\"0\" y=\"0\" width=\"425\" height=\"267\"></rect>\n",
    "        <path d=\"M255.5,64 C302.168061,64 340,101.831939 340,148.5 C340,195.168061 302.168061,233 255.5,233 C240.005374,233 225.484805,228.829566 212.999547,221.549951 C200.515972,228.829342 185.995041,233 170.5,233 C123.831939,233 86,195.168061 86,148.5 C86,101.831939 123.831939,64 170.5,64 C185.995041,64 200.515972,68.1706575 213.001456,75.4506333 C225.484805,68.1704342 240.005374,64 255.5,64 Z\" id=\"Combined-Shape\" fill=\"#66C4FF\"></path>\n",
    "        <path d=\"M170.5,63.5 C123.555796,63.5 85.5,101.555796 85.5,148.5 C85.5,195.444204 123.555796,233.5 170.5,233.5 C217.444204,233.5 255.5,195.444204 255.5,148.5 C255.5,101.555796 217.444204,63.5 170.5,63.5 Z M170.5,64.5 C216.891919,64.5 254.5,102.108081 254.5,148.5 C254.5,194.891919 216.891919,232.5 170.5,232.5 C124.108081,232.5 86.5,194.891919 86.5,148.5 C86.5,102.108081 124.108081,64.5 170.5,64.5 Z\" id=\"Oval\" fill=\"#10162F\" fill-rule=\"nonzero\"></path>\n",
    "        <path d=\"M255.5,63.5 C208.555796,63.5 170.5,101.555796 170.5,148.5 C170.5,195.444204 208.555796,233.5 255.5,233.5 C302.444204,233.5 340.5,195.444204 340.5,148.5 C340.5,101.555796 302.444204,63.5 255.5,63.5 Z M255.5,64.5 C301.891919,64.5 339.5,102.108081 339.5,148.5 C339.5,194.891919 301.891919,232.5 255.5,232.5 C209.108081,232.5 171.5,194.891919 171.5,148.5 C171.5,102.108081 209.108081,64.5 255.5,64.5 Z\" id=\"Oval-Copy\" fill=\"#10162F\" fill-rule=\"nonzero\"></path>\n",
    "        <path d=\"M213.253308,75.0186953 L213.000081,74.871045 L211.848698,75.5497263 C186.401128,90.810921 170.5,118.279625 170.5,148.5 C170.5,178.788166 186.474638,206.296927 211.974014,221.523673 L213.001474,222.128143 L213.253308,221.981305 C239.201958,206.85129 255.5,179.093134 255.5,148.5 C255.5,117.906866 239.201958,90.1487102 213.253308,75.0186953 Z M212.359753,76.4092657 L213.001,76.031 L212.749603,75.8825712 C238.393999,90.8351831 254.5,118.266262 254.5,148.5 L254.495175,149.406162 C254.180141,178.979344 238.459979,205.767927 213.516067,220.665117 L213.001,220.968 L213.25328,221.117413 C187.606925,206.165864 171.5,178.734691 171.5,148.5 C171.5,118.634612 187.213726,91.4896382 212.359753,76.4092657 Z\" id=\"Combined-Shape\" fill=\"#10162F\" fill-rule=\"nonzero\"></path>\n",
    "        <path d=\"M415,10 L415,257 L11.2695925,257 L10,10 L415,10 Z M414.151,10.965235 L10.853,10.965235 L12.112,256.033627 L414.151,256.033627 L414.151,10.965235 Z\" id=\"Rectangle-Copy-11\" fill=\"#10162F\" fill-rule=\"nonzero\"></path>\n",
    "        <path d=\"M161.6858,47 L163.546,42.677 L172.5326,42.677 L174.3928,47 L177.7464,47 L169.3886,28.529 L166.6376,28.529 L158.2798,47 L161.6858,47 Z M171.406,40.057 L164.6464,40.057 L168.0262,32.197 L171.406,40.057 Z\" id=\"A\" fill=\"#10162F\" fill-rule=\"nonzero\"></path>\n",
    "        <path d=\"M259.4279,47 C261.401633,47 262.9518,46.5546 264.0784,45.6638 C265.205,44.773 265.7683,43.5416 265.7683,41.9696 C265.7683,40.8342667 265.475733,39.8736 264.8906,39.0876 C264.305467,38.3016 263.480167,37.7601333 262.4147,37.4632 C263.322967,37.1313333 264.034733,36.6073333 264.55,35.8912 C265.065267,35.1750667 265.3229,34.3279333 265.3229,33.3498 C265.3229,31.8302 264.777067,30.6468333 263.6854,29.7997 C262.593733,28.9525667 261.087233,28.529 259.1659,28.529 L259.1659,28.529 L251.0439,28.529 L251.0439,47 L259.4279,47 Z M258.6157,36.3104 L254.3451,36.3104 L254.3451,31.149 L258.6157,31.149 C259.785967,31.149 260.6593,31.3586 261.2357,31.7778 C261.8121,32.197 262.1003,32.8432667 262.1003,33.7166 C262.1003,35.4458 260.938767,36.3104 258.6157,36.3104 L258.6157,36.3104 Z M259.0611,44.38 L254.3451,44.38 L254.3451,38.9304 L259.0611,38.9304 C260.2663,38.9304 261.152733,39.1574667 261.7204,39.6116 C262.288067,40.0657333 262.5719,40.7556667 262.5719,41.6814 C262.5719,42.6071333 262.292433,43.2883333 261.7335,43.725 C261.174567,44.1616667 260.283767,44.38 259.0611,44.38 L259.0611,44.38 Z\" id=\"B\" fill=\"#10162F\" fill-rule=\"nonzero\"></path>\n",
    "        <path d=\"M395.8952,43.2358 C397.397333,43.2358 398.702967,43.0131 399.8121,42.5677 C400.921233,42.1223 401.768367,41.4847667 402.3535,40.6551 C402.938633,39.8254333 403.2312,38.8604 403.2312,37.76 C403.2312,36.7469333 402.973567,35.9085333 402.4583,35.2448 C401.943033,34.5810667 401.2007,34.0352333 400.2313,33.6073 C399.2619,33.1793667 397.999933,32.7907333 396.4454,32.4414 C394.9782,32.1095333 393.938933,31.7514667 393.3276,31.3672 C392.716267,30.9829333 392.4106,30.4327333 392.4106,29.7166 C392.4106,28.8607333 392.755567,28.1926333 393.4455,27.7123 C394.135433,27.2319667 395.074267,26.9918 396.262,26.9918 C398.2532,26.9918 400.069733,27.6468 401.7116,28.9568 L401.7116,28.9568 L402.8382,26.494 C402.087133,25.8128 401.126467,25.2757 399.9562,24.8827 C398.785933,24.4897 397.554533,24.2932 396.262,24.2932 C394.8472,24.2932 393.598333,24.5333667 392.5154,25.0137 C391.432467,25.4940333 390.594067,26.1621333 390.0002,27.018 C389.406333,27.8738667 389.1094,28.8432667 389.1094,29.9262 C389.1094,30.9742 389.353933,31.8388 389.843,32.52 C390.332067,33.2012 391.056933,33.7601333 392.0176,34.1968 C392.978267,34.6334667 394.227133,35.0177333 395.7642,35.3496 C397.248867,35.6814667 398.309967,36.0308 398.9475,36.3976 C399.585033,36.7644 399.9038,37.2971333 399.9038,37.9958 C399.9038,38.7992667 399.558833,39.4237 398.8689,39.8691 C398.178967,40.3145 397.196467,40.5372 395.9214,40.5372 C394.7686,40.5372 393.698767,40.38 392.7119,40.0656 C391.725033,39.7512 390.7862,39.2534 389.8954,38.5722 L389.8954,38.5722 L388.7688,41.035 C389.624667,41.7336667 390.672667,42.2751333 391.9128,42.6594 C393.152933,43.0436667 394.4804,43.2358 395.8952,43.2358 Z\" id=\"S\" fill=\"#10162F\" fill-rule=\"nonzero\"></path>\n",
    "    </g>\n",
    "</svg>"
   ]
  },
  {
   "cell_type": "markdown",
   "metadata": {},
   "source": [
    "### Intersection\n",
    "The intersection of two sets encompasses any element that exists in both sets. Visually:\n",
    "\n",
    "For example:\n",
    "- Set A: Rolling an odd number with a six-sided die ({1, 3, 5})\n",
    "- Set B: Rolling a number greater than two ({3, 4, 5, 6})\n",
    "\n",
    "The intersection of sets A and B includes any value that appears in both sets: {3, 5}. We write the intersection of two events mathematically as **$A \\cap B$**.\n"
   ]
  },
  {
   "cell_type": "markdown",
   "metadata": {},
   "source": [
    "<?xml version=\"1.0\" encoding=\"UTF-8\"?>\n",
    "<svg width=\"425px\" height=\"267px\" viewBox=\"0 0 425 267\" version=\"1.1\" xmlns=\"http://www.w3.org/2000/svg\" xmlns:xlink=\"http://www.w3.org/1999/xlink\">\n",
    "    <title>Intersection Venn Diagram </title>\n",
    "    <g id=\"Intersection-Venn-Diagram-\" stroke=\"none\" stroke-width=\"1\" fill=\"none\" fill-rule=\"evenodd\">\n",
    "        <rect fill=\"#FFFFFF\" x=\"0\" y=\"0\" width=\"425\" height=\"267\"></rect>\n",
    "        <path d=\"M213.001456,75.4506333 C238.119829,90.0965342 255,117.326979 255,148.5 C255,179.673021 238.119829,206.903466 213.001456,221.549367 C187.88062,206.904191 171,179.673435 171,148.5 C171,117.69908 187.479592,90.7471741 212.102596,75.9804648 Z\" id=\"Combined-Shape\" fill=\"#66C4FF\"></path>\n",
    "        <path d=\"M415,10 L415,257 L11.2695925,257 L10,10 L415,10 Z M414.151,10.965235 L10.853,10.965235 L12.112,256.033627 L414.151,256.033627 L414.151,10.965235 Z\" id=\"Rectangle-Copy-11\" fill=\"#10162F\" fill-rule=\"nonzero\"></path>\n",
    "        <path d=\"M170.5,63.5 C123.555796,63.5 85.5,101.555796 85.5,148.5 C85.5,195.444204 123.555796,233.5 170.5,233.5 C217.444204,233.5 255.5,195.444204 255.5,148.5 C255.5,101.555796 217.444204,63.5 170.5,63.5 Z M170.5,64.5 C216.891919,64.5 254.5,102.108081 254.5,148.5 C254.5,194.891919 216.891919,232.5 170.5,232.5 C124.108081,232.5 86.5,194.891919 86.5,148.5 C86.5,102.108081 124.108081,64.5 170.5,64.5 Z\" id=\"Oval\" fill=\"#10162F\" fill-rule=\"nonzero\"></path>\n",
    "        <path d=\"M255.5,63.5 C208.555796,63.5 170.5,101.555796 170.5,148.5 C170.5,195.444204 208.555796,233.5 255.5,233.5 C302.444204,233.5 340.5,195.444204 340.5,148.5 C340.5,101.555796 302.444204,63.5 255.5,63.5 Z M255.5,64.5 C301.891919,64.5 339.5,102.108081 339.5,148.5 C339.5,194.891919 301.891919,232.5 255.5,232.5 C209.108081,232.5 171.5,194.891919 171.5,148.5 C171.5,102.108081 209.108081,64.5 255.5,64.5 Z\" id=\"Oval-Copy\" fill=\"#10162F\" fill-rule=\"nonzero\"></path>\n",
    "        <path d=\"M161.6858,47 L163.546,42.677 L172.5326,42.677 L174.3928,47 L177.7464,47 L169.3886,28.529 L166.6376,28.529 L158.2798,47 L161.6858,47 Z M171.406,40.057 L164.6464,40.057 L168.0262,32.197 L171.406,40.057 Z\" id=\"A\" fill=\"#10162F\" fill-rule=\"nonzero\"></path>\n",
    "        <path d=\"M259.4279,47 C261.401633,47 262.9518,46.5546 264.0784,45.6638 C265.205,44.773 265.7683,43.5416 265.7683,41.9696 C265.7683,40.8342667 265.475733,39.8736 264.8906,39.0876 C264.305467,38.3016 263.480167,37.7601333 262.4147,37.4632 C263.322967,37.1313333 264.034733,36.6073333 264.55,35.8912 C265.065267,35.1750667 265.3229,34.3279333 265.3229,33.3498 C265.3229,31.8302 264.777067,30.6468333 263.6854,29.7997 C262.593733,28.9525667 261.087233,28.529 259.1659,28.529 L259.1659,28.529 L251.0439,28.529 L251.0439,47 L259.4279,47 Z M258.6157,36.3104 L254.3451,36.3104 L254.3451,31.149 L258.6157,31.149 C259.785967,31.149 260.6593,31.3586 261.2357,31.7778 C261.8121,32.197 262.1003,32.8432667 262.1003,33.7166 C262.1003,35.4458 260.938767,36.3104 258.6157,36.3104 L258.6157,36.3104 Z M259.0611,44.38 L254.3451,44.38 L254.3451,38.9304 L259.0611,38.9304 C260.2663,38.9304 261.152733,39.1574667 261.7204,39.6116 C262.288067,40.0657333 262.5719,40.7556667 262.5719,41.6814 C262.5719,42.6071333 262.292433,43.2883333 261.7335,43.725 C261.174567,44.1616667 260.283767,44.38 259.0611,44.38 L259.0611,44.38 Z\" id=\"B\" fill=\"#10162F\" fill-rule=\"nonzero\"></path>\n",
    "        <path d=\"M395.8952,43.2358 C397.397333,43.2358 398.702967,43.0131 399.8121,42.5677 C400.921233,42.1223 401.768367,41.4847667 402.3535,40.6551 C402.938633,39.8254333 403.2312,38.8604 403.2312,37.76 C403.2312,36.7469333 402.973567,35.9085333 402.4583,35.2448 C401.943033,34.5810667 401.2007,34.0352333 400.2313,33.6073 C399.2619,33.1793667 397.999933,32.7907333 396.4454,32.4414 C394.9782,32.1095333 393.938933,31.7514667 393.3276,31.3672 C392.716267,30.9829333 392.4106,30.4327333 392.4106,29.7166 C392.4106,28.8607333 392.755567,28.1926333 393.4455,27.7123 C394.135433,27.2319667 395.074267,26.9918 396.262,26.9918 C398.2532,26.9918 400.069733,27.6468 401.7116,28.9568 L401.7116,28.9568 L402.8382,26.494 C402.087133,25.8128 401.126467,25.2757 399.9562,24.8827 C398.785933,24.4897 397.554533,24.2932 396.262,24.2932 C394.8472,24.2932 393.598333,24.5333667 392.5154,25.0137 C391.432467,25.4940333 390.594067,26.1621333 390.0002,27.018 C389.406333,27.8738667 389.1094,28.8432667 389.1094,29.9262 C389.1094,30.9742 389.353933,31.8388 389.843,32.52 C390.332067,33.2012 391.056933,33.7601333 392.0176,34.1968 C392.978267,34.6334667 394.227133,35.0177333 395.7642,35.3496 C397.248867,35.6814667 398.309967,36.0308 398.9475,36.3976 C399.585033,36.7644 399.9038,37.2971333 399.9038,37.9958 C399.9038,38.7992667 399.558833,39.4237 398.8689,39.8691 C398.178967,40.3145 397.196467,40.5372 395.9214,40.5372 C394.7686,40.5372 393.698767,40.38 392.7119,40.0656 C391.725033,39.7512 390.7862,39.2534 389.8954,38.5722 L389.8954,38.5722 L388.7688,41.035 C389.624667,41.7336667 390.672667,42.2751333 391.9128,42.6594 C393.152933,43.0436667 394.4804,43.2358 395.8952,43.2358 Z\" id=\"S\" fill=\"#10162F\" fill-rule=\"nonzero\"></path>\n",
    "    </g>\n",
    "</svg>"
   ]
  },
  {
   "cell_type": "markdown",
   "metadata": {},
   "source": [
    "### Complement\n",
    "The complement of a set consists of all possible outcomes outside of the set. Visually:\n",
    "\n",
    "For example:\n",
    "- Set A: Rolling an odd number on a six-sided die ({1, 3, 5})\n",
    "\n",
    "The complement of set A would be rolling an even number: {2, 4, 6}. We write the complement of set A as **$A^c$**.\n",
    "\n",
    "One key feature of complements is that a set and its complement cover the entire sample space. In this die roll example, the set of even numbers and odd numbers would cover all possible rolls: {1, 2, 3, 4, 5, 6}."
   ]
  },
  {
   "cell_type": "markdown",
   "metadata": {},
   "source": [
    "<img src=\"https://static-assets.codecademy.com/skillpaths/master-stats-ii/intro-probability/complement-venndiagram.svg\" alt=\"A Venn diagram that shows a circle representing event A. Everything outside of event A is shaded blue.\" class=\"styles_img__Ckuzm\">"
   ]
  },
  {
   "cell_type": "markdown",
   "metadata": {},
   "source": [
    "---"
   ]
  },
  {
   "cell_type": "markdown",
   "metadata": {},
   "source": [
    "## The Addition Rule"
   ]
  },
  {
   "cell_type": "markdown",
   "metadata": {},
   "source": [
    "### One or Both Occurring"
   ]
  },
  {
   "cell_type": "markdown",
   "metadata": {},
   "source": [
    "What if we want to find the probability of one or both events occurring? This is the probability of the union of A and B:\n",
    "- P(A or B)"
   ]
  },
  {
   "cell_type": "markdown",
   "metadata": {},
   "source": [
    "<img src=\"https://static-assets.codecademy.com/skillpaths/master-stats-ii/intro-probability/addition-rule-independent-venndiagram.gif\" alt=\"This gif shows three sequential images of a Venn diagram that outline the formula for P(A or B). In the Venn Diagram, there are two overlapping circles: one that corresponds to event A and one that corresponds to event B. In the first image, the event A circle is shaded blue and P(A) is added to the formula. In the second image, the event B circle is shaded red and the formula now shows P(A) + P(B). In the final image, the overlap of event A and event B is shaded green and the formula now shows P(A) + P(B) - P(A and B).\" class=\"styles_img__Ckuzm\">"
   ]
  },
  {
   "cell_type": "markdown",
   "metadata": {},
   "source": [
    "This animation gives a visual representation of the addition rule formula, which is:\n",
    "\n",
    "P(A or B)=P(A)+P(B)−P(A and B)\n",
    "\n",
    "We subtract the intersection of events A and B because it is included twice in the addition of P(A) and P(B)."
   ]
  },
  {
   "cell_type": "markdown",
   "metadata": {},
   "source": [
    "### Mutually Exclusive Events"
   ]
  },
  {
   "cell_type": "markdown",
   "metadata": {},
   "source": [
    "On a single die roll, if event A is that the roll is less than or equal to 2 and event B is that the roll is greater than or equal to 5, then events A and B cannot both happen."
   ]
  },
  {
   "cell_type": "markdown",
   "metadata": {},
   "source": [
    "<img src=\"https://static-assets.codecademy.com/skillpaths/master-stats-ii/intro-probability/addition-rule-dependent-venndiagram.gif\" alt=\"This gif shows two sequential images of a Venn diagram that outline the formula for P(A or B) for independent events. In the Venn Diagram, there are two non-overlapping circles: one that corresponds to event A and one that corresponds to event B. In the first image, the event A circle is shaded blue and P(A) is added to the formula. In the second image, the event B circle is shaded red and the final formula now shows P(A) + P(B).\" class=\"styles_img__Ckuzm\">"
   ]
  },
  {
   "cell_type": "markdown",
   "metadata": {},
   "source": [
    "For mutually exclusive events, the addition rule formula is:\n",
    "\n",
    "P(A or B)=P(A)+P(B)\n",
    "\n",
    "This is because the intersection is empty, so we don’t need to remove any overlap between the two events."
   ]
  },
  {
   "cell_type": "markdown",
   "metadata": {},
   "source": [
    "---"
   ]
  },
  {
   "cell_type": "markdown",
   "metadata": {},
   "source": [
    "## Conditional Probability"
   ]
  },
  {
   "cell_type": "markdown",
   "metadata": {},
   "source": [
    "Conditional probability measures the probability of one event occurring, given that another one has already occurred. (picture is wrong. blue and red are inverted, but in text i kept the same to follow formula)\n",
    "\n",
    "<img src=\"https://static-assets.codecademy.com/skillpaths/master-stats-ii/intro-probability/marble-diagram-1.svg\" alt=\"A diagram of the possible outcomes of pulling two marbles out of a bag when pulling them out without replacement.\" class=\"styles_img__Ckuzm\">\n",
    "\n",
    "Example: If we pick two marbles from a bag of five marbles without replacement, the probability that the second marble is red depends on the color of the first marble\n",
    "\n",
    "Notationally, we denote the word “given” with a vertical line. For example, if we want to represent the probability that we choose a red marble given the first marble is blue, we can write:\n",
    "\n",
    "P(Red Second ∣ Blue First)\n",
    "\n",
    "From the above diagram, we know that:\n",
    "\n",
    "P(Red Second∣Blue First)= \n",
    "\n"
   ]
  },
  {
   "cell_type": "markdown",
   "metadata": {},
   "source": [
    "---"
   ]
  },
  {
   "cell_type": "markdown",
   "metadata": {},
   "source": [
    "## Multiplication Rule\n"
   ]
  },
  {
   "cell_type": "markdown",
   "metadata": {},
   "source": [
    "What if we want to calculate the probability that two events happen simultaneously? For two events, A and B, this is P(A and B) or the probability of the intersection of A and B."
   ]
  },
  {
   "cell_type": "markdown",
   "metadata": {},
   "source": [
    "### General Formula"
   ]
  },
  {
   "cell_type": "markdown",
   "metadata": {},
   "source": [
    "The general formula for the probability that two events occur simultaneously is:\n",
    "\n",
    "P(A and B)=P(A)⋅P(B∣A)\n"
   ]
  },
  {
   "cell_type": "markdown",
   "metadata": {},
   "source": [
    "### Dependent Events"
   ]
  },
  {
   "cell_type": "markdown",
   "metadata": {},
   "source": [
    "Let’s go back to our bag of marbles example. We have five marbles: two are blue, and three are red. We pick two marbles without replacement. What if we want to know the probability of choosing a blue marble first AND a blue marble second?\n",
    "\n",
    "Taking conditional probability into account, the multiplication rule for these two dependent events is:\n",
    "\n",
    "P(Blue 1st and Blue 2nd)=P(Blue 1st)⋅P(Blue 2nd∣Blue 1st)\n",
    "P(Blue 1st and Blue 2nd)=(2/5) * (1/4)\n",
    "P(Blue 1st and Blue 2nd)= 1/10\n"
   ]
  },
  {
   "cell_type": "markdown",
   "metadata": {},
   "source": [
    "### Independent Events"
   ]
  },
  {
   "cell_type": "markdown",
   "metadata": {},
   "source": [
    "For two independent events, the multiplication rule becomes less complicated. The probability of two independent events occurring is:\n",
    "\n",
    "P(A and B)=P(A)⋅P(B)"
   ]
  },
  {
   "cell_type": "markdown",
   "metadata": {},
   "source": [
    "Let’s look at the simplest example: flipping a fair coin twice. Event A is that we get tails on the first flip, and event B is that we get tails on the second flip. P(A) = P(B) = 0.5, so according to our formula, the probability of getting tails on both flips would be:\n",
    "\n",
    "P(A and B)=0.5⋅0.5=0.25\n"
   ]
  },
  {
   "cell_type": "markdown",
   "metadata": {},
   "source": [
    "---"
   ]
  },
  {
   "cell_type": "markdown",
   "metadata": {},
   "source": [
    "## Random Variables"
   ]
  },
  {
   "cell_type": "markdown",
   "metadata": {},
   "source": [
    "We will use random.choice(a, size = size, replace = True/False) from the numpy library to simulate random variables in python. In this method:\n",
    "\n",
    "- **a** is a list or other object that has values we are sampling from\n",
    "- **size** is a number that represents how many values to choose\n",
    "- **replace** can be equal to True or False, and determines whether we keep a value in a after drawing it (replace = True) or remove it from the pool (replace = False).\n",
    "The following code simulates the outcome of rolling a fair die twice using np.random.choice():"
   ]
  },
  {
   "cell_type": "code",
   "execution_count": 147,
   "metadata": {},
   "outputs": [
    {
     "name": "stdout",
     "output_type": "stream",
     "text": [
      "[6 1]\n"
     ]
    }
   ],
   "source": [
    "import numpy as np\n",
    "\n",
    "# 7 is not included in the range function\n",
    "die_6 = range(1, 7)\n",
    "\n",
    "rolls = np.random.choice(die_6, size = 2, replace = True)\n",
    "\n",
    "print(rolls)"
   ]
  },
  {
   "cell_type": "markdown",
   "metadata": {},
   "source": [
    "---"
   ]
  },
  {
   "cell_type": "markdown",
   "metadata": {},
   "source": [
    "## Probability Distribution Functions"
   ]
  },
  {
   "cell_type": "markdown",
   "metadata": {},
   "source": [
    "### Probability Mass Functions"
   ]
  },
  {
   "cell_type": "markdown",
   "metadata": {},
   "source": [
    "A probability mass function (PMF) is a type of probability distribution that defines the probability of observing a particular value of a discrete random variable. For example, a PMF can be used to calculate the probability of rolling a three on a fair six-sided die."
   ]
  },
  {
   "cell_type": "markdown",
   "metadata": {},
   "source": [
    "#### Calculating Probability Mass Function using Python\n"
   ]
  },
  {
   "cell_type": "markdown",
   "metadata": {},
   "source": [
    "The binom.pmf() method from the scipy.stats library can be used to calculate the PMF (Probability Mass Function) of the binomial distribution at any value. This method takes 3 values:\n",
    "- x: the value of interest\n",
    "- n: the number of trials\n",
    "- p: the probability of success\n"
   ]
  },
  {
   "cell_type": "markdown",
   "metadata": {},
   "source": [
    "For example, suppose we flip a fair coin 10 times and count the number of heads. We can use the binom.pmf() function to calculate the probability of observing 6 heads as follows:"
   ]
  },
  {
   "cell_type": "code",
   "execution_count": 148,
   "metadata": {},
   "outputs": [
    {
     "name": "stdout",
     "output_type": "stream",
     "text": [
      "0.2050781249999999\n"
     ]
    }
   ],
   "source": [
    "# import necessary library\n",
    "import scipy.stats as stats\n",
    "\n",
    "# st.binom.pmf(x, n, p)\n",
    "print(stats.binom.pmf(6, 10, 0.5))"
   ]
  },
  {
   "cell_type": "markdown",
   "metadata": {},
   "source": [
    "#### PMF Over a Range\n"
   ]
  },
  {
   "cell_type": "markdown",
   "metadata": {},
   "source": [
    "The same formula as above, but add the results of each probability. If we want to calculate the probability of observing between 2 and 4 heads from 10 coin flips as follows:"
   ]
  },
  {
   "cell_type": "code",
   "execution_count": 149,
   "metadata": {},
   "outputs": [
    {
     "name": "stdout",
     "output_type": "stream",
     "text": [
      "0.3662109374999999\n"
     ]
    }
   ],
   "source": [
    "import scipy.stats as stats\n",
    "\n",
    "# calculating P(2-4 heads) = P(2 heads) + P(3 heads) + P(4 heads) for flipping a coin 10 times\n",
    "print(stats.binom.pmf(2, n=10, p=.5) + stats.binom.pmf(3, n=10, p=.5) + stats.binom.pmf(4, n=10, p=.5))"
   ]
  },
  {
   "cell_type": "markdown",
   "metadata": {},
   "source": [
    "We can also calculate the probability of observing less than a certain value, let’s say 3 heads, by adding up the probabilities of the values below it:"
   ]
  },
  {
   "cell_type": "code",
   "execution_count": 150,
   "metadata": {},
   "outputs": [
    {
     "name": "stdout",
     "output_type": "stream",
     "text": [
      "0.05468750000000005\n"
     ]
    }
   ],
   "source": [
    "import scipy.stats as stats\n",
    "\n",
    "# calculating P(less than 3 heads) = P(0 heads) + P(1 head) + P(2 heads) for flipping a coin 10 times\n",
    "print(stats.binom.pmf(0, n=10, p=.5) + stats.binom.pmf(1, n=10, p=.5) + stats.binom.pmf(2, n=10, p=.5))"
   ]
  },
  {
   "cell_type": "markdown",
   "metadata": {},
   "source": [
    "When there are many possible values of interest, this task of adding up probabilities can be difficult. If we want to know the probability of observing 8 or fewer heads from 10 coin flips, we need to add up the values from 0 to 8:"
   ]
  },
  {
   "cell_type": "code",
   "execution_count": 151,
   "metadata": {},
   "outputs": [
    {
     "data": {
      "text/plain": [
       "np.float64(0.9892578124999998)"
      ]
     },
     "execution_count": 151,
     "metadata": {},
     "output_type": "execute_result"
    }
   ],
   "source": [
    "import scipy.stats as stats\n",
    "\n",
    "stats.binom.pmf(0, n = 10, p = 0.5) + stats.binom.pmf(1, n = 10, p = 0.5) \\\n",
    "+ stats.binom.pmf(2, n = 10, p = 0.5) + stats.binom.pmf(3, n = 10, p = 0.5) + \\\n",
    "stats.binom.pmf(4, n = 10, p = 0.5) + stats.binom.pmf(5, n = 10, p = 0.5) + \\\n",
    "stats.binom.pmf(6, n = 10, p = 0.5) + stats.binom.pmf(7, n = 10, p = 0.5) + stats.binom.pmf(8, n = 10, p = 0.5)"
   ]
  },
  {
   "cell_type": "markdown",
   "metadata": {},
   "source": [
    "This involves a lot of repetitive code. Instead, we can also use the fact that the sum of the probabilities for all possible values is equal to 1:\n",
    "\n",
    "- P(0to8heads)+P(9to10heads)=P(0to10heads)=1\n",
    "- P(0to8heads)=1−P(9to10heads)"
   ]
  },
  {
   "cell_type": "markdown",
   "metadata": {},
   "source": [
    "Now instead of summing up 9 values for the probabilities between 0 and 8 heads, we can do 1 minus the sum of two values and get the same result:"
   ]
  },
  {
   "cell_type": "code",
   "execution_count": 152,
   "metadata": {},
   "outputs": [
    {
     "data": {
      "text/plain": [
       "np.float64(0.9892578125)"
      ]
     },
     "execution_count": 152,
     "metadata": {},
     "output_type": "execute_result"
    }
   ],
   "source": [
    "import scipy.stats as stats\n",
    "# less than or equal to 8\n",
    "1 - (stats.binom.pmf(9, n=10, p=.5) + stats.binom.pmf(10, n=10, p=.5))"
   ]
  },
  {
   "cell_type": "markdown",
   "metadata": {},
   "source": [
    "#### Example Scenarios of PMF"
   ]
  },
  {
   "cell_type": "markdown",
   "metadata": {},
   "source": [
    "##### 1. Rolling a Fair Die\n",
    "When rolling a fair six-sided die, each outcome (1 through 6) has an equal probability.\n",
    "\n",
    "- **Scenario**: Rolling a fair six-sided die.\n",
    "- **Outcomes**: $\\{1, 2, 3, 4, 5, 6\\}$\n",
    "- **Probability for each outcome**: $P(X = x) = \\frac{1}{6}$\n",
    "\n",
    "The PMF can be represented as:\n",
    "$$\n",
    "P(X = x) =\n",
    "\\begin{cases}\n",
    "\\frac{1}{6} & \\text{if } x \\in \\{1, 2, 3, 4, 5, 6\\} \\\\\n",
    "0 & \\text{otherwise}\n",
    "\\end{cases}\n",
    "$$\n"
   ]
  },
  {
   "cell_type": "markdown",
   "metadata": {},
   "source": [
    "##### 2. Flipping a Fair Coin\n",
    "When flipping a fair coin, there are two possible outcomes: heads (H) and tails (T), each with an equal probability.\n",
    "\n",
    "- **Scenario**: Flipping a fair coin.\n",
    "- **Outcomes**: $\\{H, T\\}$\n",
    "- **Probability for each outcome**: $P(X = H) = 0.5$ and $P(X = T) = 0.5$\n",
    "\n",
    "The PMF can be represented as:\n",
    "$$\n",
    "P(X = x) =\n",
    "\\begin{cases}\n",
    "0.5 & \\text{if } x \\in \\{H, T\\} \\\\\n",
    "0 & \\text{otherwise}\n",
    "\\end{cases}\n",
    "$$\n"
   ]
  },
  {
   "cell_type": "markdown",
   "metadata": {},
   "source": [
    "##### 3. Number of Heads in Two Coin Flips\n",
    "When flipping two fair coins, the number of heads can be 0, 1, or 2.\n",
    "\n",
    "- **Scenario**: Flipping two fair coins.\n",
    "- **Outcomes**: $\\{0, 1, 2\\}$ (number of heads)\n",
    "- **Probability for each outcome**:\n",
    "  - $P(X = 0) = \\frac{1}{4}$\n",
    "  - $P(X = 1) = \\frac{1}{2}$\n",
    "  - $P(X = 2) = \\frac{1}{4}$\n",
    "\n",
    "The PMF can be represented as:\n",
    "$$\n",
    "P(X = x) =\n",
    "\\begin{cases}\n",
    "\\frac{1}{4} & \\text{if } x = 0 \\\\\n",
    "\\frac{1}{2} & \\text{if } x = 1 \\\\\n",
    "\\frac{1}{4} & \\text{if } x = 2 \\\\\n",
    "0 & \\text{otherwise}\n",
    "\\end{cases}\n",
    "$$\n"
   ]
  },
  {
   "cell_type": "markdown",
   "metadata": {},
   "source": [
    "##### 4. Number of Defective Items in a Sample\n",
    "Suppose a factory produces light bulbs, and 10% of them are defective. If you randomly select 5 light bulbs, you want to find the probability distribution of the number of defective bulbs.\n",
    "\n",
    "- **Scenario**: Selecting 5 light bulbs from a batch where 10% are defective.\n",
    "- **Outcomes**: $\\{0, 1, 2, 3, 4, 5\\}$ (number of defective bulbs)\n",
    "- **Probability for each outcome**: This follows a binomial distribution with parameters $n = 5$ and $p = 0.1$.\n",
    "\n",
    "The PMF can be represented as:\n",
    "$$\n",
    "P(X = x) = \\binom{5}{x} (0.1)^x (0.9)^{5-x}\n",
    "$$\n",
    "where $x$ can be 0, 1, 2, 3, 4, or 5.\n"
   ]
  },
  {
   "cell_type": "markdown",
   "metadata": {},
   "source": [
    "##### 5. Number of Calls Received by a Call Center\n",
    "A call center receives an average of 2 calls per minute. The number of calls received in a minute follows a Poisson distribution.\n",
    "\n",
    "- **Scenario**: Receiving calls at a call center.\n",
    "- **Outcomes**: $\\{0, 1, 2, 3, \\ldots\\}$ (number of calls received in a minute)\n",
    "- **Probability for each outcome**: This follows a Poisson distribution with parameter $\\lambda = 2$.\n",
    "\n",
    "The PMF can be represented as:\n",
    "$$\n",
    "P(X = x) = \\frac{2^x e^{-2}}{x!}\n",
    "$$\n",
    "where $x$ can be any non-negative integer.\n"
   ]
  },
  {
   "cell_type": "markdown",
   "metadata": {},
   "source": [
    "---"
   ]
  },
  {
   "cell_type": "markdown",
   "metadata": {},
   "source": [
    "### Cumulative Distribution Function\n"
   ]
  },
  {
   "cell_type": "markdown",
   "metadata": {},
   "source": [
    "The cumulative distribution function for a discrete random variable can be derived from the probability mass function. However, instead of the probability of observing a specific value, the cumulative distribution function gives the probability of observing a specific value OR LESS."
   ]
  },
  {
   "cell_type": "markdown",
   "metadata": {},
   "source": [
    "As previously discussed, the probabilities for all possible values in a given probability distribution add up to 1. The value of a cumulative distribution function at a given value is equal to the sum of the probabilities lower than it, with a value of 1 for the largest possible number."
   ]
  },
  {
   "cell_type": "markdown",
   "metadata": {},
   "source": [
    "Cumulative distribution functions are constantly increasing, so for two different numbers that the random variable could take on, the value of the function will always be greater for the larger number. Mathematically, this is represented as:\n",
    "\n",
    "$$\n",
    "Ifx \n",
    "1\n",
    "​\n",
    " <x \n",
    "2\n",
    "​\n",
    " ,→CDF(x \n",
    "1\n",
    "​\n",
    " )<CDF(x \n",
    "2\n",
    "​\n",
    " )\n",
    "$$"
   ]
  },
  {
   "cell_type": "markdown",
   "metadata": {},
   "source": [
    "We showed how the probability mass function can be used to calculate the probability of observing less than 3 heads out of 10 coin flips by adding up the probabilities of observing 0, 1, and 2 heads. The cumulative distribution function produces the same answer by evaluating the function at CDF(X=2). In this case, using the CDF is simpler than the PMF because it requires one calculation rather than three."
   ]
  },
  {
   "cell_type": "markdown",
   "metadata": {},
   "source": [
    "We can use a cumulative distribution function to calculate the probability of a specific range by taking the difference between two values from the cumulative distribution function. For example, to find the probability of observing between 3 and 6 heads, we can take the probability of observing 6 or fewer heads and subtracting the probability of observing 2 or fewer heads. This leaves a remnant of between 3 and 6 heads."
   ]
  },
  {
   "cell_type": "markdown",
   "metadata": {},
   "source": [
    "It is important to note that to include the lower bound in the range, the value being subtracted should be one less than the lower bound. In this example, we wanted to know the probability from 3 to 6, which includes 3. Mathematically, this looks like the following equation:"
   ]
  },
  {
   "cell_type": "markdown",
   "metadata": {},
   "source": [
    "$$\n",
    "P(3<=X<=6)=P(X<=6)−P(X<3)\n",
    "$$\n",
    "$$or$$\n",
    "$$\n",
    "P(3<=X<=6)=P(X<=6)−P(X<=2)\n",
    "$$"
   ]
  },
  {
   "cell_type": "markdown",
   "metadata": {},
   "source": [
    "#### Calculating Cumulative Distribution Function in Python"
   ]
  },
  {
   "cell_type": "markdown",
   "metadata": {},
   "source": [
    "We can use the binom.cdf() method from the scipy.stats library to calculate the cumulative distribution function. This method takes 3 values:\n",
    "\n",
    "- x: the value of interest, looking for the probability of this value or less\n",
    "- n: the sample size\n",
    "- p: the probability of success"
   ]
  },
  {
   "cell_type": "markdown",
   "metadata": {},
   "source": [
    "Calculating the probability of observing 6 or fewer heads from 10 fair coin flips (0 to 6 heads) mathematically looks like the following:\n",
    "\n",
    "$$\n",
    "P(6 \\text{ or fewer heads}) = P(0 \\text{ to } 6 \\text{ heads})\n",
    "$$"
   ]
  },
  {
   "cell_type": "code",
   "execution_count": 153,
   "metadata": {},
   "outputs": [
    {
     "name": "stdout",
     "output_type": "stream",
     "text": [
      "0.828125\n"
     ]
    }
   ],
   "source": [
    "import scipy.stats as stats\n",
    "\n",
    "print(stats.binom.cdf(6, 10, 0.5))"
   ]
  },
  {
   "cell_type": "markdown",
   "metadata": {},
   "source": [
    "Calculating the probability of observing between 4 and 8 heads from 10 fair coin flips can be thought of as taking the difference of the value of the cumulative distribution function at 8 from the cumulative distribution function at 3:\n",
    "\n",
    "$$\n",
    "P(4 \\text { to } 8 \\text { Heads })=P(0 \\text { to } 8 \\text { Heads }) − P(0 \\text { to } 3 \\text { Heads })\n",
    "$$"
   ]
  },
  {
   "cell_type": "code",
   "execution_count": 154,
   "metadata": {},
   "outputs": [
    {
     "name": "stdout",
     "output_type": "stream",
     "text": [
      "0.8173828125\n"
     ]
    }
   ],
   "source": [
    "import scipy.stats as stats\n",
    "\n",
    "print(stats.binom.cdf(8, 10, 0.5) - stats.binom.cdf(3, 10, 0.5))\n"
   ]
  },
  {
   "cell_type": "markdown",
   "metadata": {},
   "source": [
    "To calculate the probability of observing more than 6 heads from 10 fair coin flips we subtract the value of the cumulative distribution function at 6 from 1. Mathematically, this looks like the following:\n",
    "$$\n",
    "P(\\text{more than 6 heads}) = 1 - P(\\text{6 or fewer heads})\n",
    "$$\n",
    "\n",
    "Note that “more than 6 heads” does not include 6. In python, we would calculate this probability using the following code:"
   ]
  },
  {
   "cell_type": "code",
   "execution_count": 155,
   "metadata": {},
   "outputs": [
    {
     "name": "stdout",
     "output_type": "stream",
     "text": [
      "0.171875\n"
     ]
    }
   ],
   "source": [
    "import scipy.stats as stats\n",
    "print(1 - stats.binom.cdf(6, 10, 0.5))"
   ]
  },
  {
   "cell_type": "markdown",
   "metadata": {},
   "source": [
    "---"
   ]
  },
  {
   "cell_type": "markdown",
   "metadata": {},
   "source": [
    "### Probability Density Functions"
   ]
  },
  {
   "cell_type": "markdown",
   "metadata": {},
   "source": [
    "Similar to how discrete random variables relate to probability mass functions, continuous random variables relate to probability density functions They define the probability distributions of continuous random variables and span across all possible values that the given random variable can take on.\n",
    "\n",
    "When graphed, a probability density function is a curve across all possible values the random variable can take on, and the total area under this curve adds up to 1.\n",
    "\n",
    "The following image shows a probability density function. The highlighted area represents the probability of observing a value within the highlighted range."
   ]
  },
  {
   "cell_type": "markdown",
   "metadata": {},
   "source": [
    "<img src=\"https://static-assets.codecademy.com/skillpaths/master-stats-ii/probability-distributions/Adding-Area.gif\" alt=\"GIF or visual of the area under the curve highlighted and showing the calculated area under the curve\" class=\"styles_img__Ckuzm\">"
   ]
  },
  {
   "cell_type": "markdown",
   "metadata": {},
   "source": [
    "In a probability density function, we cannot calculate the probability at a single point. This is because the area of the curve underneath a single point is always zero. The gif below showcases this."
   ]
  },
  {
   "cell_type": "markdown",
   "metadata": {},
   "source": [
    "<img src=\"https://static-assets.codecademy.com/skillpaths/master-stats-ii/probability-distributions/Normal-Distribution-Area-to-Zero.gif\" alt=\"GIF or visual of the highlighted area under the curve getting smaller and smaller until the area equals 0\" class=\"styles_img__Ckuzm\">"
   ]
  },
  {
   "cell_type": "markdown",
   "metadata": {},
   "source": [
    "As we can see from the visual above, as the interval becomes smaller, the width of the area under the curve becomes smaller as well. When trying to evaluate the area under the curve at a specific point, the width of that area becomes 0, and therefore the probability equals 0.\n",
    "\n",
    "We can calculate the area under the curve using the cumulative distribution function for the given probability distribution."
   ]
  },
  {
   "cell_type": "markdown",
   "metadata": {},
   "source": [
    "For example, heights fall under a type of probability distribution called a normal distribution. The parameters for the normal distribution are the mean and the standard deviation, and we use the form Normal(mean, standard deviation) as shorthand."
   ]
  },
  {
   "cell_type": "markdown",
   "metadata": {},
   "source": [
    "We know that women’s heights have a mean of 167.64 cm with a standard deviation of 8 cm, which makes them fall under the Normal(167.64, 8) distribution."
   ]
  },
  {
   "cell_type": "markdown",
   "metadata": {},
   "source": [
    "Let’s say we want to know the probability that a randomly chosen woman is less than 158 cm tall. We can use the cumulative distribution function to calculate the area under the probability density function curve from 0 to 158 to find that probability."
   ]
  },
  {
   "cell_type": "markdown",
   "metadata": {},
   "source": [
    "<img src=\"https://static-assets.codecademy.com/skillpaths/master-stats-ii/probability-distributions/norm_pdf_167_8_filled.svg\" alt=\"Image to show the area under the curve highlighted from 0 to 158 cm\" class=\"styles_img__Ckuzm\">"
   ]
  },
  {
   "cell_type": "markdown",
   "metadata": {},
   "source": [
    "We can calculate the area of the blue region in Python using the `norm.cdf()` method from the scipy.stats library. This method takes on 3 values:\n",
    "\n",
    "- **x**: the value of interest\n",
    "- **loc**: the mean of the probability distribution\n",
    "- **scale**: the standard deviation of the probability distribution"
   ]
  },
  {
   "cell_type": "code",
   "execution_count": 156,
   "metadata": {},
   "outputs": [
    {
     "name": "stdout",
     "output_type": "stream",
     "text": [
      "0.11410165094812996\n"
     ]
    }
   ],
   "source": [
    "import scipy.stats as stats\n",
    "\n",
    "# stats.norm.cdf(x, loc, scale)\n",
    "print(stats.norm.cdf(158, 167.64, 8))"
   ]
  },
  {
   "cell_type": "markdown",
   "metadata": {},
   "source": [
    "#### Probability Density Functions and Cumulative Distribution Function"
   ]
  },
  {
   "cell_type": "markdown",
   "metadata": {},
   "source": [
    "We can take the difference between two overlapping ranges to calculate the probability that a random selection will be within a range of values for continuous distributions. This is essentially the same process as calculating the probability of a range of values for discrete distributions."
   ]
  },
  {
   "cell_type": "markdown",
   "metadata": {},
   "source": [
    "Let’s say we wanted to calculate the probability of randomly observing a woman between 165 cm to 175 cm, assuming heights still follow the Normal(167.74, 8) distribution. We can calculate the probability of observing these values or less. The difference between these two probabilities will be the probability of randomly observing a woman in this given range. This can be done in python using the norm.cdf() method from the scipy.stats library. As mentioned before, this method takes on 3 values:\n",
    "\n",
    "- **x**: the value of interest\n",
    "- **loc**: the mean of the probability distribution\n",
    "- **scale**: the standard deviation of the probability distribution"
   ]
  },
  {
   "cell_type": "code",
   "execution_count": 157,
   "metadata": {},
   "outputs": [
    {
     "name": "stdout",
     "output_type": "stream",
     "text": [
      "0.45194145326220503\n"
     ]
    }
   ],
   "source": [
    "import scipy.stats as stats\n",
    "# P(165 < X < 175) = P(X < 175) - P(X < 165)\n",
    "# stats.norm.cdf(x, loc, scale) - stats.norm.cdf(x, loc, scale)\n",
    "print(stats.norm.cdf(175, 167.74, 8) - stats.norm.cdf(165, 167.74, 8))"
   ]
  },
  {
   "cell_type": "markdown",
   "metadata": {},
   "source": [
    "We can also calculate the probability of randomly observing a value or greater by subtracting the probability of observing less than the given value from 1. This is possible because we know that the total area under the curve is 1, so the probability of observing something greater than a value is 1 minus the probability of observing something less than the given value."
   ]
  },
  {
   "cell_type": "markdown",
   "metadata": {},
   "source": [
    "Let’s say we wanted to calculate the probability of observing a woman taller than 172 centimeters, assuming heights still follow the Normal(167.74, 8) distribution. We can think of this as the opposite of observing a woman shorter than 172 centimeters. We can visualize it this way:"
   ]
  },
  {
   "cell_type": "markdown",
   "metadata": {},
   "source": [
    "<img src=\"https://static-assets.codecademy.com/skillpaths/master-stats-ii/probability-distributions/norm_pdf_167_8_filled2.svg\" alt=\"Image showing how P(X > 172) = 1 - P(X < 172)\" class=\"styles_img__Ckuzm\">"
   ]
  },
  {
   "cell_type": "code",
   "execution_count": 158,
   "metadata": {},
   "outputs": [
    {
     "name": "stdout",
     "output_type": "stream",
     "text": [
      "0.2971898709083267\n"
     ]
    }
   ],
   "source": [
    "import scipy.stats as stats\n",
    "\n",
    "# P(X > 172) = 1 - P(X < 172)\n",
    "# 1 - stats.norm.cdf(x, loc, scale)\n",
    "print(1 - stats.norm.cdf(172, 167.74, 8))"
   ]
  },
  {
   "cell_type": "markdown",
   "metadata": {},
   "source": [
    "---"
   ]
  },
  {
   "cell_type": "markdown",
   "metadata": {},
   "source": [
    "### Review"
   ]
  },
  {
   "cell_type": "markdown",
   "metadata": {},
   "source": [
    "Methods/functions discussed"
   ]
  },
  {
   "cell_type": "code",
   "execution_count": 159,
   "metadata": {},
   "outputs": [
    {
     "name": "stdout",
     "output_type": "stream",
     "text": [
      "[1 3 1 3 3]\n",
      "0.2050781249999999\n",
      "0.3662109374999999\n",
      "0.9892578125\n",
      "0.828125\n",
      "0.171875\n",
      "0.8173828125\n",
      "0.0227501319481792\n",
      "0.09121121972586788\n",
      "0.32165098790894897\n"
     ]
    }
   ],
   "source": [
    "import scipy.stats as stats\n",
    "import numpy as np\n",
    "\n",
    "## Exercise 1\n",
    "# sampling from a 6-sided die\n",
    "die_6 = range(1, 7)\n",
    "print(np.random.choice(die_6, size = 5, replace = True))\n",
    "\n",
    "\n",
    "## Exercise 4 - binomial probability mass function\n",
    "# 6 heads from 10 fair coin flips\n",
    "print(stats.binom.pmf(6, 10, 0.5))\n",
    "\n",
    "\n",
    "## Exercise 6 - binomial probability mass function\n",
    "# 2 to 4 heads from 10 coin flips\n",
    "# P(X = 2) + P(X = 3) + P(X = 4)\n",
    "print(stats.binom.pmf(2, n=10, p=.5) + stats.binom.pmf(3, n=10, p=.5) + stats.binom.pmf(4, n=10, p=.5))\n",
    "\n",
    "# 0 to 8 heads from 10 coin flips\n",
    "# 1 - (P(X = 9) + P(X = 10))\n",
    "print(1 - (stats.binom.pmf(9, n=10, p=.5) + stats.binom.pmf(10, n=10, p=.5)))\n",
    "\n",
    "\n",
    "## Exercise 9 - binomial cumulative distribution function\n",
    "# 6 or fewer heads from 10 coin flips\n",
    "print(stats.binom.cdf(6, 10, 0.5))\n",
    "\n",
    "# more than 6 heads from 10 coin flips\n",
    "print(1 - stats.binom.cdf(6, 10, 0.5))\n",
    "\n",
    "# between 4 and 8 heads from 10 coin flips\n",
    "print(stats.binom.cdf(8, 10, 0.5) - stats.binom.cdf(3, 10, 0.5))\n",
    "\n",
    "\n",
    "## Exercise 10 - normal distribution cumulative distribution function\n",
    "# stats.norm.cdf(x, loc, scale)\n",
    "# temperature being less than 14*C\n",
    "  # x = 14, loc = 20, scale = 3\n",
    "print(stats.norm.cdf(14, 20, 3))\n",
    "\n",
    "\n",
    "# Exercise 11\n",
    "# temperature being greater than 24*C\n",
    "  # x = 24, loc = 20, scale = 3\n",
    "print(1 - stats.norm.cdf(24, 20, 3))\n",
    "\n",
    "# temperature being between 21*C and 25*C\n",
    "  # x = 24, loc = 20, scale = 3\n",
    "print(stats.norm.cdf(25, 20, 3) - stats.norm.cdf(21, 20, 3))\n",
    "\n",
    "\n",
    "\n",
    "\n"
   ]
  },
  {
   "cell_type": "markdown",
   "metadata": {},
   "source": [
    "---"
   ]
  },
  {
   "cell_type": "markdown",
   "metadata": {},
   "source": [
    "### Poisson Distribution"
   ]
  },
  {
   "cell_type": "markdown",
   "metadata": {},
   "source": [
    "Poisson distribution is another common distribution, and it is used to describe the number of times a certain event occurs within a fixed time or space interval. For example, the Poisson distribution can be used to describe the number of cars that pass through a specific intersection between 4pm and 5pm on a given day. It can also be used to describe the number of calls received in an office between 1pm to 3pm on a certain day."
   ]
  },
  {
   "cell_type": "markdown",
   "metadata": {},
   "source": [
    "The Poisson distribution is defined by the rate parameter, symbolized by the Greek letter lambda, λ.\n",
    "\n",
    "Lambda represents the expected value — or the average value — of the distribution. For example, if our expected number of customers between 1pm and 2pm is 7, then we would set the parameter for the Poisson distribution to be 7. The PMF for the Poisson(7) distribution is as follows:"
   ]
  },
  {
   "cell_type": "markdown",
   "metadata": {},
   "source": [
    "<img src=\"https://static-assets.codecademy.com/skillpaths/master-stats-ii/probability-distributions/pois_7_pmf.svg\" alt=\"This plot shows the PMF of the Poisson(7) distribution. The plot is centered around 7 \" class=\"styles_img__Ckuzm\">"
   ]
  },
  {
   "cell_type": "markdown",
   "metadata": {},
   "source": [
    "---"
   ]
  },
  {
   "cell_type": "markdown",
   "metadata": {},
   "source": [
    "#### Calculating Poisson Distribution with PMF"
   ]
  },
  {
   "cell_type": "markdown",
   "metadata": {},
   "source": [
    "The Poisson distribution is a discrete probability distribution, so it can be described by a probability mass function and cumulative distribution function.\n",
    "\n",
    "We can use the poisson.pmf() method in the scipy.stats library to evaluate the probability of observing a specific number given the parameter (expected value) of a distribution. For example, suppose that we expect it to rain 10 times in the next 30 days. The number of times it rains in the next 30 days is “Poisson distributed” with lambda = 10. We can calculate the probability of exactly 6 times of rain as follows:"
   ]
  },
  {
   "cell_type": "code",
   "execution_count": 160,
   "metadata": {},
   "outputs": [
    {
     "data": {
      "text/plain": [
       "np.float64(0.06305545800345125)"
      ]
     },
     "execution_count": 160,
     "metadata": {},
     "output_type": "execute_result"
    }
   ],
   "source": [
    "import scipy.stats as stats\n",
    "# expected value = 10, probability of observing 6\n",
    "stats.poisson.pmf(6, 10)"
   ]
  },
  {
   "cell_type": "markdown",
   "metadata": {},
   "source": [
    "Like previous probability mass functions of discrete random variables, individual probabilities can be summed together to find the probability of observing a value in a range.\n",
    "\n",
    "For example, if we expect it to rain 10 times in the next 30 days, the number of times it rains in the next 30 days is “Poisson distributed” with lambda = 10. We can calculate the probability of 12-14 times of rain as follows:"
   ]
  },
  {
   "cell_type": "code",
   "execution_count": 161,
   "metadata": {},
   "outputs": [
    {
     "data": {
      "text/plain": [
       "np.float64(0.21976538076223123)"
      ]
     },
     "execution_count": 161,
     "metadata": {},
     "output_type": "execute_result"
    }
   ],
   "source": [
    "import scipy.stats as stats\n",
    "# expected value = 10, probability of observing 12-14\n",
    "stats.poisson.pmf(12, 10) + stats.poisson.pmf(13, 10) + stats.poisson.pmf(14, 10)"
   ]
  },
  {
   "cell_type": "markdown",
   "metadata": {},
   "source": [
    "---"
   ]
  },
  {
   "cell_type": "markdown",
   "metadata": {},
   "source": [
    "#### Calculating Poisson Distribution with CDF"
   ]
  },
  {
   "cell_type": "markdown",
   "metadata": {},
   "source": [
    "We can use the poisson.cdf() method in the scipy.stats library to evaluate the probability of observing a specific number or less given the expected value of a distribution. For example, if we wanted to calculate the probability of observing 6 or fewer rain events in the next 30 days when we expected 10, we could do the following:"
   ]
  },
  {
   "cell_type": "code",
   "execution_count": 162,
   "metadata": {},
   "outputs": [
    {
     "data": {
      "text/plain": [
       "np.float64(0.13014142088248304)"
      ]
     },
     "execution_count": 162,
     "metadata": {},
     "output_type": "execute_result"
    }
   ],
   "source": [
    "import scipy.stats as stats\n",
    "# expected value = 10, probability of observing 6 or less\n",
    "stats.poisson.cdf(6, 10)"
   ]
  },
  {
   "cell_type": "markdown",
   "metadata": {},
   "source": [
    "We can also use this method to evaluate the probability of observing a specific number or more given the expected value of the distribution. For example, if we wanted to calculate the probability of observing 12 or more rain events in the next 30 days when we expected 10, we could do the following:"
   ]
  },
  {
   "cell_type": "code",
   "execution_count": 163,
   "metadata": {},
   "outputs": [
    {
     "data": {
      "text/plain": [
       "np.float64(0.30322385369689386)"
      ]
     },
     "execution_count": 163,
     "metadata": {},
     "output_type": "execute_result"
    }
   ],
   "source": [
    "import scipy.stats as stats\n",
    "# expected value = 10, probability of observing 12 or more\n",
    "1 - stats.poisson.cdf(11, 10)"
   ]
  },
  {
   "cell_type": "markdown",
   "metadata": {},
   "source": [
    "Note that we used 11 in the statement above even though 12 was the value given in the prompt. We wanted to calculate the probability of observing 12 or more rains, which includes 12. stats.poisson.cdf(11, 10) evaluates the probability of observing 11 or fewer rains, so 1 - stats.poisson.cdf(11, 10) would equal the probability of observing 12 or more rains."
   ]
  },
  {
   "cell_type": "markdown",
   "metadata": {},
   "source": [
    "Summing individual probabilities over a wide range can be cumbersome. It is often easier to calculate the probability of a range using the cumulative density function instead of the probability mass function. We can do this by taking the difference between the CDF of the larger endpoint and the CDF of one less than the smaller endpoint of the range.\n",
    "\n",
    "For example, while still expecting 10 rainfalls in the next 30 days, we could use the following code to calculate the probability of observing between 12 and 18 rainfall events:"
   ]
  },
  {
   "cell_type": "code",
   "execution_count": 164,
   "metadata": {},
   "outputs": [
    {
     "data": {
      "text/plain": [
       "np.float64(0.29603734909303947)"
      ]
     },
     "execution_count": 164,
     "metadata": {},
     "output_type": "execute_result"
    }
   ],
   "source": [
    "import scipy.stats as stats\n",
    "# expected value = 10, probability of observing between 12 and 18\n",
    "stats.poisson.cdf(18, 10) - stats.poisson.cdf(11, 10)"
   ]
  },
  {
   "cell_type": "markdown",
   "metadata": {},
   "source": [
    "---"
   ]
  },
  {
   "cell_type": "markdown",
   "metadata": {},
   "source": [
    "#### Expectation of the Poisson Distribution"
   ]
  },
  {
   "cell_type": "markdown",
   "metadata": {},
   "source": [
    "Earlier, we mentioned that the parameter lambda (λ) is the expected value (or average value) of the Poisson distribution. But what does this mean?\n",
    "\n",
    "Let’s put this into context: let’s say we are salespeople, and after many weeks of work, we calculate our average to be 10 sales per week. If we take this value to be our expected value of a Poisson Distribution, the probability mass function will look as follows:"
   ]
  },
  {
   "cell_type": "markdown",
   "metadata": {},
   "source": [
    "<img src=\"https://static-assets.codecademy.com/skillpaths/master-stats-ii/probability-distributions/pois_10_pmf_red.svg\" alt=\"This is a plot of the probability mass function for the Poisson distribution with the expected value equal to 10. The bar at 10 is colored red, and the rest of the bars are colored blue.\" class=\"styles_img__Ckuzm\">"
   ]
  },
  {
   "cell_type": "markdown",
   "metadata": {},
   "source": [
    "The tallest bar represents the value with the highest probability of occurring. In this case, the tallest bar is at 10. This does not, however, mean that we will make 10 sales. It means that on average, across all weeks, we expect our average to equal about 10 sales per week."
   ]
  },
  {
   "cell_type": "markdown",
   "metadata": {},
   "source": [
    "Let’s look at this another way. Let’s take a sample of 1000 random values from the Poisson distribution with the expected value of 10. We can use the poisson.rvs() method in the scipy.stats library to generate random values:"
   ]
  },
  {
   "cell_type": "code",
   "execution_count": 165,
   "metadata": {},
   "outputs": [
    {
     "data": {
      "image/png": "[encoded data removed]",
      "text/plain": [
       "<Figure size 640x480 with 1 Axes>"
      ]
     },
     "metadata": {},
     "output_type": "display_data"
    }
   ],
   "source": [
    "import scipy.stats as stats\n",
    "\n",
    "# generate random variable\n",
    "# stats.poisson.rvs(lambda, size = num_values)\n",
    "rvs = stats.poisson.rvs(10, size = 1000)\n",
    "import matplotlib.pyplot as plt\n",
    "\n",
    "# plot histogram\n",
    "plt.hist(rvs, bins=30, edgecolor='black')\n",
    "plt.title('Histogram of Poisson Distributed Random Variables')\n",
    "plt.xlabel('Value')\n",
    "plt.ylabel('Frequency')\n",
    "plt.show()"
   ]
  },
  {
   "cell_type": "markdown",
   "metadata": {},
   "source": [
    "---"
   ]
  },
  {
   "cell_type": "markdown",
   "metadata": {},
   "source": [
    "#### Spread of the Poisson Distribution"
   ]
  },
  {
   "cell_type": "markdown",
   "metadata": {},
   "source": [
    "Probability distributions also have calculable variances. Variances are a way of measuring the spread or dispersion of values and probabilities in the distribution. For the Poisson distribution, the variance is simply the value of lambda (λ), meaning that the expected value and variance are equivalent in Poisson distributions.\n",
    "\n"
   ]
  },
  {
   "cell_type": "markdown",
   "metadata": {},
   "source": [
    "The first plot below shows a Poisson distribution with lambda equal to three, and the second plot shows a Poisson distribution with lambda equal to fifteen. Notice that in the second plot, the spread of the distribution increases. Also, take note that the height of the bars in the second bar decrease since there are more possible values in the distribution."
   ]
  },
  {
   "cell_type": "markdown",
   "metadata": {},
   "source": [
    "<img src=\"https://static-assets.codecademy.com/skillpaths/master-stats-ii/probability-distributions/poisson_lambda_3.svg\" alt=\"This image shows a Poisson distribution with lambda equal to three.\" class=\"styles_img__Ckuzm\">"
   ]
  },
  {
   "cell_type": "markdown",
   "metadata": {},
   "source": [
    "<img src=\"https://static-assets.codecademy.com/skillpaths/master-stats-ii/probability-distributions/poisson_lambda_15.svg\" alt=\"This image shows a Poisson distribution with lambda equal to fifteen.\" class=\"styles_img__Ckuzm\">"
   ]
  },
  {
   "cell_type": "markdown",
   "metadata": {},
   "source": [
    "As we can see, as the parameter lambda increases, the variance — or spread — of possible values increases as well.\n",
    "\n",
    "We can calculate the variance of a sample using the numpy.var() method:"
   ]
  },
  {
   "cell_type": "code",
   "execution_count": 166,
   "metadata": {},
   "outputs": [
    {
     "name": "stdout",
     "output_type": "stream",
     "text": [
      "3.9425110000000005\n"
     ]
    }
   ],
   "source": [
    "import scipy.stats as stats\n",
    "import numpy as np\n",
    "\n",
    "rand_vars = stats.poisson.rvs(4, size = 1000)\n",
    "print(np.var(rand_vars))"
   ]
  },
  {
   "cell_type": "markdown",
   "metadata": {},
   "source": [
    "Because this is calculated from a sample, it is possible that the variance might not equal EXACTLY lambda. However, we do expect it to be relatively close when the sample size is large, like in this example."
   ]
  },
  {
   "cell_type": "markdown",
   "metadata": {},
   "source": [
    "Another way to view the increase in possible values is to take the range of a sample (the minimum and maximum values in a set). The following code will take draw 1000 random variables from the Poisson distribution with lambda = 4 and then print the minimum and maximum values observed using the .min() and .max() Python functions:"
   ]
  },
  {
   "cell_type": "code",
   "execution_count": 167,
   "metadata": {},
   "outputs": [
    {
     "name": "stdout",
     "output_type": "stream",
     "text": [
      "0 12\n"
     ]
    }
   ],
   "source": [
    "import scipy.stats as stats\n",
    "\n",
    "rand_vars = stats.poisson.rvs(4, size = 1000)\n",
    "\n",
    "print(min(rand_vars), max(rand_vars))"
   ]
  },
  {
   "cell_type": "markdown",
   "metadata": {},
   "source": [
    "If we increase the value of lambda to 10, let’s see how the minimum and maximum values change:"
   ]
  },
  {
   "cell_type": "code",
   "execution_count": 168,
   "metadata": {},
   "outputs": [
    {
     "name": "stdout",
     "output_type": "stream",
     "text": [
      "2 23\n"
     ]
    }
   ],
   "source": [
    "import scipy.stats as stats\n",
    "\n",
    "rand_vars = stats.poisson.rvs(10, size = 1000)\n",
    "\n",
    "print(min(rand_vars), max(rand_vars))"
   ]
  },
  {
   "cell_type": "markdown",
   "metadata": {},
   "source": [
    "These values are spread wider, indicating a larger variance."
   ]
  },
  {
   "cell_type": "markdown",
   "metadata": {},
   "source": [
    "---"
   ]
  },
  {
   "cell_type": "markdown",
   "metadata": {},
   "source": [
    "### Probabilty Distribution CheatSheet"
   ]
  },
  {
   "cell_type": "markdown",
   "metadata": {},
   "source": [
    "#### Probability Mass Function (PMF)\n",
    "- **Definition**: Describes the likelihood of each possible outcome of a discrete random variable.\n",
    "- **Discrete Variables**: Specifically used for discrete variables, not continuous ones.\n",
    "- **Example**: Rolling a die, the PDF gives the probability of each face (1 through 6).\n",
    "- **SciPy Syntax**: `stats.binom.pmf(k, n, p)` for a binomial distribution or `stats.poisson.pmf(k, λ)` for a Poisson distribution.\n",
    "  - `k`: The number of successes (for binomial) or the number of events (for Poisson).\n",
    "  - `n`: The number of trials (for binomial).\n",
    "  - `p`: The probability of success on each trial (for binomial).\n",
    "  - `λ`: The average number of events per interval (for Poisson)."
   ]
  },
  {
   "cell_type": "markdown",
   "metadata": {},
   "source": [
    "#### Cumulative Distribution Function (CDF)\n",
    "- **Definition**: Gives the probability that a random variable is less than or equal to a certain value.\n",
    "- **Includes Both Discrete and Continuous**: Applicable to both discrete and continuous random variables.\n",
    "- **Example**: For a die roll, the CDF of 3 is the probability of getting 1, 2, or 3.\n",
    "- **SciPy Syntax**: `stats.binom.cdf(k, n, p)` for a binomial distribution or `stats.poisson.cdf(k, λ)` for a Poisson distribution.\n",
    "  - `k`: The number of successes (for binomial) or the number of events (for Poisson).\n",
    "  - `n`: The number of trials (for binomial).\n",
    "  - `p`: The probability of success on each trial (for binomial).\n",
    "  - `λ`: The average number of events per interval (for Poisson)."
   ]
  },
  {
   "cell_type": "markdown",
   "metadata": {},
   "source": [
    "#### Probability Density Function (PDF)\n",
    "- **Definition**: Describes the likelihood of each possible outcome of a continuous random variable.\n",
    "- **Continuous Variables**: Used for continuous variables, not discrete ones.\n",
    "- **Example**: The PDF of a normal distribution tells the likelihood of each possible value of the continuous variable.\n",
    "- **SciPy Syntax**: `stats.norm.pdf(x, μ, σ)` for a normal distribution.\n",
    "  - `x`: The value at which the PDF is evaluated.\n",
    "  - `μ`: The mean of the distribution.\n",
    "  - `σ`: The standard deviation of the distribution."
   ]
  },
  {
   "cell_type": "markdown",
   "metadata": {},
   "source": [
    "#### Poisson Distribution\n",
    "- **Definition**: Describes the probability of a given number of events occurring in a fixed interval of time or space.\n",
    "- **Rate Parameter (λ)**: The average number of events per interval.\n",
    "- **Discrete Distribution**: Used for counting occurrences, not continuous measurements.\n",
    "- **Example**: Number of emails received per hour if the average rate is 7 emails/hour.\n",
    "- **SciPy Syntax**: `stats.poisson.pmf(k, λ)` for the probability mass function or `stats.poisson.cdf(k, λ)` for the cumulative distribution function.\n",
    "  - `k`: The number of events.\n",
    "  - `λ`: The average number of events per interval."
   ]
  }
 ],
 "metadata": {
  "kernelspec": {
   "display_name": ".venv",
   "language": "python",
   "name": "python3"
  },
  "language_info": {
   "codemirror_mode": {
    "name": "ipython",
    "version": 3
   },
   "file_extension": ".py",
   "mimetype": "text/x-python",
   "name": "python",
   "nbconvert_exporter": "python",
   "pygments_lexer": "ipython3",
   "version": "3.11.9"
  }
 },
 "nbformat": 4,
 "nbformat_minor": 2
}
