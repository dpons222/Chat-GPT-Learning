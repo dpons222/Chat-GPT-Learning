{
 "cells": [
  {
   "cell_type": "markdown",
   "metadata": {},
   "source": [
    "# Exploratory Data Analysis"
   ]
  },
  {
   "cell_type": "markdown",
   "metadata": {},
   "source": [
    "# Intro"
   ]
  },
  {
   "cell_type": "code",
   "execution_count": 1,
   "metadata": {},
   "outputs": [
    {
     "name": "stdout",
     "output_type": "stream",
     "text": [
      "   age  salary department  gender  years_of_experience\n",
      "0   56   91228         HR  Female                   10\n",
      "1   69   78984  Marketing    Male                    2\n",
      "2   46   70774  Marketing  Female                   26\n"
     ]
    }
   ],
   "source": [
    "import pandas as pd\n",
    "import numpy as np\n",
    "import matplotlib.pyplot as plt\n",
    "import seaborn as sns\n",
    "\n",
    "# Set the random seed for reproducibility\n",
    "np.random.seed(42)\n",
    "\n",
    "# Create a sample DataFrame\n",
    "data = {\n",
    "    'age': np.random.randint(18, 70, size=100),\n",
    "    'salary': np.random.randint(30000, 100000, size=100),\n",
    "    'department': np.random.choice(['Sales', 'Engineering', 'HR', 'Marketing'], size=100),\n",
    "    'gender': np.random.choice(['Male', 'Female'], size=100),\n",
    "    'years_of_experience': np.random.randint(1, 30, size=100)\n",
    "}\n",
    "\n",
    "df = pd.DataFrame(data)\n",
    "\n",
    "# Display the first few rows of the DataFrame\n",
    "print(df.head(3))\n"
   ]
  },
  {
   "cell_type": "markdown",
   "metadata": {},
   "source": [
    "Important Considerations\n",
    "    - The question (and how many variables that question involves)\n",
    "    - The data (is it quantitative or categorical?)"
   ]
  },
  {
   "cell_type": "markdown",
   "metadata": {},
   "source": [
    "Univariate Statistics\n",
    "    - Summary statistics that focus on a single variable are called univariate statistics\n",
    "\n",
    "\n",
    "Quantitative Variables\n",
    "    - When summarizing quantitative variables, we often want to describe central location and spread.\n",
    "\n",
    "\n",
    "Bivariate Statistics\n",
    "    - In contrast to univariate statistics, bivariate statistics are used to summarize the relationship between two variables"
   ]
  },
  {
   "cell_type": "markdown",
   "metadata": {},
   "source": [
    "Key objectives of EDA:\n",
    "    • Detecting mistakes\n",
    "    • Understanding patterns in the data\n",
    "    • Identifying relationships between variables\n",
    "    • Spotting anomalies or outliers"
   ]
  },
  {
   "cell_type": "markdown",
   "metadata": {},
   "source": [
    "##### df.describe"
   ]
  },
  {
   "cell_type": "markdown",
   "metadata": {},
   "source": [
    "df.describe gives the basic statistics of the dataframe (mean, median, mode, etc)\n"
   ]
  },
  {
   "cell_type": "code",
   "execution_count": 2,
   "metadata": {},
   "outputs": [
    {
     "data": {
      "text/html": [
       "<div>\n",
       "<style scoped>\n",
       "    .dataframe tbody tr th:only-of-type {\n",
       "        vertical-align: middle;\n",
       "    }\n",
       "\n",
       "    .dataframe tbody tr th {\n",
       "        vertical-align: top;\n",
       "    }\n",
       "\n",
       "    .dataframe thead th {\n",
       "        text-align: right;\n",
       "    }\n",
       "</style>\n",
       "<table border=\"1\" class=\"dataframe\">\n",
       "  <thead>\n",
       "    <tr style=\"text-align: right;\">\n",
       "      <th></th>\n",
       "      <th>age</th>\n",
       "      <th>salary</th>\n",
       "      <th>years_of_experience</th>\n",
       "    </tr>\n",
       "  </thead>\n",
       "  <tbody>\n",
       "    <tr>\n",
       "      <th>count</th>\n",
       "      <td>100.000000</td>\n",
       "      <td>100.000000</td>\n",
       "      <td>100.000000</td>\n",
       "    </tr>\n",
       "    <tr>\n",
       "      <th>mean</th>\n",
       "      <td>43.350000</td>\n",
       "      <td>67758.110000</td>\n",
       "      <td>16.100000</td>\n",
       "    </tr>\n",
       "    <tr>\n",
       "      <th>std</th>\n",
       "      <td>14.904663</td>\n",
       "      <td>21128.310944</td>\n",
       "      <td>8.490637</td>\n",
       "    </tr>\n",
       "    <tr>\n",
       "      <th>min</th>\n",
       "      <td>19.000000</td>\n",
       "      <td>30206.000000</td>\n",
       "      <td>1.000000</td>\n",
       "    </tr>\n",
       "    <tr>\n",
       "      <th>25%</th>\n",
       "      <td>31.750000</td>\n",
       "      <td>51971.750000</td>\n",
       "      <td>9.000000</td>\n",
       "    </tr>\n",
       "    <tr>\n",
       "      <th>50%</th>\n",
       "      <td>42.000000</td>\n",
       "      <td>69428.500000</td>\n",
       "      <td>17.000000</td>\n",
       "    </tr>\n",
       "    <tr>\n",
       "      <th>75%</th>\n",
       "      <td>57.000000</td>\n",
       "      <td>85182.000000</td>\n",
       "      <td>23.000000</td>\n",
       "    </tr>\n",
       "    <tr>\n",
       "      <th>max</th>\n",
       "      <td>69.000000</td>\n",
       "      <td>99163.000000</td>\n",
       "      <td>29.000000</td>\n",
       "    </tr>\n",
       "  </tbody>\n",
       "</table>\n",
       "</div>"
      ],
      "text/plain": [
       "              age        salary  years_of_experience\n",
       "count  100.000000    100.000000           100.000000\n",
       "mean    43.350000  67758.110000            16.100000\n",
       "std     14.904663  21128.310944             8.490637\n",
       "min     19.000000  30206.000000             1.000000\n",
       "25%     31.750000  51971.750000             9.000000\n",
       "50%     42.000000  69428.500000            17.000000\n",
       "75%     57.000000  85182.000000            23.000000\n",
       "max     69.000000  99163.000000            29.000000"
      ]
     },
     "execution_count": 2,
     "metadata": {},
     "output_type": "execute_result"
    }
   ],
   "source": [
    "df.describe()"
   ]
  },
  {
   "cell_type": "markdown",
   "metadata": {},
   "source": [
    "# Relationship Between Variables"
   ]
  },
  {
   "cell_type": "markdown",
   "metadata": {},
   "source": [
    "### Correlation"
   ]
  },
  {
   "cell_type": "markdown",
   "metadata": {},
   "source": [
    "Correlation measures the strength and direction of a linear relationship between two variables. It ranges from -1 to 1:\n",
    "- 1: Perfect positive correlation (as one variable increases, so does the other)\n",
    "- -1: Perfect negative correlation (as one increases, the other decreases)\n",
    "- 0: No correlation (no relationship between the variables)"
   ]
  },
  {
   "cell_type": "markdown",
   "metadata": {},
   "source": [
    "##### Finding correlation with numpy `df.corr()`"
   ]
  },
  {
   "cell_type": "code",
   "execution_count": 3,
   "metadata": {},
   "outputs": [
    {
     "data": {
      "image/png": "[encoded data removed]",
      "text/plain": [
       "<Figure size 1000x600 with 2 Axes>"
      ]
     },
     "metadata": {},
     "output_type": "display_data"
    }
   ],
   "source": [
    "# Calculate the correlation matrix for numerical columns only\n",
    "numerical_df = df.select_dtypes(include=[np.number])\n",
    "corr_matrix = numerical_df.corr()\n",
    "\n",
    "# Create a heatmap to visualize the correlation matrix\n",
    "plt.figure(figsize=(10, 6))\n",
    "sns.heatmap(corr_matrix, annot=True, cmap='coolwarm', center=0)\n",
    "plt.title('Correlation Heatmap')\n",
    "plt.show()"
   ]
  },
  {
   "cell_type": "markdown",
   "metadata": {},
   "source": [
    "Explanation:\n",
    "- Data Creation:\n",
    "\n",
    "We generate random data for three numerical variables: age, salary, and years_of_experience.\n",
    "We also generate a categorical variable: department.\n",
    "\n",
    "- Filtering Numerical Data:\n",
    "\n",
    "`df.select_dtypes(include=[np.number])` filters the DataFrame to include only numerical columns (since correlation only works with numerical data)\n",
    "\n",
    "- Correlation Matrix Calculation:\n",
    "\n",
    "`numerical_df.corr()` computes the pairwise correlation of numerical columns.\n",
    "\n",
    "- Heatmap Visualization:\n",
    "\n",
    "`sns.heatmap()` creates a heatmap of the correlation matrix.\n",
    "annot=True displays the correlation coefficients in the heatmap cells.\n",
    "cmap='coolwarm' uses a color palette where cool colors represent negative correlations and warm colors represent positive correlations.\n",
    "center=0 centers the colormap at zero, so correlations close to zero will have a neutral color.\n",
    "Running this code will generate a heatmap showing the correlation between age, salary, and years_of_experience, ignoring the categorical department column."
   ]
  },
  {
   "cell_type": "code",
   "execution_count": 4,
   "metadata": {},
   "outputs": [
    {
     "data": {
      "text/html": [
       "<div>\n",
       "<style scoped>\n",
       "    .dataframe tbody tr th:only-of-type {\n",
       "        vertical-align: middle;\n",
       "    }\n",
       "\n",
       "    .dataframe tbody tr th {\n",
       "        vertical-align: top;\n",
       "    }\n",
       "\n",
       "    .dataframe thead th {\n",
       "        text-align: right;\n",
       "    }\n",
       "</style>\n",
       "<table border=\"1\" class=\"dataframe\">\n",
       "  <thead>\n",
       "    <tr style=\"text-align: right;\">\n",
       "      <th></th>\n",
       "      <th>age</th>\n",
       "      <th>salary</th>\n",
       "      <th>years_of_experience</th>\n",
       "    </tr>\n",
       "  </thead>\n",
       "  <tbody>\n",
       "    <tr>\n",
       "      <th>age</th>\n",
       "      <td>1.000000</td>\n",
       "      <td>0.037341</td>\n",
       "      <td>-0.184580</td>\n",
       "    </tr>\n",
       "    <tr>\n",
       "      <th>salary</th>\n",
       "      <td>0.037341</td>\n",
       "      <td>1.000000</td>\n",
       "      <td>0.007306</td>\n",
       "    </tr>\n",
       "    <tr>\n",
       "      <th>years_of_experience</th>\n",
       "      <td>-0.184580</td>\n",
       "      <td>0.007306</td>\n",
       "      <td>1.000000</td>\n",
       "    </tr>\n",
       "  </tbody>\n",
       "</table>\n",
       "</div>"
      ],
      "text/plain": [
       "                          age    salary  years_of_experience\n",
       "age                  1.000000  0.037341            -0.184580\n",
       "salary               0.037341  1.000000             0.007306\n",
       "years_of_experience -0.184580  0.007306             1.000000"
      ]
     },
     "execution_count": 4,
     "metadata": {},
     "output_type": "execute_result"
    }
   ],
   "source": [
    "#without heat map, just printed\n",
    "corr_matrix"
   ]
  },
  {
   "cell_type": "markdown",
   "metadata": {},
   "source": [
    "##### Finding correlation with scipy `pearson()`"
   ]
  },
  {
   "cell_type": "code",
   "execution_count": 5,
   "metadata": {},
   "outputs": [
    {
     "ename": "ModuleNotFoundError",
     "evalue": "No module named 'scipy'",
     "output_type": "error",
     "traceback": [
      "\u001b[1;31m---------------------------------------------------------------------------\u001b[0m",
      "\u001b[1;31mModuleNotFoundError\u001b[0m                       Traceback (most recent call last)",
      "Cell \u001b[1;32mIn[5], line 1\u001b[0m\n\u001b[1;32m----> 1\u001b[0m \u001b[38;5;28;01mfrom\u001b[39;00m \u001b[38;5;21;01mscipy\u001b[39;00m\u001b[38;5;21;01m.\u001b[39;00m\u001b[38;5;21;01mstats\u001b[39;00m \u001b[38;5;28;01mimport\u001b[39;00m pearsonr\n\u001b[0;32m      3\u001b[0m x \u001b[38;5;241m=\u001b[39m [\u001b[38;5;241m1\u001b[39m, \u001b[38;5;241m2\u001b[39m, \u001b[38;5;241m3\u001b[39m, \u001b[38;5;241m4\u001b[39m]\n\u001b[0;32m      4\u001b[0m y \u001b[38;5;241m=\u001b[39m [\u001b[38;5;241m4\u001b[39m, \u001b[38;5;241m3\u001b[39m, \u001b[38;5;241m2\u001b[39m, \u001b[38;5;241m1\u001b[39m]\n",
      "\u001b[1;31mModuleNotFoundError\u001b[0m: No module named 'scipy'"
     ]
    }
   ],
   "source": [
    "from scipy.stats import pearsonr\n",
    "\n",
    "x = [1, 2, 3, 4]\n",
    "y = [4, 3, 2, 1]\n",
    "\n",
    "corr_coefficient, p_value = pearsonr(x, y)\n",
    "print(f'Correlation Coeficcient:\\n{corr_coefficient}\\n')\n",
    "print(f'p value:\\n{p_value}')\n"
   ]
  },
  {
   "cell_type": "markdown",
   "metadata": {},
   "source": [
    "- Summary\n",
    "\n",
    "    - Use `.corr()` for calculating correlations within pandas DataFrames or Series, especially when dealing with multiple variables.\n",
    "    - Use `pearsonr()` when you need to calculate and assess the significance of the Pearson correlation coefficient between two specific data arrays."
   ]
  },
  {
   "cell_type": "markdown",
   "metadata": {},
   "source": [
    "##### Interpreting Correlation Results"
   ]
  },
  {
   "cell_type": "markdown",
   "metadata": {},
   "source": [
    "When interpreting correlation results from .corr() and pearsonr(), here's what you typically look for:\n",
    "\n",
    "`.corr()`\n",
    "- corr() Method (Pandas DataFrame)\n",
    "    - Range: The correlation coefficient ranges from -1 to 1.\n",
    "    - 1: Perfect positive correlation (variables move in the same direction).\n",
    "    - -1: Perfect negative correlation (variables move in opposite directions).\n",
    "    - 0: No linear correlation.\n",
    "\n",
    "- Typical Values:\n",
    "    - Strong Correlation: |correlation coefficient| ≥ 0.7\n",
    "    - Moderate Correlation: 0.3 ≤ |correlation coefficient| < 0.7\n",
    "    - Weak Correlation: |correlation coefficient| < 0.3\n"
   ]
  },
  {
   "cell_type": "markdown",
   "metadata": {},
   "source": [
    "`pearson()`\n",
    "- Output\n",
    "    -   Correlation Coefficient (r): Similar to the .corr() method, ranging from -1 to 1.\n",
    "    -   P-value: Measures the significance of the correlation coefficient. A smaller p-value (typically < 0.05) indicates a statistically significant correlation.\n",
    "\n",
    "- Typical Interpretation:\n",
    "\n",
    "    - Strong Correlation: Correlation coefficient (r) ≥ 0.7 or ≤ -0.7\n",
    "    - Moderate Correlation: 0.3 ≤ |r| < 0.7\n",
    "    - Weak Correlation: |r| < 0.3\n",
    "\n",
    "    - Significance: Check the p-value; if it is small (e.g., < 0.05), the correlation is considered statistically significant."
   ]
  }
 ],
 "metadata": {
  "kernelspec": {
   "display_name": ".venv",
   "language": "python",
   "name": "python3"
  },
  "language_info": {
   "codemirror_mode": {
    "name": "ipython",
    "version": 3
   },
   "file_extension": ".py",
   "mimetype": "text/x-python",
   "name": "python",
   "nbconvert_exporter": "python",
   "pygments_lexer": "ipython3",
   "version": "3.11.9"
  }
 },
 "nbformat": 4,
 "nbformat_minor": 2
}
