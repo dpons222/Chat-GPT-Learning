{
 "cells": [
  {
   "cell_type": "markdown",
   "metadata": {},
   "source": [
    "# Intro To Pandas"
   ]
  },
  {
   "cell_type": "code",
   "execution_count": 1,
   "metadata": {},
   "outputs": [],
   "source": [
    "import pandas as pd\n",
    "import numpy as np"
   ]
  },
  {
   "cell_type": "code",
   "execution_count": 2,
   "metadata": {},
   "outputs": [
    {
     "name": "stdout",
     "output_type": "stream",
     "text": [
      "Emma      13\n",
      "Swetha    25\n",
      "Serajh    19\n",
      "dtype: int64\n"
     ]
    }
   ],
   "source": [
    "ages = np.array([13,25,19])\n",
    "series1 = pd.Series(ages,index=['Emma', 'Swetha', 'Serajh'])\n",
    "print(series1)"
   ]
  },
  {
   "cell_type": "markdown",
   "metadata": {},
   "source": [
    "Create DF"
   ]
  },
  {
   "cell_type": "code",
   "execution_count": 3,
   "metadata": {},
   "outputs": [
    {
     "name": "stdout",
     "output_type": "stream",
     "text": [
      "         Name        Address  Age\n",
      "0  John Smith    123 Main St   34\n",
      "1    Jane Doe  456 Maple Ave   28\n",
      "2   Joe Schmo   789 Broadway   51\n"
     ]
    }
   ],
   "source": [
    "df = pd.DataFrame([\n",
    "    ['John Smith','123 Main St',34],\n",
    "    ['Jane Doe', '456 Maple Ave',28],\n",
    "    ['Joe Schmo', '789 Broadway',51]\n",
    "    ],\n",
    "    columns=['Name', 'Address', 'Age']\n",
    ")\n",
    "print(df)"
   ]
  },
  {
   "cell_type": "markdown",
   "metadata": {},
   "source": [
    "Set Index"
   ]
  },
  {
   "cell_type": "code",
   "execution_count": 4,
   "metadata": {},
   "outputs": [
    {
     "name": "stdout",
     "output_type": "stream",
     "text": [
      "                  Address  Age\n",
      "Name                          \n",
      "John Smith    123 Main St   34\n",
      "Jane Doe    456 Maple Ave   28\n",
      "Joe Schmo    789 Broadway   51\n"
     ]
    }
   ],
   "source": [
    "df = pd.DataFrame([\n",
    "    ['John Smith','123 Main St',34],\n",
    "    ['Jane Doe', '456 Maple Ave',28],\n",
    "    ['Joe Schmo', '789 Broadway',51]\n",
    "    ],\n",
    "    columns=['Name','Address', 'Age'],\n",
    ").set_index('Name')\n",
    "print(df)"
   ]
  },
  {
   "cell_type": "markdown",
   "metadata": {},
   "source": [
    "New Dataframe"
   ]
  },
  {
   "cell_type": "code",
   "execution_count": 5,
   "metadata": {},
   "outputs": [
    {
     "name": "stdout",
     "output_type": "stream",
     "text": [
      "Original DataFrame:\n",
      "                       title               author      genre\n",
      "book1  To Kill a Mockingbird           Harper Lee    Fiction\n",
      "book2                   1984        George Orwell  Dystopian\n",
      "book3              Moby Dick      Herman Melville  Adventure\n",
      "book4    Pride and Prejudice          Jane Austen    Romance\n",
      "book5       The Great Gatsby  F. Scott Fitzgerald    Fiction\n",
      "book6        Brave New World        Aldous Huxley  Dystopian\n"
     ]
    }
   ],
   "source": [
    "# Create the DataFrame\n",
    "library = pd.DataFrame([\n",
    "    ['To Kill a Mockingbird', 'Harper Lee', 'Fiction'],\n",
    "    ['1984', 'George Orwell', 'Dystopian'],\n",
    "    ['Moby Dick', 'Herman Melville', 'Adventure'],\n",
    "    ['Pride and Prejudice', 'Jane Austen', 'Romance'],\n",
    "    ['The Great Gatsby', 'F. Scott Fitzgerald', 'Fiction'],\n",
    "    ['Brave New World', 'Aldous Huxley', 'Dystopian']\n",
    "    ],\n",
    "    columns=['title', 'author', 'genre'],\n",
    "    index=['book1', 'book2', 'book3', 'book4', 'book5', 'book6']\n",
    ")\n",
    "#above, index was set, to later help distinguish how to select rows with .loc and .iloc\n",
    "print(\"Original DataFrame:\")\n",
    "print(library)"
   ]
  },
  {
   "cell_type": "markdown",
   "metadata": {},
   "source": [
    "# Selecting Columns"
   ]
  },
  {
   "cell_type": "markdown",
   "metadata": {},
   "source": [
    "### Selecting One Column"
   ]
  },
  {
   "cell_type": "code",
   "execution_count": 6,
   "metadata": {},
   "outputs": [
    {
     "name": "stdout",
     "output_type": "stream",
     "text": [
      "\n",
      "Title Column using bracket notation:\n",
      "book1    To Kill a Mockingbird\n",
      "book2                     1984\n",
      "book3                Moby Dick\n",
      "book4      Pride and Prejudice\n",
      "book5         The Great Gatsby\n",
      "book6          Brave New World\n",
      "Name: title, dtype: object\n"
     ]
    }
   ],
   "source": [
    "# Select the 'title' column\n",
    "title_column = library['title']\n",
    "print(\"\\nTitle Column using bracket notation:\")\n",
    "print(title_column)"
   ]
  },
  {
   "cell_type": "code",
   "execution_count": 7,
   "metadata": {},
   "outputs": [
    {
     "name": "stdout",
     "output_type": "stream",
     "text": [
      "\n",
      "Title Column using dot notation:\n",
      "book1    To Kill a Mockingbird\n",
      "book2                     1984\n",
      "book3                Moby Dick\n",
      "book4      Pride and Prejudice\n",
      "book5         The Great Gatsby\n",
      "book6          Brave New World\n",
      "Name: title, dtype: object\n"
     ]
    }
   ],
   "source": [
    "# Select the 'title' column\n",
    "title_column = library.title\n",
    "print(\"\\nTitle Column using dot notation:\")\n",
    "print(title_column)"
   ]
  },
  {
   "cell_type": "markdown",
   "metadata": {},
   "source": [
    "### Selecting Multiple Columns"
   ]
  },
  {
   "cell_type": "code",
   "execution_count": 8,
   "metadata": {},
   "outputs": [
    {
     "name": "stdout",
     "output_type": "stream",
     "text": [
      "\n",
      "Selected Columns (title and author) using bracket notation with a list:\n",
      "                       title               author\n",
      "book1  To Kill a Mockingbird           Harper Lee\n",
      "book2                   1984        George Orwell\n",
      "book3              Moby Dick      Herman Melville\n",
      "book4    Pride and Prejudice          Jane Austen\n",
      "book5       The Great Gatsby  F. Scott Fitzgerald\n",
      "book6        Brave New World        Aldous Huxley\n"
     ]
    }
   ],
   "source": [
    "# Select the 'title' and 'author' columns\n",
    "selected_columns = library[['title', 'author']]\n",
    "print(\"\\nSelected Columns (title and author) using bracket notation with a list:\")\n",
    "print(selected_columns)\n"
   ]
  },
  {
   "cell_type": "markdown",
   "metadata": {},
   "source": [
    "# Selecting Rows"
   ]
  },
  {
   "cell_type": "markdown",
   "metadata": {},
   "source": [
    "### Selecting One Row"
   ]
  },
  {
   "cell_type": "code",
   "execution_count": 9,
   "metadata": {},
   "outputs": [
    {
     "name": "stdout",
     "output_type": "stream",
     "text": [
      "\n",
      "Row with label 'book3' using loc:\n",
      "title           Moby Dick\n",
      "author    Herman Melville\n",
      "genre           Adventure\n",
      "Name: book3, dtype: object\n"
     ]
    }
   ],
   "source": [
    "# Select the row with the label 'book3'\n",
    "row_by_label = library.loc['book3']\n",
    "print(\"\\nRow with label 'book3' using loc:\")\n",
    "print(row_by_label)\n",
    "\n"
   ]
  },
  {
   "cell_type": "code",
   "execution_count": 10,
   "metadata": {},
   "outputs": [
    {
     "name": "stdout",
     "output_type": "stream",
     "text": [
      "\n",
      "Row with integer position 2 using iloc:\n",
      "title           Moby Dick\n",
      "author    Herman Melville\n",
      "genre           Adventure\n",
      "Name: book3, dtype: object\n"
     ]
    }
   ],
   "source": [
    "# Select the row with integer position 2\n",
    "row_by_position = library.iloc[2]\n",
    "print(\"\\nRow with integer position 2 using iloc:\")\n",
    "print(row_by_position)\n"
   ]
  },
  {
   "cell_type": "markdown",
   "metadata": {},
   "source": [
    "### Selecting Multiple Rows"
   ]
  },
  {
   "cell_type": "code",
   "execution_count": 11,
   "metadata": {},
   "outputs": [
    {
     "name": "stdout",
     "output_type": "stream",
     "text": [
      "\n",
      "Rows with labels 'book2', 'book4', and 'book6' using loc:\n",
      "                     title         author      genre\n",
      "book2                 1984  George Orwell  Dystopian\n",
      "book4  Pride and Prejudice    Jane Austen    Romance\n",
      "book6      Brave New World  Aldous Huxley  Dystopian\n"
     ]
    }
   ],
   "source": [
    "# Select rows with labels 'book2', 'book4', and 'book6'\n",
    "rows_by_label = library.loc[['book2', 'book4', 'book6']]\n",
    "print(\"\\nRows with labels 'book2', 'book4', and 'book6' using loc:\")\n",
    "print(rows_by_label)"
   ]
  },
  {
   "cell_type": "code",
   "execution_count": 12,
   "metadata": {},
   "outputs": [
    {
     "name": "stdout",
     "output_type": "stream",
     "text": [
      "\n",
      "Rows from 'book2' to 'book5' using loc:\n",
      "                     title               author      genre\n",
      "book2                 1984        George Orwell  Dystopian\n",
      "book3            Moby Dick      Herman Melville  Adventure\n",
      "book4  Pride and Prejudice          Jane Austen    Romance\n",
      "book5     The Great Gatsby  F. Scott Fitzgerald    Fiction\n"
     ]
    }
   ],
   "source": [
    "# Select a range of rows by label\n",
    "rows_by_label_range = library.loc['book2':'book5']\n",
    "print(\"\\nRows from 'book2' to 'book5' using loc:\")\n",
    "print(rows_by_label_range)\n"
   ]
  },
  {
   "cell_type": "code",
   "execution_count": 13,
   "metadata": {},
   "outputs": [
    {
     "name": "stdout",
     "output_type": "stream",
     "text": [
      "\n",
      "Rows with integer positions 1, 3, and 5 using iloc:\n",
      "                     title         author      genre\n",
      "book2                 1984  George Orwell  Dystopian\n",
      "book4  Pride and Prejudice    Jane Austen    Romance\n",
      "book6      Brave New World  Aldous Huxley  Dystopian\n"
     ]
    }
   ],
   "source": [
    "# Select the second, fourth, and sixth rows (integer positions 1, 3, and 5)\n",
    "rows_by_position = library.iloc[[1, 3, 5]]\n",
    "print(\"\\nRows with integer positions 1, 3, and 5 using iloc:\")\n",
    "print(rows_by_position)\n"
   ]
  },
  {
   "cell_type": "code",
   "execution_count": 14,
   "metadata": {},
   "outputs": [
    {
     "name": "stdout",
     "output_type": "stream",
     "text": [
      "\n",
      "Rows from integer position 1 to 4 using iloc:\n",
      "                     title               author      genre\n",
      "book2                 1984        George Orwell  Dystopian\n",
      "book3            Moby Dick      Herman Melville  Adventure\n",
      "book4  Pride and Prejudice          Jane Austen    Romance\n",
      "book5     The Great Gatsby  F. Scott Fitzgerald    Fiction\n"
     ]
    }
   ],
   "source": [
    "# Select a range of rows by integer position\n",
    "rows_by_position_range = library.iloc[1:5]\n",
    "print(\"\\nRows from integer position 1 to 4 using iloc:\")\n",
    "print(rows_by_position_range)\n"
   ]
  },
  {
   "cell_type": "markdown",
   "metadata": {},
   "source": [
    "# Selecting Rows and Columns"
   ]
  },
  {
   "cell_type": "markdown",
   "metadata": {},
   "source": [
    "### Selecting a Row and a Column"
   ]
  },
  {
   "cell_type": "code",
   "execution_count": 15,
   "metadata": {},
   "outputs": [
    {
     "name": "stdout",
     "output_type": "stream",
     "text": [
      "\n",
      "Author of book3 using loc:\n",
      "Herman Melville\n"
     ]
    }
   ],
   "source": [
    "# Select the row with label 'book3' for the 'author' column; syntax is [row, column]\n",
    "value_loc = library.loc['book3', 'author']\n",
    "print(\"\\nAuthor of book3 using loc:\")\n",
    "print(value_loc)\n"
   ]
  },
  {
   "cell_type": "code",
   "execution_count": 16,
   "metadata": {},
   "outputs": [
    {
     "name": "stdout",
     "output_type": "stream",
     "text": [
      "\n",
      "Author of book3 using iloc:\n",
      "Herman Melville\n"
     ]
    }
   ],
   "source": [
    "# Select the cell at integer position (2, 1) where 2 is the row index and 1 is the column index\n",
    "value_iloc = library.iloc[2, 1]\n",
    "print(\"\\nAuthor of book3 using iloc:\")\n",
    "print(value_iloc)\n"
   ]
  },
  {
   "cell_type": "markdown",
   "metadata": {},
   "source": [
    "### Multiple Rows and Multiple Columns"
   ]
  },
  {
   "cell_type": "code",
   "execution_count": 17,
   "metadata": {},
   "outputs": [
    {
     "name": "stdout",
     "output_type": "stream",
     "text": [
      "\n",
      "Subset using loc with labels:\n",
      "                     title         author\n",
      "book2                 1984  George Orwell\n",
      "book4  Pride and Prejudice    Jane Austen\n",
      "book6      Brave New World  Aldous Huxley\n"
     ]
    }
   ],
   "source": [
    "# Select rows 'book2', 'book4', 'book6' and columns 'title' and 'author'\n",
    "subset_loc = library.loc[['book2', 'book4', 'book6'], ['title', 'author']]\n",
    "print(\"\\nSubset using loc with labels:\")\n",
    "print(subset_loc)\n"
   ]
  },
  {
   "cell_type": "code",
   "execution_count": 18,
   "metadata": {},
   "outputs": [
    {
     "name": "stdout",
     "output_type": "stream",
     "text": [
      "\n",
      "Subset using iloc with integer positions:\n",
      "                     title         author\n",
      "book2                 1984  George Orwell\n",
      "book4  Pride and Prejudice    Jane Austen\n",
      "book6      Brave New World  Aldous Huxley\n"
     ]
    }
   ],
   "source": [
    "# Select rows with integer positions 1, 3, 5 and columns with integer positions 0, 1\n",
    "subset_iloc = library.iloc[[1, 3, 5], [0, 1]]\n",
    "print(\"\\nSubset using iloc with integer positions:\")\n",
    "print(subset_iloc)\n"
   ]
  },
  {
   "cell_type": "markdown",
   "metadata": {},
   "source": [
    "# Adding and Modifying Columns"
   ]
  },
  {
   "cell_type": "markdown",
   "metadata": {},
   "source": [
    "### Adding a New Column"
   ]
  },
  {
   "cell_type": "code",
   "execution_count": 19,
   "metadata": {},
   "outputs": [
    {
     "name": "stdout",
     "output_type": "stream",
     "text": [
      "\n",
      "DataFrame after adding a new column 'publication_year':\n",
      "                       title               author      genre  publication_year\n",
      "book1  To Kill a Mockingbird           Harper Lee    Fiction              1960\n",
      "book2                   1984        George Orwell  Dystopian              1949\n",
      "book3              Moby Dick      Herman Melville  Adventure              1851\n",
      "book4    Pride and Prejudice          Jane Austen    Romance              1813\n",
      "book5       The Great Gatsby  F. Scott Fitzgerald    Fiction              1925\n",
      "book6        Brave New World        Aldous Huxley  Dystopian              1932\n"
     ]
    }
   ],
   "source": [
    "# Add a new column 'publication_year' to the DataFrame\n",
    "library['publication_year'] = [1960, 1949, 1851, 1813, 1925, 1932]\n",
    "print(\"\\nDataFrame after adding a new column 'publication_year':\")\n",
    "print(library)\n"
   ]
  },
  {
   "cell_type": "markdown",
   "metadata": {},
   "source": [
    "### Modifying an Existing Column\n"
   ]
  },
  {
   "cell_type": "code",
   "execution_count": 20,
   "metadata": {},
   "outputs": [
    {
     "name": "stdout",
     "output_type": "stream",
     "text": [
      "\n",
      "DataFrame after modifying 'publication_year':\n",
      "                       title               author      genre  publication_year\n",
      "book1  To Kill a Mockingbird           Harper Lee    Fiction              1970\n",
      "book2                   1984        George Orwell  Dystopian              1959\n",
      "book3              Moby Dick      Herman Melville  Adventure              1861\n",
      "book4    Pride and Prejudice          Jane Austen    Romance              1823\n",
      "book5       The Great Gatsby  F. Scott Fitzgerald    Fiction              1935\n",
      "book6        Brave New World        Aldous Huxley  Dystopian              1942\n"
     ]
    }
   ],
   "source": [
    "# Modify the 'publication_year' by adding 10 years to each value\n",
    "library['publication_year'] = library['publication_year'] + 10\n",
    "print(\"\\nDataFrame after modifying 'publication_year':\")\n",
    "print(library)"
   ]
  },
  {
   "cell_type": "markdown",
   "metadata": {},
   "source": [
    "# Filtering Data"
   ]
  },
  {
   "cell_type": "markdown",
   "metadata": {},
   "source": [
    "### Filtering Rows Based on Column Values\n"
   ]
  },
  {
   "cell_type": "code",
   "execution_count": 21,
   "metadata": {},
   "outputs": [
    {
     "name": "stdout",
     "output_type": "stream",
     "text": [
      "\n",
      "Books published after 1950:\n",
      "                       title         author      genre  publication_year\n",
      "book1  To Kill a Mockingbird     Harper Lee    Fiction              1970\n",
      "book2                   1984  George Orwell  Dystopian              1959\n"
     ]
    }
   ],
   "source": [
    "# Filter books published after 1950\n",
    "books_after_1950 = library[library['publication_year'] > 1950]\n",
    "print(\"\\nBooks published after 1950:\")\n",
    "print(books_after_1950)"
   ]
  },
  {
   "cell_type": "markdown",
   "metadata": {},
   "source": [
    "### Filtering with Multiple Conditions\n"
   ]
  },
  {
   "cell_type": "code",
   "execution_count": 22,
   "metadata": {},
   "outputs": [
    {
     "name": "stdout",
     "output_type": "stream",
     "text": [
      "                       title               author      genre  publication_year\n",
      "book1  To Kill a Mockingbird           Harper Lee    Fiction              1970\n",
      "book2                   1984        George Orwell  Dystopian              1959\n",
      "book5       The Great Gatsby  F. Scott Fitzgerald    Fiction              1935\n",
      "book6        Brave New World        Aldous Huxley  Dystopian              1942\n"
     ]
    }
   ],
   "source": [
    "# Filter books that are either 'Fiction' or 'Dystopian'\n",
    "fiction_dystopian_books = library[(library['genre'] == 'Fiction') | (library['genre'] == 'Dystopian')]\n",
    "print(fiction_dystopian_books)"
   ]
  },
  {
   "cell_type": "markdown",
   "metadata": {},
   "source": [
    "# Aggregating Data"
   ]
  },
  {
   "cell_type": "markdown",
   "metadata": {},
   "source": [
    "### Grouping and Aggregating"
   ]
  },
  {
   "cell_type": "code",
   "execution_count": 23,
   "metadata": {},
   "outputs": [
    {
     "name": "stdout",
     "output_type": "stream",
     "text": [
      "\n",
      "Count of books in each genre:\n",
      "genre\n",
      "Adventure    1\n",
      "Dystopian    2\n",
      "Fiction      2\n",
      "Romance      1\n",
      "dtype: int64\n"
     ]
    }
   ],
   "source": [
    "# Group by 'genre' and get the count of books in each genre\n",
    "genre_counts = library.groupby('genre').size()\n",
    "print(\"\\nCount of books in each genre:\")\n",
    "print(genre_counts)"
   ]
  },
  {
   "cell_type": "markdown",
   "metadata": {},
   "source": [
    "### Aggregating with Multiple Functions\n"
   ]
  },
  {
   "cell_type": "code",
   "execution_count": 24,
   "metadata": {},
   "outputs": [
    {
     "name": "stdout",
     "output_type": "stream",
     "text": [
      "\n",
      "Mean and maximum publication year for each genre:\n",
      "             mean   max\n",
      "genre                  \n",
      "Adventure  1861.0  1861\n",
      "Dystopian  1950.5  1959\n",
      "Fiction    1952.5  1970\n",
      "Romance    1823.0  1823\n"
     ]
    }
   ],
   "source": [
    "# Get the mean and maximum publication year for each genre\n",
    "publication_stats = library.groupby('genre')['publication_year'].agg(['mean', 'max'])\n",
    "print(\"\\nMean and maximum publication year for each genre:\")\n",
    "print(publication_stats)\n"
   ]
  },
  {
   "cell_type": "markdown",
   "metadata": {},
   "source": [
    "# Lambda Functions"
   ]
  },
  {
   "cell_type": "markdown",
   "metadata": {},
   "source": [
    "### Basic Syntax"
   ]
  },
  {
   "cell_type": "code",
   "execution_count": 25,
   "metadata": {},
   "outputs": [
    {
     "data": {
      "text/plain": [
       "' \\nlambda arguments: expression\\n'"
      ]
     },
     "execution_count": 25,
     "metadata": {},
     "output_type": "execute_result"
    }
   ],
   "source": [
    "''' \n",
    "lambda arguments: expression\n",
    "'''"
   ]
  },
  {
   "cell_type": "code",
   "execution_count": 26,
   "metadata": {},
   "outputs": [
    {
     "name": "stdout",
     "output_type": "stream",
     "text": [
      "15\n"
     ]
    }
   ],
   "source": [
    "# A lambda function that adds 10 to a number\n",
    "add_ten = lambda x: x + 10\n",
    "print(add_ten(5))  # Output: 15\n"
   ]
  },
  {
   "cell_type": "markdown",
   "metadata": {},
   "source": [
    "### Using the Apply Method with Lamba Functions"
   ]
  },
  {
   "cell_type": "code",
   "execution_count": 27,
   "metadata": {},
   "outputs": [
    {
     "name": "stdout",
     "output_type": "stream",
     "text": [
      "                       title               author      genre  \\\n",
      "book1  To Kill a Mockingbird           Harper Lee    Fiction   \n",
      "book2                   1984        George Orwell  Dystopian   \n",
      "book3              Moby Dick      Herman Melville  Adventure   \n",
      "book4    Pride and Prejudice          Jane Austen    Romance   \n",
      "book5       The Great Gatsby  F. Scott Fitzgerald    Fiction   \n",
      "book6        Brave New World        Aldous Huxley  Dystopian   \n",
      "\n",
      "       publication_year is_classic  \n",
      "book1              1970         No  \n",
      "book2              1959         No  \n",
      "book3              1861        Yes  \n",
      "book4              1823        Yes  \n",
      "book5              1935        Yes  \n",
      "book6              1942        Yes  \n"
     ]
    }
   ],
   "source": [
    "# Add a new column 'is_classic' based on the publication_year\n",
    "#the variable x represents each value in libray['publication_year'] \n",
    "library['is_classic'] = library['publication_year'].apply(lambda x: 'Yes' if x < 1950 else 'No')\n",
    "print(library)\n"
   ]
  },
  {
   "cell_type": "markdown",
   "metadata": {},
   "source": [
    "Example 1: Using a lambda function"
   ]
  },
  {
   "cell_type": "code",
   "execution_count": 28,
   "metadata": {},
   "outputs": [
    {
     "name": "stdout",
     "output_type": "stream",
     "text": [
      "0     1\n",
      "1     4\n",
      "2     9\n",
      "3    16\n",
      "4    25\n",
      "dtype: int64\n"
     ]
    }
   ],
   "source": [
    "# Sample Series\n",
    "s = pd.Series([1, 2, 3, 4, 5])\n",
    "\n",
    "# Apply a lambda function to square each value\n",
    "squared = s.apply(lambda x: x ** 2)\n",
    "print(squared)\n"
   ]
  },
  {
   "cell_type": "markdown",
   "metadata": {},
   "source": [
    "Example 2: Using a named function"
   ]
  },
  {
   "cell_type": "code",
   "execution_count": 29,
   "metadata": {},
   "outputs": [
    {
     "name": "stdout",
     "output_type": "stream",
     "text": [
      "0     6\n",
      "1     7\n",
      "2     8\n",
      "3     9\n",
      "4    10\n",
      "dtype: int64\n"
     ]
    }
   ],
   "source": [
    "def add_five(x):\n",
    "    return x + 5\n",
    "\n",
    "# Apply the named function\n",
    "added_five = s.apply(add_five)\n",
    "print(added_five)"
   ]
  },
  {
   "cell_type": "markdown",
   "metadata": {},
   "source": [
    "Example 3: Applying a function to each column\n"
   ]
  },
  {
   "cell_type": "code",
   "execution_count": 30,
   "metadata": {},
   "outputs": [
    {
     "name": "stdout",
     "output_type": "stream",
     "text": [
      "Dataframe\n",
      "\n",
      "   A  B\n",
      "0  1  4\n",
      "1  2  5\n",
      "2  3  6\n",
      "\n",
      "\n",
      "Column Sum\n",
      "\n",
      "A     6\n",
      "B    15\n",
      "dtype: int64\n",
      "\n",
      "\n"
     ]
    }
   ],
   "source": [
    "# Sample DataFrame\n",
    "df = pd.DataFrame({\n",
    "    'A': [1, 2, 3],\n",
    "    'B': [4, 5, 6]\n",
    "})\n",
    "print(f'Dataframe\\n\\n{df}\\n\\n')\n",
    "# Apply a lambda function to sum each column\n",
    "column_sum = df.apply(lambda x: x.sum())\n",
    "print(f'Column Sum\\n\\n{column_sum}\\n\\n')\n"
   ]
  },
  {
   "cell_type": "markdown",
   "metadata": {},
   "source": [
    "Example 4: Applying a function to each row\n"
   ]
  },
  {
   "cell_type": "code",
   "execution_count": 31,
   "metadata": {},
   "outputs": [
    {
     "name": "stdout",
     "output_type": "stream",
     "text": [
      "0    5\n",
      "1    7\n",
      "2    9\n",
      "dtype: int64\n"
     ]
    }
   ],
   "source": [
    "# Apply a lambda function to sum each row\n",
    "row_sum = df.apply(lambda x: x.sum(), axis=1)\n",
    "print(row_sum)\n"
   ]
  }
 ],
 "metadata": {
  "kernelspec": {
   "display_name": ".venv",
   "language": "python",
   "name": "python3"
  },
  "language_info": {
   "codemirror_mode": {
    "name": "ipython",
    "version": 3
   },
   "file_extension": ".py",
   "mimetype": "text/x-python",
   "name": "python",
   "nbconvert_exporter": "python",
   "pygments_lexer": "ipython3",
   "version": "3.11.9"
  }
 },
 "nbformat": 4,
 "nbformat_minor": 2
}
