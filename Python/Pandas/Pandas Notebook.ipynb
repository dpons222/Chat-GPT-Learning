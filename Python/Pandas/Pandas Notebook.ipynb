{
 "cells": [
  {
   "cell_type": "code",
   "execution_count": 88,
   "metadata": {},
   "outputs": [],
   "source": [
    "import pandas as pd\n",
    "import numpy as np"
   ]
  },
  {
   "cell_type": "code",
   "execution_count": 89,
   "metadata": {},
   "outputs": [
    {
     "name": "stdout",
     "output_type": "stream",
     "text": [
      "Emma      13\n",
      "Swetha    25\n",
      "Serajh    19\n",
      "dtype: int64\n"
     ]
    }
   ],
   "source": [
    "ages = np.array([13,25,19])\n",
    "series1 = pd.Series(ages,index=['Emma', 'Swetha', 'Serajh'])\n",
    "print(series1)"
   ]
  },
  {
   "cell_type": "markdown",
   "metadata": {},
   "source": [
    "Create DF"
   ]
  },
  {
   "cell_type": "code",
   "execution_count": 90,
   "metadata": {},
   "outputs": [
    {
     "name": "stdout",
     "output_type": "stream",
     "text": [
      "         Name        Address  Age\n",
      "0  John Smith    123 Main St   34\n",
      "1    Jane Doe  456 Maple Ave   28\n",
      "2   Joe Schmo   789 Broadway   51\n"
     ]
    }
   ],
   "source": [
    "df = pd.DataFrame([\n",
    "    ['John Smith','123 Main St',34],\n",
    "    ['Jane Doe', '456 Maple Ave',28],\n",
    "    ['Joe Schmo', '789 Broadway',51]\n",
    "    ],\n",
    "    columns=['Name', 'Address', 'Age']\n",
    ")\n",
    "print(df)"
   ]
  },
  {
   "cell_type": "markdown",
   "metadata": {},
   "source": [
    "Set Index"
   ]
  },
  {
   "cell_type": "code",
   "execution_count": 91,
   "metadata": {},
   "outputs": [
    {
     "name": "stdout",
     "output_type": "stream",
     "text": [
      "                  Address  Age\n",
      "Name                          \n",
      "John Smith    123 Main St   34\n",
      "Jane Doe    456 Maple Ave   28\n",
      "Joe Schmo    789 Broadway   51\n"
     ]
    }
   ],
   "source": [
    "df = pd.DataFrame([\n",
    "    ['John Smith','123 Main St',34],\n",
    "    ['Jane Doe', '456 Maple Ave',28],\n",
    "    ['Joe Schmo', '789 Broadway',51]\n",
    "    ],\n",
    "    columns=['Name','Address', 'Age'],\n",
    ").set_index('Name')\n",
    "print(df)"
   ]
  },
  {
   "cell_type": "markdown",
   "metadata": {},
   "source": [
    "New Dataframe"
   ]
  },
  {
   "cell_type": "code",
   "execution_count": 92,
   "metadata": {},
   "outputs": [
    {
     "name": "stdout",
     "output_type": "stream",
     "text": [
      "Original DataFrame:\n",
      "                       title               author      genre\n",
      "book1  To Kill a Mockingbird           Harper Lee    Fiction\n",
      "book2                   1984        George Orwell  Dystopian\n",
      "book3              Moby Dick      Herman Melville  Adventure\n",
      "book4    Pride and Prejudice          Jane Austen    Romance\n",
      "book5       The Great Gatsby  F. Scott Fitzgerald    Fiction\n",
      "book6        Brave New World        Aldous Huxley  Dystopian\n"
     ]
    }
   ],
   "source": [
    "# Create the DataFrame\n",
    "library = pd.DataFrame([\n",
    "    ['To Kill a Mockingbird', 'Harper Lee', 'Fiction'],\n",
    "    ['1984', 'George Orwell', 'Dystopian'],\n",
    "    ['Moby Dick', 'Herman Melville', 'Adventure'],\n",
    "    ['Pride and Prejudice', 'Jane Austen', 'Romance'],\n",
    "    ['The Great Gatsby', 'F. Scott Fitzgerald', 'Fiction'],\n",
    "    ['Brave New World', 'Aldous Huxley', 'Dystopian']\n",
    "    ],\n",
    "    columns=['title', 'author', 'genre'],\n",
    "    index=['book1', 'book2', 'book3', 'book4', 'book5', 'book6']\n",
    ")\n",
    "#above, index was set, to later help distinguish how to select rows with .loc and .iloc\n",
    "print(\"Original DataFrame:\")\n",
    "print(library)"
   ]
  },
  {
   "cell_type": "markdown",
   "metadata": {},
   "source": [
    "Selecting One Column"
   ]
  },
  {
   "cell_type": "code",
   "execution_count": 93,
   "metadata": {},
   "outputs": [
    {
     "name": "stdout",
     "output_type": "stream",
     "text": [
      "\n",
      "Title Column using bracket notation:\n",
      "book1    To Kill a Mockingbird\n",
      "book2                     1984\n",
      "book3                Moby Dick\n",
      "book4      Pride and Prejudice\n",
      "book5         The Great Gatsby\n",
      "book6          Brave New World\n",
      "Name: title, dtype: object\n"
     ]
    }
   ],
   "source": [
    "# Select the 'title' column\n",
    "title_column = library['title']\n",
    "print(\"\\nTitle Column using bracket notation:\")\n",
    "print(title_column)"
   ]
  },
  {
   "cell_type": "code",
   "execution_count": 94,
   "metadata": {},
   "outputs": [
    {
     "name": "stdout",
     "output_type": "stream",
     "text": [
      "\n",
      "Title Column using dot notation:\n",
      "book1    To Kill a Mockingbird\n",
      "book2                     1984\n",
      "book3                Moby Dick\n",
      "book4      Pride and Prejudice\n",
      "book5         The Great Gatsby\n",
      "book6          Brave New World\n",
      "Name: title, dtype: object\n"
     ]
    }
   ],
   "source": [
    "# Select the 'title' column\n",
    "title_column = library.title\n",
    "print(\"\\nTitle Column using dot notation:\")\n",
    "print(title_column)"
   ]
  },
  {
   "cell_type": "markdown",
   "metadata": {},
   "source": [
    "Selecting Multiple Columns"
   ]
  },
  {
   "cell_type": "code",
   "execution_count": 95,
   "metadata": {},
   "outputs": [
    {
     "name": "stdout",
     "output_type": "stream",
     "text": [
      "\n",
      "Selected Columns (title and author) using bracket notation with a list:\n",
      "                       title               author\n",
      "book1  To Kill a Mockingbird           Harper Lee\n",
      "book2                   1984        George Orwell\n",
      "book3              Moby Dick      Herman Melville\n",
      "book4    Pride and Prejudice          Jane Austen\n",
      "book5       The Great Gatsby  F. Scott Fitzgerald\n",
      "book6        Brave New World        Aldous Huxley\n"
     ]
    }
   ],
   "source": [
    "# Select the 'title' and 'author' columns\n",
    "selected_columns = library[['title', 'author']]\n",
    "print(\"\\nSelected Columns (title and author) using bracket notation with a list:\")\n",
    "print(selected_columns)\n"
   ]
  },
  {
   "cell_type": "markdown",
   "metadata": {},
   "source": [
    "Selecting One Row"
   ]
  },
  {
   "cell_type": "code",
   "execution_count": 96,
   "metadata": {},
   "outputs": [
    {
     "name": "stdout",
     "output_type": "stream",
     "text": [
      "\n",
      "Row with label 'book3' using loc:\n",
      "title           Moby Dick\n",
      "author    Herman Melville\n",
      "genre           Adventure\n",
      "Name: book3, dtype: object\n"
     ]
    }
   ],
   "source": [
    "# Select the row with the label 'book3'\n",
    "row_by_label = library.loc['book3']\n",
    "print(\"\\nRow with label 'book3' using loc:\")\n",
    "print(row_by_label)\n",
    "\n"
   ]
  },
  {
   "cell_type": "code",
   "execution_count": 97,
   "metadata": {},
   "outputs": [
    {
     "name": "stdout",
     "output_type": "stream",
     "text": [
      "\n",
      "Row with integer position 2 using iloc:\n",
      "title           Moby Dick\n",
      "author    Herman Melville\n",
      "genre           Adventure\n",
      "Name: book3, dtype: object\n"
     ]
    }
   ],
   "source": [
    "# Select the row with integer position 2\n",
    "row_by_position = library.iloc[2]\n",
    "print(\"\\nRow with integer position 2 using iloc:\")\n",
    "print(row_by_position)\n"
   ]
  },
  {
   "cell_type": "markdown",
   "metadata": {},
   "source": [
    "Selecting Multiple Rows"
   ]
  },
  {
   "cell_type": "code",
   "execution_count": 98,
   "metadata": {},
   "outputs": [
    {
     "name": "stdout",
     "output_type": "stream",
     "text": [
      "\n",
      "Rows with labels 'book2', 'book4', and 'book6' using loc:\n",
      "                     title         author      genre\n",
      "book2                 1984  George Orwell  Dystopian\n",
      "book4  Pride and Prejudice    Jane Austen    Romance\n",
      "book6      Brave New World  Aldous Huxley  Dystopian\n"
     ]
    }
   ],
   "source": [
    "# Select rows with labels 'book2', 'book4', and 'book6'\n",
    "rows_by_label = library.loc[['book2', 'book4', 'book6']]\n",
    "print(\"\\nRows with labels 'book2', 'book4', and 'book6' using loc:\")\n",
    "print(rows_by_label)"
   ]
  },
  {
   "cell_type": "code",
   "execution_count": 99,
   "metadata": {},
   "outputs": [
    {
     "name": "stdout",
     "output_type": "stream",
     "text": [
      "\n",
      "Rows from 'book2' to 'book5' using loc:\n",
      "                     title               author      genre\n",
      "book2                 1984        George Orwell  Dystopian\n",
      "book3            Moby Dick      Herman Melville  Adventure\n",
      "book4  Pride and Prejudice          Jane Austen    Romance\n",
      "book5     The Great Gatsby  F. Scott Fitzgerald    Fiction\n"
     ]
    }
   ],
   "source": [
    "# Select a range of rows by label\n",
    "rows_by_label_range = library.loc['book2':'book5']\n",
    "print(\"\\nRows from 'book2' to 'book5' using loc:\")\n",
    "print(rows_by_label_range)\n"
   ]
  },
  {
   "cell_type": "code",
   "execution_count": 100,
   "metadata": {},
   "outputs": [
    {
     "name": "stdout",
     "output_type": "stream",
     "text": [
      "\n",
      "Rows with integer positions 1, 3, and 5 using iloc:\n",
      "                     title         author      genre\n",
      "book2                 1984  George Orwell  Dystopian\n",
      "book4  Pride and Prejudice    Jane Austen    Romance\n",
      "book6      Brave New World  Aldous Huxley  Dystopian\n"
     ]
    }
   ],
   "source": [
    "# Select the second, fourth, and sixth rows (integer positions 1, 3, and 5)\n",
    "rows_by_position = library.iloc[[1, 3, 5]]\n",
    "print(\"\\nRows with integer positions 1, 3, and 5 using iloc:\")\n",
    "print(rows_by_position)\n"
   ]
  },
  {
   "cell_type": "code",
   "execution_count": 101,
   "metadata": {},
   "outputs": [
    {
     "name": "stdout",
     "output_type": "stream",
     "text": [
      "\n",
      "Rows from integer position 1 to 4 using iloc:\n",
      "                     title               author      genre\n",
      "book2                 1984        George Orwell  Dystopian\n",
      "book3            Moby Dick      Herman Melville  Adventure\n",
      "book4  Pride and Prejudice          Jane Austen    Romance\n",
      "book5     The Great Gatsby  F. Scott Fitzgerald    Fiction\n"
     ]
    }
   ],
   "source": [
    "# Select a range of rows by integer position\n",
    "rows_by_position_range = library.iloc[1:5]\n",
    "print(\"\\nRows from integer position 1 to 4 using iloc:\")\n",
    "print(rows_by_position_range)\n"
   ]
  },
  {
   "cell_type": "markdown",
   "metadata": {},
   "source": [
    "Selecting a Row and a Column"
   ]
  },
  {
   "cell_type": "code",
   "execution_count": 102,
   "metadata": {},
   "outputs": [
    {
     "name": "stdout",
     "output_type": "stream",
     "text": [
      "\n",
      "Author of book3 using loc:\n",
      "Herman Melville\n"
     ]
    }
   ],
   "source": [
    "# Select the 'author' column for the row with label 'book3'\n",
    "value_loc = library.loc['book3', 'author']\n",
    "print(\"\\nAuthor of book3 using loc:\")\n",
    "print(value_loc)\n"
   ]
  },
  {
   "cell_type": "code",
   "execution_count": 103,
   "metadata": {},
   "outputs": [
    {
     "name": "stdout",
     "output_type": "stream",
     "text": [
      "\n",
      "Author of book3 using iloc:\n",
      "Herman Melville\n"
     ]
    }
   ],
   "source": [
    "# Select the cell at integer position (2, 1) where 2 is the row index and 1 is the column index\n",
    "value_iloc = library.iloc[2, 1]\n",
    "print(\"\\nAuthor of book3 using iloc:\")\n",
    "print(value_iloc)\n"
   ]
  },
  {
   "cell_type": "markdown",
   "metadata": {},
   "source": [
    "Multiple Rows and Multiple Columns"
   ]
  },
  {
   "cell_type": "code",
   "execution_count": 104,
   "metadata": {},
   "outputs": [
    {
     "name": "stdout",
     "output_type": "stream",
     "text": [
      "\n",
      "Subset using loc with labels:\n",
      "                     title         author\n",
      "book2                 1984  George Orwell\n",
      "book4  Pride and Prejudice    Jane Austen\n",
      "book6      Brave New World  Aldous Huxley\n"
     ]
    }
   ],
   "source": [
    "# Select rows 'book2', 'book4', 'book6' and columns 'title' and 'author'\n",
    "subset_loc = library.loc[['book2', 'book4', 'book6'], ['title', 'author']]\n",
    "print(\"\\nSubset using loc with labels:\")\n",
    "print(subset_loc)\n"
   ]
  },
  {
   "cell_type": "code",
   "execution_count": 105,
   "metadata": {},
   "outputs": [
    {
     "name": "stdout",
     "output_type": "stream",
     "text": [
      "\n",
      "Subset using iloc with integer positions:\n",
      "                     title         author\n",
      "book2                 1984  George Orwell\n",
      "book4  Pride and Prejudice    Jane Austen\n",
      "book6      Brave New World  Aldous Huxley\n"
     ]
    }
   ],
   "source": [
    "# Select rows with integer positions 1, 3, 5 and columns with integer positions 0, 1\n",
    "subset_iloc = library.iloc[[1, 3, 5], [0, 1]]\n",
    "print(\"\\nSubset using iloc with integer positions:\")\n",
    "print(subset_iloc)\n"
   ]
  }
 ],
 "metadata": {
  "kernelspec": {
   "display_name": ".venv",
   "language": "python",
   "name": "python3"
  },
  "language_info": {
   "codemirror_mode": {
    "name": "ipython",
    "version": 3
   },
   "file_extension": ".py",
   "mimetype": "text/x-python",
   "name": "python",
   "nbconvert_exporter": "python",
   "pygments_lexer": "ipython3",
   "version": "3.12.4"
  }
 },
 "nbformat": 4,
 "nbformat_minor": 2
}
