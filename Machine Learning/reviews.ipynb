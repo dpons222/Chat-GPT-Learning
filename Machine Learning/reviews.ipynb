{
 "cells": [
  {
   "cell_type": "code",
   "execution_count": 2,
   "metadata": {},
   "outputs": [
    {
     "ename": "ModuleNotFoundError",
     "evalue": "No module named 'pandas'",
     "output_type": "error",
     "traceback": [
      "\u001b[0;31m---------------------------------------------------------------------------\u001b[0m",
      "\u001b[0;31mModuleNotFoundError\u001b[0m                       Traceback (most recent call last)",
      "Cell \u001b[0;32mIn[2], line 1\u001b[0m\n\u001b[0;32m----> 1\u001b[0m \u001b[38;5;28;01mimport\u001b[39;00m \u001b[38;5;21;01mpandas\u001b[39;00m \u001b[38;5;28;01mas\u001b[39;00m \u001b[38;5;21;01mpd\u001b[39;00m\n\u001b[1;32m      2\u001b[0m \u001b[38;5;28;01mfrom\u001b[39;00m \u001b[38;5;21;01msklearn\u001b[39;00m\u001b[38;5;21;01m.\u001b[39;00m\u001b[38;5;21;01mpreprocessing\u001b[39;00m \u001b[38;5;28;01mimport\u001b[39;00m StandardScaler\n",
      "\u001b[0;31mModuleNotFoundError\u001b[0m: No module named 'pandas'"
     ]
    }
   ],
   "source": [
    "import pandas as pd\n",
    "from sklearn.preprocessing import StandardScaler"
   ]
  },
  {
   "cell_type": "code",
   "execution_count": null,
   "metadata": {},
   "outputs": [],
   "source": [
    "pip install -r requirements.txt"
   ]
  },
  {
   "cell_type": "code",
   "execution_count": null,
   "metadata": {},
   "outputs": [],
   "source": [
    "pip install -r requirements.txt"
   ]
  },
  {
   "cell_type": "markdown",
   "metadata": {},
   "source": [
    "# Intro Details"
   ]
  },
  {
   "cell_type": "markdown",
   "metadata": {},
   "source": [
    "## Head"
   ]
  },
  {
   "cell_type": "code",
   "execution_count": null,
   "metadata": {},
   "outputs": [
    {
     "data": {
      "text/html": [
       "<div>\n",
       "<style scoped>\n",
       "    .dataframe tbody tr th:only-of-type {\n",
       "        vertical-align: middle;\n",
       "    }\n",
       "\n",
       "    .dataframe tbody tr th {\n",
       "        vertical-align: top;\n",
       "    }\n",
       "\n",
       "    .dataframe thead th {\n",
       "        text-align: right;\n",
       "    }\n",
       "</style>\n",
       "<table border=\"1\" class=\"dataframe\">\n",
       "  <thead>\n",
       "    <tr style=\"text-align: right;\">\n",
       "      <th></th>\n",
       "      <th>clothing_id</th>\n",
       "      <th>age</th>\n",
       "      <th>review_title</th>\n",
       "      <th>review_text</th>\n",
       "      <th>recommended</th>\n",
       "      <th>division_name</th>\n",
       "      <th>department_name</th>\n",
       "      <th>review_date</th>\n",
       "      <th>rating</th>\n",
       "    </tr>\n",
       "  </thead>\n",
       "  <tbody>\n",
       "    <tr>\n",
       "      <th>0</th>\n",
       "      <td>1095</td>\n",
       "      <td>39</td>\n",
       "      <td>Cute,looks like a dress on</td>\n",
       "      <td>If you are afraid of the jumpsuit trend but li...</td>\n",
       "      <td>True</td>\n",
       "      <td>General</td>\n",
       "      <td>Dresses</td>\n",
       "      <td>2019-07-08</td>\n",
       "      <td>Liked it</td>\n",
       "    </tr>\n",
       "    <tr>\n",
       "      <th>1</th>\n",
       "      <td>1095</td>\n",
       "      <td>28</td>\n",
       "      <td>So cute, great print!</td>\n",
       "      <td>I love fitted top dresses like this but i find...</td>\n",
       "      <td>True</td>\n",
       "      <td>General</td>\n",
       "      <td>Dresses</td>\n",
       "      <td>2019-05-17</td>\n",
       "      <td>Loved it</td>\n",
       "    </tr>\n",
       "    <tr>\n",
       "      <th>2</th>\n",
       "      <td>699</td>\n",
       "      <td>37</td>\n",
       "      <td>So flattering!</td>\n",
       "      <td>I love these cozy, fashionable leggings. they ...</td>\n",
       "      <td>True</td>\n",
       "      <td>Initmates</td>\n",
       "      <td>Intimate</td>\n",
       "      <td>2019-06-24</td>\n",
       "      <td>Loved it</td>\n",
       "    </tr>\n",
       "    <tr>\n",
       "      <th>3</th>\n",
       "      <td>1072</td>\n",
       "      <td>36</td>\n",
       "      <td>Effortless</td>\n",
       "      <td>Another reviewer said it best, \"i love the way...</td>\n",
       "      <td>True</td>\n",
       "      <td>General Petite</td>\n",
       "      <td>Dresses</td>\n",
       "      <td>2019-12-06</td>\n",
       "      <td>Loved it</td>\n",
       "    </tr>\n",
       "    <tr>\n",
       "      <th>4</th>\n",
       "      <td>1094</td>\n",
       "      <td>32</td>\n",
       "      <td>You need this!</td>\n",
       "      <td>Rompers are my fav so i'm biased writing this ...</td>\n",
       "      <td>True</td>\n",
       "      <td>General</td>\n",
       "      <td>Dresses</td>\n",
       "      <td>2019-10-04</td>\n",
       "      <td>Loved it</td>\n",
       "    </tr>\n",
       "  </tbody>\n",
       "</table>\n",
       "</div>"
      ],
      "text/plain": [
       "   clothing_id  age                review_title  \\\n",
       "0         1095   39  Cute,looks like a dress on   \n",
       "1         1095   28       So cute, great print!   \n",
       "2          699   37              So flattering!   \n",
       "3         1072   36                  Effortless   \n",
       "4         1094   32              You need this!   \n",
       "\n",
       "                                         review_text  recommended  \\\n",
       "0  If you are afraid of the jumpsuit trend but li...         True   \n",
       "1  I love fitted top dresses like this but i find...         True   \n",
       "2  I love these cozy, fashionable leggings. they ...         True   \n",
       "3  Another reviewer said it best, \"i love the way...         True   \n",
       "4  Rompers are my fav so i'm biased writing this ...         True   \n",
       "\n",
       "    division_name department_name review_date    rating  \n",
       "0         General         Dresses  2019-07-08  Liked it  \n",
       "1         General         Dresses  2019-05-17  Loved it  \n",
       "2       Initmates        Intimate  2019-06-24  Loved it  \n",
       "3  General Petite         Dresses  2019-12-06  Loved it  \n",
       "4         General         Dresses  2019-10-04  Loved it  "
      ]
     },
     "execution_count": 293,
     "metadata": {},
     "output_type": "execute_result"
    }
   ],
   "source": [
    "df = pd.read_csv('reviews.csv')  # Load the data\n",
    "df.head()  # Print the first 5 rows of the data  "
   ]
  },
  {
   "cell_type": "markdown",
   "metadata": {},
   "source": [
    "## Info"
   ]
  },
  {
   "cell_type": "code",
   "execution_count": null,
   "metadata": {},
   "outputs": [
    {
     "name": "stdout",
     "output_type": "stream",
     "text": [
      "<class 'pandas.core.frame.DataFrame'>\n",
      "RangeIndex: 5000 entries, 0 to 4999\n",
      "Data columns (total 9 columns):\n",
      " #   Column           Non-Null Count  Dtype \n",
      "---  ------           --------------  ----- \n",
      " 0   clothing_id      5000 non-null   int64 \n",
      " 1   age              5000 non-null   int64 \n",
      " 2   review_title     4174 non-null   object\n",
      " 3   review_text      4804 non-null   object\n",
      " 4   recommended      5000 non-null   bool  \n",
      " 5   division_name    4996 non-null   object\n",
      " 6   department_name  4996 non-null   object\n",
      " 7   review_date      5000 non-null   object\n",
      " 8   rating           5000 non-null   object\n",
      "dtypes: bool(1), int64(2), object(6)\n",
      "memory usage: 317.5+ KB\n"
     ]
    }
   ],
   "source": [
    "df.info()  # Print the data types of each column    "
   ]
  },
  {
   "cell_type": "markdown",
   "metadata": {},
   "source": [
    "## Describe"
   ]
  },
  {
   "cell_type": "code",
   "execution_count": null,
   "metadata": {},
   "outputs": [
    {
     "data": {
      "text/html": [
       "<div>\n",
       "<style scoped>\n",
       "    .dataframe tbody tr th:only-of-type {\n",
       "        vertical-align: middle;\n",
       "    }\n",
       "\n",
       "    .dataframe tbody tr th {\n",
       "        vertical-align: top;\n",
       "    }\n",
       "\n",
       "    .dataframe thead th {\n",
       "        text-align: right;\n",
       "    }\n",
       "</style>\n",
       "<table border=\"1\" class=\"dataframe\">\n",
       "  <thead>\n",
       "    <tr style=\"text-align: right;\">\n",
       "      <th></th>\n",
       "      <th>clothing_id</th>\n",
       "      <th>age</th>\n",
       "    </tr>\n",
       "  </thead>\n",
       "  <tbody>\n",
       "    <tr>\n",
       "      <th>count</th>\n",
       "      <td>5000.000000</td>\n",
       "      <td>5000.000000</td>\n",
       "    </tr>\n",
       "    <tr>\n",
       "      <th>mean</th>\n",
       "      <td>918.505000</td>\n",
       "      <td>43.271200</td>\n",
       "    </tr>\n",
       "    <tr>\n",
       "      <th>std</th>\n",
       "      <td>206.039971</td>\n",
       "      <td>12.269693</td>\n",
       "    </tr>\n",
       "    <tr>\n",
       "      <th>min</th>\n",
       "      <td>1.000000</td>\n",
       "      <td>18.000000</td>\n",
       "    </tr>\n",
       "    <tr>\n",
       "      <th>25%</th>\n",
       "      <td>861.000000</td>\n",
       "      <td>34.000000</td>\n",
       "    </tr>\n",
       "    <tr>\n",
       "      <th>50%</th>\n",
       "      <td>936.000000</td>\n",
       "      <td>41.000000</td>\n",
       "    </tr>\n",
       "    <tr>\n",
       "      <th>75%</th>\n",
       "      <td>1078.000000</td>\n",
       "      <td>52.000000</td>\n",
       "    </tr>\n",
       "    <tr>\n",
       "      <th>max</th>\n",
       "      <td>1204.000000</td>\n",
       "      <td>99.000000</td>\n",
       "    </tr>\n",
       "  </tbody>\n",
       "</table>\n",
       "</div>"
      ],
      "text/plain": [
       "       clothing_id          age\n",
       "count  5000.000000  5000.000000\n",
       "mean    918.505000    43.271200\n",
       "std     206.039971    12.269693\n",
       "min       1.000000    18.000000\n",
       "25%     861.000000    34.000000\n",
       "50%     936.000000    41.000000\n",
       "75%    1078.000000    52.000000\n",
       "max    1204.000000    99.000000"
      ]
     },
     "execution_count": 295,
     "metadata": {},
     "output_type": "execute_result"
    }
   ],
   "source": [
    "df.describe()"
   ]
  },
  {
   "cell_type": "markdown",
   "metadata": {},
   "source": [
    "## Is Null"
   ]
  },
  {
   "cell_type": "code",
   "execution_count": null,
   "metadata": {},
   "outputs": [
    {
     "data": {
      "text/plain": [
       "clothing_id          0\n",
       "age                  0\n",
       "review_title       826\n",
       "review_text        196\n",
       "recommended          0\n",
       "division_name        4\n",
       "department_name      4\n",
       "review_date          0\n",
       "rating               0\n",
       "dtype: int64"
      ]
     },
     "execution_count": 296,
     "metadata": {},
     "output_type": "execute_result"
    }
   ],
   "source": [
    "df.isnull().sum()   # Check for missing values"
   ]
  },
  {
   "cell_type": "markdown",
   "metadata": {},
   "source": [
    "## Data Types"
   ]
  },
  {
   "cell_type": "code",
   "execution_count": null,
   "metadata": {},
   "outputs": [
    {
     "data": {
      "text/plain": [
       "clothing_id         int64\n",
       "age                 int64\n",
       "review_title       object\n",
       "review_text        object\n",
       "recommended          bool\n",
       "division_name      object\n",
       "department_name    object\n",
       "review_date        object\n",
       "rating             object\n",
       "dtype: object"
      ]
     },
     "execution_count": 297,
     "metadata": {},
     "output_type": "execute_result"
    }
   ],
   "source": [
    "df.dtypes  # Check the data types of the columns"
   ]
  },
  {
   "cell_type": "markdown",
   "metadata": {},
   "source": [
    "## Unique"
   ]
  },
  {
   "cell_type": "code",
   "execution_count": null,
   "metadata": {},
   "outputs": [
    {
     "data": {
      "text/plain": [
       "clothing_id         584\n",
       "age                  69\n",
       "review_title       3406\n",
       "review_text        4804\n",
       "recommended           2\n",
       "division_name         3\n",
       "department_name       6\n",
       "review_date         365\n",
       "rating                5\n",
       "dtype: int64"
      ]
     },
     "execution_count": 298,
     "metadata": {},
     "output_type": "execute_result"
    }
   ],
   "source": [
    "df.nunique()  # Check the unique values of the columns   "
   ]
  },
  {
   "cell_type": "markdown",
   "metadata": {},
   "source": [
    "## Value Counts"
   ]
  },
  {
   "cell_type": "code",
   "execution_count": null,
   "metadata": {},
   "outputs": [
    {
     "data": {
      "text/plain": [
       "clothing_id  age  review_title                  review_text                                                                                                                                                                                                                                                                                                                                                                                                                                 recommended  division_name   department_name  review_date  rating   \n",
       "1204         39   Very comfortable/relaxed      These are super soft and relaxed. i have them in navy and lavender. i am 5'6\" and 130 lbs. and ordered them in a 28, which fits loosely, but comfortably.                                                                                                                                                                                                                                                                                   True         General Petite  Bottoms          2019-04-26   Liked it     1\n",
       "1            24   Love but also very annoying   I love this tank, it is so comfortable but it does have its flaws. it rolls up every time i walk or do anything, it becomes very bothersome.                                                                                                                                                                                                                                                                                                False        Initmates       Intimate         2019-09-30   Not great    1\n",
       "8            33   Great coverage                This bathing suit has everything. i especially love the ruching in the waist and the boy short bottom. finally the coverage my booty needs. i've worn it dozens of times and it still holds its quality and looks brand new. i get a lot of compliments every time i wear it.\\r\\nthe only drawback is it doesn't dry very quickly. after a dip in the pool or the lake it stays wet for hours even when i'm laying out in the summer heat.  True         Initmates       Intimate         2019-09-08   Loved it     1\n",
       "             38   Cute suit-didn't work for me  This suit was high quality, and a cute design. however, it is clearly made for a lean body type.                                                                                                                                                                                                                                                                                                                                            False        Initmates       Intimate         2019-03-15   Hated it     1\n",
       "9            34   Okay leggings                 The velvet isn't as soft or plush as i thought it would be but these are comfy pants. i won't wear them until next winter, which is fine.                                                                                                                                                                                                                                                                                                   True         General         Bottoms          2019-04-05   Liked it     1\n",
       "                                                                                                                                                                                                                                                                                                                                                                                                                                                                                                                                                                   ..\n",
       "40           36   Natori t back                 It is a very pretty bra. light weight and beautiful lace. however, i have yet to find a t-back that does not make me feel like i am going to spill out. to me it ran small. i now know to get a 34 instead. i am working on losing weight, perhaps that might help with the fit?                                                                                                                                                            True         Initmates       Intimate         2019-07-25   Was okay     1\n",
       "38           50   Perfect fit                   I love this bralette. i have it in other colors as well and it is always the one i go to when i want comfort.                                                                                                                                                                                                                                                                                                                               True         Initmates       Intimate         2019-08-29   Loved it     1\n",
       "37           41   Gorgeous!                     This fit perfectly. i am 5'7 , 138 pounds and ordered a small. i was very pleased with the way it draped over my body. i bought the black one.                                                                                                                                                                                                                                                                                              True         Initmates       Intimate         2019-02-19   Loved it     1\n",
       "35           52   Breathtaking                  I am so happy with this chemise! the pink is the most breathtaking blush and the fabric is super soft. i like that the straps are adjustable, allowing me to make the bodice a perfect fit while adjusting the gown to the perfect length for me. it's definitely my new favorite!                                                                                                                                                          True         Initmates       Intimate         2019-04-07   Loved it     1\n",
       "27           28   So glad this comes in 32 d!   This bra surprised me by how good it looks on. the placement of the lace and cups creates a flattering silhouette.                                                                                                                                                                                                                                                                                                                          True         Initmates       Intimate         2019-11-22   Loved it     1\n",
       "Name: count, Length: 4169, dtype: int64"
      ]
     },
     "execution_count": 299,
     "metadata": {},
     "output_type": "execute_result"
    }
   ],
   "source": [
    "df.value_counts()   # Check the frequency of the values in the columns"
   ]
  },
  {
   "cell_type": "markdown",
   "metadata": {},
   "source": [
    "# Recommended Feature"
   ]
  },
  {
   "cell_type": "code",
   "execution_count": null,
   "metadata": {},
   "outputs": [
    {
     "data": {
      "text/plain": [
       "recommended\n",
       "True     4166\n",
       "False     834\n",
       "Name: count, dtype: int64"
      ]
     },
     "execution_count": 300,
     "metadata": {},
     "output_type": "execute_result"
    }
   ],
   "source": [
    "df.value_counts(df['recommended'])  # Check the frequency of the values in the recommended column      "
   ]
  },
  {
   "cell_type": "code",
   "execution_count": null,
   "metadata": {},
   "outputs": [
    {
     "data": {
      "text/plain": [
       "recommended\n",
       "1    4166\n",
       "0     834\n",
       "Name: count, dtype: int64"
      ]
     },
     "execution_count": 301,
     "metadata": {},
     "output_type": "execute_result"
    }
   ],
   "source": [
    "#create binary dictionary for recommended column\n",
    "binary_dict = {True:1, False:0}\n",
    "df['recommended'] = df['recommended'].map(binary_dict)\n",
    "df['recommended'].value_counts()\n"
   ]
  },
  {
   "cell_type": "code",
   "execution_count": null,
   "metadata": {},
   "outputs": [
    {
     "data": {
      "text/plain": [
       "0       1\n",
       "1       1\n",
       "2       1\n",
       "3       1\n",
       "4       1\n",
       "       ..\n",
       "4995    1\n",
       "4996    0\n",
       "4997    1\n",
       "4998    1\n",
       "4999    1\n",
       "Name: recommended, Length: 5000, dtype: int64"
      ]
     },
     "execution_count": 302,
     "metadata": {},
     "output_type": "execute_result"
    }
   ],
   "source": [
    "df['recommended']"
   ]
  },
  {
   "cell_type": "markdown",
   "metadata": {},
   "source": [
    "# Rating Feature"
   ]
  },
  {
   "cell_type": "code",
   "execution_count": null,
   "metadata": {},
   "outputs": [
    {
     "data": {
      "text/plain": [
       "rating\n",
       "Loved it     2798\n",
       "Liked it     1141\n",
       "Was okay      564\n",
       "Not great     304\n",
       "Hated it      193\n",
       "Name: count, dtype: int64"
      ]
     },
     "execution_count": 303,
     "metadata": {},
     "output_type": "execute_result"
    }
   ],
   "source": [
    "df['rating'].value_counts()  # Check the frequency of the values in the rating column"
   ]
  },
  {
   "cell_type": "code",
   "execution_count": null,
   "metadata": {},
   "outputs": [
    {
     "data": {
      "text/plain": [
       "rating\n",
       "5    2798\n",
       "4    1141\n",
       "3     564\n",
       "2     304\n",
       "1     193\n",
       "Name: count, dtype: int64"
      ]
     },
     "execution_count": 304,
     "metadata": {},
     "output_type": "execute_result"
    }
   ],
   "source": [
    "rating_dict = {\"Loved it\":5 , \"Liked it\":4, \"Was okay\":3, \"Not great\":2, \"Hated it\":1}\n",
    "df['rating'] = df['rating'].map(rating_dict)\n",
    "df['rating'].value_counts()"
   ]
  },
  {
   "cell_type": "markdown",
   "metadata": {},
   "source": [
    "# Department Name Feature"
   ]
  },
  {
   "cell_type": "code",
   "execution_count": null,
   "metadata": {},
   "outputs": [
    {
     "data": {
      "text/plain": [
       "department_name\n",
       "Tops        2196\n",
       "Dresses     1322\n",
       "Bottoms      848\n",
       "Intimate     378\n",
       "Jackets      224\n",
       "Trend         28\n",
       "Name: count, dtype: int64"
      ]
     },
     "execution_count": 305,
     "metadata": {},
     "output_type": "execute_result"
    }
   ],
   "source": [
    "df.department_name.value_counts()  # Check the frequency of the values in the department_name column"
   ]
  },
  {
   "cell_type": "code",
   "execution_count": null,
   "metadata": {},
   "outputs": [
    {
     "data": {
      "text/plain": [
       "Index(['clothing_id', 'age', 'review_title', 'review_text', 'recommended',\n",
       "       'division_name', 'department_name', 'review_date', 'rating', 'Bottoms',\n",
       "       'Dresses', 'Intimate', 'Jackets', 'Tops', 'Trend'],\n",
       "      dtype='object')"
      ]
     },
     "execution_count": 306,
     "metadata": {},
     "output_type": "execute_result"
    }
   ],
   "source": [
    "ohe = pd.get_dummies(df['department_name'])  # One hot encode\n",
    "df = df.join(ohe)  # Join the one hot encoded columns to the original data frame\n",
    "df.columns"
   ]
  },
  {
   "cell_type": "markdown",
   "metadata": {},
   "source": [
    "# Review Date Feature"
   ]
  },
  {
   "cell_type": "code",
   "execution_count": null,
   "metadata": {},
   "outputs": [
    {
     "name": "stdout",
     "output_type": "stream",
     "text": [
      "datetime64[ns]\n"
     ]
    }
   ],
   "source": [
    "df['review_date'] = pd.to_datetime(df['review_date'])  # Convert the review_date column to datetime\n",
    "print(df['review_date'].dtypes)"
   ]
  },
  {
   "cell_type": "markdown",
   "metadata": {},
   "source": [
    "# New Numbers Only DF"
   ]
  },
  {
   "cell_type": "code",
   "execution_count": null,
   "metadata": {},
   "outputs": [
    {
     "data": {
      "text/html": [
       "<div>\n",
       "<style scoped>\n",
       "    .dataframe tbody tr th:only-of-type {\n",
       "        vertical-align: middle;\n",
       "    }\n",
       "\n",
       "    .dataframe tbody tr th {\n",
       "        vertical-align: top;\n",
       "    }\n",
       "\n",
       "    .dataframe thead th {\n",
       "        text-align: right;\n",
       "    }\n",
       "</style>\n",
       "<table border=\"1\" class=\"dataframe\">\n",
       "  <thead>\n",
       "    <tr style=\"text-align: right;\">\n",
       "      <th></th>\n",
       "      <th>clothing_id</th>\n",
       "      <th>age</th>\n",
       "      <th>recommended</th>\n",
       "      <th>rating</th>\n",
       "      <th>Bottoms</th>\n",
       "      <th>Dresses</th>\n",
       "      <th>Intimate</th>\n",
       "      <th>Jackets</th>\n",
       "      <th>Tops</th>\n",
       "      <th>Trend</th>\n",
       "    </tr>\n",
       "  </thead>\n",
       "  <tbody>\n",
       "    <tr>\n",
       "      <th>0</th>\n",
       "      <td>1095</td>\n",
       "      <td>39</td>\n",
       "      <td>1</td>\n",
       "      <td>4</td>\n",
       "      <td>False</td>\n",
       "      <td>True</td>\n",
       "      <td>False</td>\n",
       "      <td>False</td>\n",
       "      <td>False</td>\n",
       "      <td>False</td>\n",
       "    </tr>\n",
       "    <tr>\n",
       "      <th>1</th>\n",
       "      <td>1095</td>\n",
       "      <td>28</td>\n",
       "      <td>1</td>\n",
       "      <td>5</td>\n",
       "      <td>False</td>\n",
       "      <td>True</td>\n",
       "      <td>False</td>\n",
       "      <td>False</td>\n",
       "      <td>False</td>\n",
       "      <td>False</td>\n",
       "    </tr>\n",
       "    <tr>\n",
       "      <th>2</th>\n",
       "      <td>699</td>\n",
       "      <td>37</td>\n",
       "      <td>1</td>\n",
       "      <td>5</td>\n",
       "      <td>False</td>\n",
       "      <td>False</td>\n",
       "      <td>True</td>\n",
       "      <td>False</td>\n",
       "      <td>False</td>\n",
       "      <td>False</td>\n",
       "    </tr>\n",
       "    <tr>\n",
       "      <th>3</th>\n",
       "      <td>1072</td>\n",
       "      <td>36</td>\n",
       "      <td>1</td>\n",
       "      <td>5</td>\n",
       "      <td>False</td>\n",
       "      <td>True</td>\n",
       "      <td>False</td>\n",
       "      <td>False</td>\n",
       "      <td>False</td>\n",
       "      <td>False</td>\n",
       "    </tr>\n",
       "    <tr>\n",
       "      <th>4</th>\n",
       "      <td>1094</td>\n",
       "      <td>32</td>\n",
       "      <td>1</td>\n",
       "      <td>5</td>\n",
       "      <td>False</td>\n",
       "      <td>True</td>\n",
       "      <td>False</td>\n",
       "      <td>False</td>\n",
       "      <td>False</td>\n",
       "      <td>False</td>\n",
       "    </tr>\n",
       "    <tr>\n",
       "      <th>...</th>\n",
       "      <td>...</td>\n",
       "      <td>...</td>\n",
       "      <td>...</td>\n",
       "      <td>...</td>\n",
       "      <td>...</td>\n",
       "      <td>...</td>\n",
       "      <td>...</td>\n",
       "      <td>...</td>\n",
       "      <td>...</td>\n",
       "      <td>...</td>\n",
       "    </tr>\n",
       "    <tr>\n",
       "      <th>4995</th>\n",
       "      <td>918</td>\n",
       "      <td>38</td>\n",
       "      <td>1</td>\n",
       "      <td>5</td>\n",
       "      <td>False</td>\n",
       "      <td>False</td>\n",
       "      <td>False</td>\n",
       "      <td>False</td>\n",
       "      <td>True</td>\n",
       "      <td>False</td>\n",
       "    </tr>\n",
       "    <tr>\n",
       "      <th>4996</th>\n",
       "      <td>950</td>\n",
       "      <td>33</td>\n",
       "      <td>0</td>\n",
       "      <td>1</td>\n",
       "      <td>False</td>\n",
       "      <td>False</td>\n",
       "      <td>False</td>\n",
       "      <td>False</td>\n",
       "      <td>True</td>\n",
       "      <td>False</td>\n",
       "    </tr>\n",
       "    <tr>\n",
       "      <th>4997</th>\n",
       "      <td>1086</td>\n",
       "      <td>36</td>\n",
       "      <td>1</td>\n",
       "      <td>5</td>\n",
       "      <td>False</td>\n",
       "      <td>True</td>\n",
       "      <td>False</td>\n",
       "      <td>False</td>\n",
       "      <td>False</td>\n",
       "      <td>False</td>\n",
       "    </tr>\n",
       "    <tr>\n",
       "      <th>4998</th>\n",
       "      <td>1033</td>\n",
       "      <td>28</td>\n",
       "      <td>1</td>\n",
       "      <td>5</td>\n",
       "      <td>True</td>\n",
       "      <td>False</td>\n",
       "      <td>False</td>\n",
       "      <td>False</td>\n",
       "      <td>False</td>\n",
       "      <td>False</td>\n",
       "    </tr>\n",
       "    <tr>\n",
       "      <th>4999</th>\n",
       "      <td>850</td>\n",
       "      <td>64</td>\n",
       "      <td>1</td>\n",
       "      <td>5</td>\n",
       "      <td>False</td>\n",
       "      <td>False</td>\n",
       "      <td>False</td>\n",
       "      <td>False</td>\n",
       "      <td>True</td>\n",
       "      <td>False</td>\n",
       "    </tr>\n",
       "  </tbody>\n",
       "</table>\n",
       "<p>5000 rows × 10 columns</p>\n",
       "</div>"
      ],
      "text/plain": [
       "      clothing_id  age  recommended  rating  Bottoms  Dresses  Intimate  \\\n",
       "0            1095   39            1       4    False     True     False   \n",
       "1            1095   28            1       5    False     True     False   \n",
       "2             699   37            1       5    False    False      True   \n",
       "3            1072   36            1       5    False     True     False   \n",
       "4            1094   32            1       5    False     True     False   \n",
       "...           ...  ...          ...     ...      ...      ...       ...   \n",
       "4995          918   38            1       5    False    False     False   \n",
       "4996          950   33            0       1    False    False     False   \n",
       "4997         1086   36            1       5    False     True     False   \n",
       "4998         1033   28            1       5     True    False     False   \n",
       "4999          850   64            1       5    False    False     False   \n",
       "\n",
       "      Jackets   Tops  Trend  \n",
       "0       False  False  False  \n",
       "1       False  False  False  \n",
       "2       False  False  False  \n",
       "3       False  False  False  \n",
       "4       False  False  False  \n",
       "...       ...    ...    ...  \n",
       "4995    False   True  False  \n",
       "4996    False   True  False  \n",
       "4997    False  False  False  \n",
       "4998    False  False  False  \n",
       "4999    False   True  False  \n",
       "\n",
       "[5000 rows x 10 columns]"
      ]
     },
     "execution_count": 308,
     "metadata": {},
     "output_type": "execute_result"
    }
   ],
   "source": [
    "reviews = df[['clothing_id', 'age', 'recommended', 'rating', 'Bottoms', 'Dresses', 'Intimate', 'Jackets', 'Tops', 'Trend']].copy()\n",
    "reviews"
   ]
  },
  {
   "cell_type": "code",
   "execution_count": null,
   "metadata": {},
   "outputs": [
    {
     "data": {
      "text/html": [
       "<div>\n",
       "<style scoped>\n",
       "    .dataframe tbody tr th:only-of-type {\n",
       "        vertical-align: middle;\n",
       "    }\n",
       "\n",
       "    .dataframe tbody tr th {\n",
       "        vertical-align: top;\n",
       "    }\n",
       "\n",
       "    .dataframe thead th {\n",
       "        text-align: right;\n",
       "    }\n",
       "</style>\n",
       "<table border=\"1\" class=\"dataframe\">\n",
       "  <thead>\n",
       "    <tr style=\"text-align: right;\">\n",
       "      <th></th>\n",
       "      <th>age</th>\n",
       "      <th>recommended</th>\n",
       "      <th>rating</th>\n",
       "      <th>Bottoms</th>\n",
       "      <th>Dresses</th>\n",
       "      <th>Intimate</th>\n",
       "      <th>Jackets</th>\n",
       "      <th>Tops</th>\n",
       "      <th>Trend</th>\n",
       "    </tr>\n",
       "    <tr>\n",
       "      <th>clothing_id</th>\n",
       "      <th></th>\n",
       "      <th></th>\n",
       "      <th></th>\n",
       "      <th></th>\n",
       "      <th></th>\n",
       "      <th></th>\n",
       "      <th></th>\n",
       "      <th></th>\n",
       "      <th></th>\n",
       "    </tr>\n",
       "  </thead>\n",
       "  <tbody>\n",
       "    <tr>\n",
       "      <th>1095</th>\n",
       "      <td>39</td>\n",
       "      <td>1</td>\n",
       "      <td>4</td>\n",
       "      <td>False</td>\n",
       "      <td>True</td>\n",
       "      <td>False</td>\n",
       "      <td>False</td>\n",
       "      <td>False</td>\n",
       "      <td>False</td>\n",
       "    </tr>\n",
       "    <tr>\n",
       "      <th>1095</th>\n",
       "      <td>28</td>\n",
       "      <td>1</td>\n",
       "      <td>5</td>\n",
       "      <td>False</td>\n",
       "      <td>True</td>\n",
       "      <td>False</td>\n",
       "      <td>False</td>\n",
       "      <td>False</td>\n",
       "      <td>False</td>\n",
       "    </tr>\n",
       "    <tr>\n",
       "      <th>699</th>\n",
       "      <td>37</td>\n",
       "      <td>1</td>\n",
       "      <td>5</td>\n",
       "      <td>False</td>\n",
       "      <td>False</td>\n",
       "      <td>True</td>\n",
       "      <td>False</td>\n",
       "      <td>False</td>\n",
       "      <td>False</td>\n",
       "    </tr>\n",
       "    <tr>\n",
       "      <th>1072</th>\n",
       "      <td>36</td>\n",
       "      <td>1</td>\n",
       "      <td>5</td>\n",
       "      <td>False</td>\n",
       "      <td>True</td>\n",
       "      <td>False</td>\n",
       "      <td>False</td>\n",
       "      <td>False</td>\n",
       "      <td>False</td>\n",
       "    </tr>\n",
       "    <tr>\n",
       "      <th>1094</th>\n",
       "      <td>32</td>\n",
       "      <td>1</td>\n",
       "      <td>5</td>\n",
       "      <td>False</td>\n",
       "      <td>True</td>\n",
       "      <td>False</td>\n",
       "      <td>False</td>\n",
       "      <td>False</td>\n",
       "      <td>False</td>\n",
       "    </tr>\n",
       "    <tr>\n",
       "      <th>...</th>\n",
       "      <td>...</td>\n",
       "      <td>...</td>\n",
       "      <td>...</td>\n",
       "      <td>...</td>\n",
       "      <td>...</td>\n",
       "      <td>...</td>\n",
       "      <td>...</td>\n",
       "      <td>...</td>\n",
       "      <td>...</td>\n",
       "    </tr>\n",
       "    <tr>\n",
       "      <th>918</th>\n",
       "      <td>38</td>\n",
       "      <td>1</td>\n",
       "      <td>5</td>\n",
       "      <td>False</td>\n",
       "      <td>False</td>\n",
       "      <td>False</td>\n",
       "      <td>False</td>\n",
       "      <td>True</td>\n",
       "      <td>False</td>\n",
       "    </tr>\n",
       "    <tr>\n",
       "      <th>950</th>\n",
       "      <td>33</td>\n",
       "      <td>0</td>\n",
       "      <td>1</td>\n",
       "      <td>False</td>\n",
       "      <td>False</td>\n",
       "      <td>False</td>\n",
       "      <td>False</td>\n",
       "      <td>True</td>\n",
       "      <td>False</td>\n",
       "    </tr>\n",
       "    <tr>\n",
       "      <th>1086</th>\n",
       "      <td>36</td>\n",
       "      <td>1</td>\n",
       "      <td>5</td>\n",
       "      <td>False</td>\n",
       "      <td>True</td>\n",
       "      <td>False</td>\n",
       "      <td>False</td>\n",
       "      <td>False</td>\n",
       "      <td>False</td>\n",
       "    </tr>\n",
       "    <tr>\n",
       "      <th>1033</th>\n",
       "      <td>28</td>\n",
       "      <td>1</td>\n",
       "      <td>5</td>\n",
       "      <td>True</td>\n",
       "      <td>False</td>\n",
       "      <td>False</td>\n",
       "      <td>False</td>\n",
       "      <td>False</td>\n",
       "      <td>False</td>\n",
       "    </tr>\n",
       "    <tr>\n",
       "      <th>850</th>\n",
       "      <td>64</td>\n",
       "      <td>1</td>\n",
       "      <td>5</td>\n",
       "      <td>False</td>\n",
       "      <td>False</td>\n",
       "      <td>False</td>\n",
       "      <td>False</td>\n",
       "      <td>True</td>\n",
       "      <td>False</td>\n",
       "    </tr>\n",
       "  </tbody>\n",
       "</table>\n",
       "<p>5000 rows × 9 columns</p>\n",
       "</div>"
      ],
      "text/plain": [
       "             age  recommended  rating  Bottoms  Dresses  Intimate  Jackets  \\\n",
       "clothing_id                                                                  \n",
       "1095          39            1       4    False     True     False    False   \n",
       "1095          28            1       5    False     True     False    False   \n",
       "699           37            1       5    False    False      True    False   \n",
       "1072          36            1       5    False     True     False    False   \n",
       "1094          32            1       5    False     True     False    False   \n",
       "...          ...          ...     ...      ...      ...       ...      ...   \n",
       "918           38            1       5    False    False     False    False   \n",
       "950           33            0       1    False    False     False    False   \n",
       "1086          36            1       5    False     True     False    False   \n",
       "1033          28            1       5     True    False     False    False   \n",
       "850           64            1       5    False    False     False    False   \n",
       "\n",
       "              Tops  Trend  \n",
       "clothing_id                \n",
       "1095         False  False  \n",
       "1095         False  False  \n",
       "699          False  False  \n",
       "1072         False  False  \n",
       "1094         False  False  \n",
       "...            ...    ...  \n",
       "918           True  False  \n",
       "950           True  False  \n",
       "1086         False  False  \n",
       "1033         False  False  \n",
       "850           True  False  \n",
       "\n",
       "[5000 rows x 9 columns]"
      ]
     },
     "execution_count": 309,
     "metadata": {},
     "output_type": "execute_result"
    }
   ],
   "source": [
    "reviews = reviews.set_index('clothing_id')\n",
    "reviews"
   ]
  },
  {
   "cell_type": "code",
   "execution_count": null,
   "metadata": {},
   "outputs": [
    {
     "data": {
      "text/plain": [
       "array([[-0.34814459,  0.44742824, -0.1896478 , ..., -0.21656679,\n",
       "        -0.88496718, -0.07504356],\n",
       "       [-1.24475223,  0.44742824,  0.71602461, ..., -0.21656679,\n",
       "        -0.88496718, -0.07504356],\n",
       "       [-0.51116416,  0.44742824,  0.71602461, ..., -0.21656679,\n",
       "        -0.88496718, -0.07504356],\n",
       "       ...,\n",
       "       [-0.59267395,  0.44742824,  0.71602461, ..., -0.21656679,\n",
       "        -0.88496718, -0.07504356],\n",
       "       [-1.24475223,  0.44742824,  0.71602461, ..., -0.21656679,\n",
       "        -0.88496718, -0.07504356],\n",
       "       [ 1.68960003,  0.44742824,  0.71602461, ..., -0.21656679,\n",
       "         1.12998541, -0.07504356]])"
      ]
     },
     "execution_count": 310,
     "metadata": {},
     "output_type": "execute_result"
    },
    {
     "ename": "",
     "evalue": "",
     "output_type": "error",
     "traceback": [
      "\u001b[1;31mThe Kernel crashed while executing code in the current cell or a previous cell. \n",
      "\u001b[1;31mPlease review the code in the cell(s) to identify a possible cause of the failure. \n",
      "\u001b[1;31mClick <a href='https://aka.ms/vscodeJupyterKernelCrash'>here</a> for more info. \n",
      "\u001b[1;31mView Jupyter <a href='command:jupyter.viewOutput'>log</a> for further details."
     ]
    }
   ],
   "source": [
    "scaler = StandardScaler()  # Create a StandardScaler object \n",
    "reviews_fit = scaler.fit_transform(reviews)  # Fit the data to the scaler\n",
    "reviews_fit"
   ]
  }
 ],
 "metadata": {
  "kernelspec": {
   "display_name": ".venv",
   "language": "python",
   "name": "python3"
  },
  "language_info": {
   "codemirror_mode": {
    "name": "ipython",
    "version": 3
   },
   "file_extension": ".py",
   "mimetype": "text/x-python",
   "name": "python",
   "nbconvert_exporter": "python",
   "pygments_lexer": "ipython3",
   "version": "3.10.11"
  }
 },
 "nbformat": 4,
 "nbformat_minor": 2
}
