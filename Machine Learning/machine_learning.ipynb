{
 "cells": [
  {
   "cell_type": "code",
   "execution_count": 25,
   "metadata": {},
   "outputs": [],
   "source": [
    "from IPython.display import SVG\n",
    "import numpy as np\n",
    "import pandas as pd\n",
    "import matplotlib.pyplot as plt"
   ]
  },
  {
   "cell_type": "markdown",
   "metadata": {},
   "source": [
    "# Vocabulary"
   ]
  },
  {
   "cell_type": "markdown",
   "metadata": {},
   "source": [
    "## Slope\n",
    "Slope is a single number describing the steepness of a line. (see gradient for differences)\n",
    "- Simpler, more general: Refers to the steepness of a line.   \n",
    "- Scalar quantity: It's a single number representing the incline or decline of a line.   \n",
    "- Example: \"The slope of the hill is 15%.\""
   ]
  },
  {
   "cell_type": "markdown",
   "metadata": {},
   "source": [
    "## Gradient\n",
    "Gradient is a vector describing the direction and rate of change of a function at a point. (see slope for differences)\n",
    "- More specific, vector-based: Represents the direction and rate of change of a function at a particular point.   \n",
    "- Vector quantity: It has both magnitude (steepness) and direction.   \n",
    "- Example: \"The gradient of the temperature field points north, indicating that temperature increases in that direction.\""
   ]
  },
  {
   "cell_type": "markdown",
   "metadata": {},
   "source": [
    "# Intro to Machine Learning\n",
    "https://www.codecademy.com/journeys/data-scientist-ml/paths/dsmlcj-22-machine-learning-foundations/tracks/dsmlcj-22-machine-learning-fun/modules/dsml-data-transformations-for-feature-analysis-2f0d46b3-b281-4d68-a8ac-30a198aae004/articles/fe-encoding-categorical-variables\n",
    "\n",
    "- **Supervised Learning**: data is labeled and the program learns to predict the output from the input data\n",
    "- **Unsupervised Learning**: data is unlabeled and the program learns to recognize the inherent structure in the input data"
   ]
  },
  {
   "cell_type": "markdown",
   "metadata": {},
   "source": [
    "# EDA Before Regression Model\n",
    "https://www.codecademy.com/journeys/data-scientist-ml/paths/dsmlcj-22-machine-learning-foundations/tracks/dsmlcj-22-machine-learning-fun/modules/eda-machine-learning-models-53f6f860-50fe-40e0-a6aa-1268771d0bcb/articles/eda-prior-to-fitting-a-regression-model"
   ]
  },
  {
   "cell_type": "markdown",
   "metadata": {},
   "source": [
    "# EDA Before Classification Model\n",
    "https://www.codecademy.com/journeys/data-scientist-ml/paths/dsmlcj-22-machine-learning-foundations/tracks/dsmlcj-22-machine-learning-fun/modules/eda-machine-learning-models-53f6f860-50fe-40e0-a6aa-1268771d0bcb/articles/eda-prior-to-fitting-a-classification-model"
   ]
  },
  {
   "cell_type": "markdown",
   "metadata": {},
   "source": [
    "# Encoding Categorical Variables"
   ]
  },
  {
   "cell_type": "markdown",
   "metadata": {},
   "source": [
    "## Ordinal Encoding"
   ]
  },
  {
   "cell_type": "markdown",
   "metadata": {},
   "source": [
    "## Label Encoding"
   ]
  },
  {
   "cell_type": "markdown",
   "metadata": {},
   "source": [
    "## One-hot encoding"
   ]
  },
  {
   "cell_type": "markdown",
   "metadata": {},
   "source": [
    "## Binary Encoding"
   ]
  },
  {
   "cell_type": "markdown",
   "metadata": {},
   "source": [
    "## Hashing"
   ]
  },
  {
   "cell_type": "markdown",
   "metadata": {},
   "source": [
    "## Target Encoding"
   ]
  },
  {
   "cell_type": "markdown",
   "metadata": {},
   "source": [
    "## Date-time Encoding"
   ]
  },
  {
   "cell_type": "markdown",
   "metadata": {},
   "source": [
    "# Regression vs Classification"
   ]
  },
  {
   "cell_type": "markdown",
   "metadata": {},
   "source": [
    "## Regression\n",
    "Regression is used to predict outputs that are continuous. The outputs are quantities that can be flexibly determined based on the inputs of the model rather than being confined to a set of possible labels.\n",
    "\n",
    "For example:\n",
    "\n",
    "- Predict the height of a potted plant from the amount of rainfall\n",
    "- Predict salary based on someone’s age and availability of high-speed internet\n",
    "- Predict a car’s MPG (miles per gallon) based on size and model yea"
   ]
  },
  {
   "cell_type": "markdown",
   "metadata": {},
   "source": [
    "## Classification\n",
    "Classification is used to predict a discrete label. The outputs fall under a finite set of possible outcomes. Many situations have only two possible outcomes. This is called **binary classification** (True/False, 0 or 1, Hotdog / not Hotdog).\n",
    "\n",
    "For example:\n",
    "\n",
    "- Predict whether an email is spam or not\n",
    "- Predict whether it will rain or not\n",
    "- Predict whether a user is a power user or a casual user\n",
    "\n",
    "There are also two other common types of classification: **multi-class classification** and **multi-label classification**.\n",
    "\n",
    "**Multi-class classification** has the same idea behind binary classification, except instead of two possible outcomes, there are three or more.\n",
    "\n",
    "For example:\n",
    "\n",
    "- Predict whether a photo contains a pear, apple, or peach\n",
    "- Predict what letter of the alphabet a handwritten character is\n",
    "- Predict whether a piece of fruit is small, medium, or large\n",
    "\n",
    "An important note about binary and multi-class classification is that in both, each outcome has one specific label. However, in **multi-label classification**, there are multiple possible labels for each outcome. This is useful for customer segmentation, image categorization, and sentiment analysis for understanding text. To perform these classifications, we use models like Naive Bayes, K-Nearest Neighbors, SVMs, as well as various deep learning models.\n",
    "\n",
    "An example of multi-label classification is shown below. Here, a cat and a bird are both identified in a photo showing a classification model with more than one label as a result.\n",
    "\n",
    "<img src=\"https://content.codecademy.com/courses/deeplearning-with-tensorflow/multilabel_classification.png\" alt=\"classification model identifying a cat and a bird in an outdoor photo\" class=\"styles_img__Ckuzm\">"
   ]
  },
  {
   "cell_type": "markdown",
   "metadata": {},
   "source": [
    "# Intro To Linear Regression\n",
    "\n",
    "The purpose of machine learning is often to create a model that explains some real-world data, so that we can predict what may happen next, with different inputs.\n",
    "\n",
    "The simplest model that we can fit to data is a line. When we are trying to find a line that fits a set of data best, we are performing Linear Regression.\n",
    "\n",
    "We often want to find lines to fit data, so that we can predict unknowns. For example:\n",
    "\n",
    "- The market price of a house vs. the square footage of a house. Can we predict how much a house will sell for, given its size?\n",
    "- The tax rate of a country vs. its GDP. Can we predict taxation based on a country’s GDP?\n",
    "- The amount of chips left in the bag vs. number of chips taken. Can we predict how much longer this bag of chips will last, given how much people at this party have been eating?"
   ]
  },
  {
   "cell_type": "markdown",
   "metadata": {},
   "source": [
    "## Loss\n",
    "\n",
    "When we think about how we can assign a slope and intercept to fit a set of points, we have to define what the best fit is.\n",
    "\n",
    "For each data point, we calculate loss, a number that measures how bad the model’s (in this case, the line’s) prediction was. You may have seen this being referred to as error.\n",
    "\n",
    "We can think about loss as the squared distance from the point to the line. We do the squared distance (instead of just the distance) so that points above and below the line both contribute to total loss in the same way:\n"
   ]
  },
  {
   "cell_type": "code",
   "execution_count": 26,
   "metadata": {},
   "outputs": [
    {
     "data": {
      "image/svg+xml": [
       "<svg xmlns=\"http://www.w3.org/2000/svg\" xmlns:xlink=\"http://www.w3.org/1999/xlink\" width=\"794px\" height=\"784px\" viewBox=\"0 0 794 784\" version=\"1.1\">\n",
       "    <!-- Generator: Sketch 51.1 (57501) - http://www.bohemiancoding.com/sketch -->\n",
       "    <title>graph</title>\n",
       "    <desc>Created with Sketch.</desc>\n",
       "    <defs/>\n",
       "    <g id=\"graph\" stroke=\"none\" stroke-width=\"1\" fill=\"none\" fill-rule=\"evenodd\">\n",
       "        <path d=\"M397.5,78.5 L397.5,706.87091\" id=\"Line-2\" stroke=\"#000000\" stroke-width=\"4\" stroke-linecap=\"square\"/>\n",
       "        <path d=\"M477.5,167.284699 L477.5,295.036351\" id=\"Line-2-Copy\" stroke=\"#4C7EF3\" stroke-width=\"4\" stroke-linecap=\"square\"/>\n",
       "        <path d=\"M581.5,226.886355 L581.5,271.138628\" id=\"Line-2-Copy-2\" stroke=\"#4C7EF3\" stroke-width=\"4\" stroke-linecap=\"square\"/>\n",
       "        <path d=\"M84,393 L712,393\" id=\"Line-2\" stroke=\"#000000\" stroke-width=\"4\" stroke-linecap=\"square\"/>\n",
       "        <path d=\"M460.867188,233.246094 C459.85937,233.246094 458.912114,233.115236 458.025391,232.853516 C457.138667,232.591796 456.437503,232.238283 455.921875,231.792969 L456.765625,229.578125 C457.195315,229.937502 457.789059,230.232421 458.546875,230.462891 C459.304691,230.693361 460.082027,230.808594 460.878906,230.808594 C461.777348,230.808594 462.50195,230.566409 463.052734,230.082031 C463.603518,229.597654 463.878906,228.964848 463.878906,228.183594 C463.878906,227.699216 463.802735,227.281252 463.650391,226.929688 C463.498046,226.578123 463.296876,226.296876 463.046875,226.085938 C462.796874,225.874999 462.462893,225.705079 462.044922,225.576172 C461.626951,225.447265 461.199221,225.359375 460.761719,225.3125 C460.324217,225.265625 459.796878,225.238281 459.179688,225.230469 C459.15625,225.230469 459.04297,225.228516 458.839844,225.224609 C458.636718,225.220703 458.523438,225.21875 458.5,225.21875 L458.5,222.851562 L459.15625,222.851562 C459.835941,222.851562 460.419919,222.816407 460.908203,222.746094 C461.396487,222.675781 461.849607,222.554688 462.267578,222.382812 C462.685549,222.210937 463.001952,221.957033 463.216797,221.621094 C463.431642,221.285155 463.539062,220.871096 463.539062,220.378906 C463.539062,219.71484 463.289065,219.14844 462.789062,218.679688 C462.28906,218.210935 461.585942,217.976562 460.679688,217.976562 C459.21093,217.976562 457.902349,218.343746 456.753906,219.078125 L455.910156,216.851562 C457.332038,215.976558 459.019521,215.539062 460.972656,215.539062 C462.605477,215.539062 463.939448,215.968746 464.974609,216.828125 C466.009771,217.687504 466.527344,218.789056 466.527344,220.132812 C466.527344,221.070317 466.287112,221.869137 465.806641,222.529297 C465.326169,223.189456 464.628911,223.671873 463.714844,223.976562 C464.761724,224.179689 465.572263,224.68359 466.146484,225.488281 C466.720706,226.292973 467.007812,227.242182 467.007812,228.335938 C467.007812,229.375005 466.730472,230.271481 466.175781,231.025391 C465.621091,231.779301 464.886723,232.337889 463.972656,232.701172 C463.058589,233.064455 462.023443,233.246094 460.867188,233.246094 Z\" id=\"3\" fill=\"#4C7EF3\"/>\n",
       "        <path d=\"M470.001953,125 L476.318359,107.820312 L479.775391,107.820312 L485.998047,125 L482.740234,125 L481.041016,120.148438 L475.029297,120.148438 L473.318359,125 L470.001953,125 Z M475.826172,117.78125 L480.232422,117.78125 C478.826165,113.273415 478.103516,110.945313 478.064453,110.796875 L475.826172,117.78125 Z\" id=\"A\" fill=\"#4C7EF3\"/>\n",
       "        <path d=\"M576.541016,330 L576.541016,312.832031 L581.896484,312.832031 C584.169933,312.832031 585.865229,313.164059 586.982422,313.828125 C588.099615,314.492191 588.658203,315.597649 588.658203,317.144531 C588.658203,317.394533 588.642578,317.640624 588.611328,317.882812 C588.580078,318.125001 588.509766,318.400389 588.400391,318.708984 C588.291015,319.01758 588.146485,319.296874 587.966797,319.546875 C587.787108,319.796876 587.537111,320.041014 587.216797,320.279297 C586.896483,320.517579 586.521487,320.703124 586.091797,320.835938 C587.154302,321.093751 587.966794,321.587887 588.529297,322.318359 C589.0918,323.048832 589.373047,323.949213 589.373047,325.019531 C589.373047,326.636727 588.800787,327.871089 587.65625,328.722656 C586.511713,329.574223 584.927744,330 582.904297,330 L576.541016,330 Z M579.716797,327.703125 L582.470703,327.703125 C584.908215,327.703125 586.126953,326.75001 586.126953,324.84375 C586.126953,323.882808 585.822269,323.191408 585.212891,322.769531 C584.603513,322.347654 583.662116,322.136719 582.388672,322.136719 L579.716797,322.136719 L579.716797,327.703125 Z M579.716797,319.921875 L582.435547,319.921875 C584.53712,319.921875 585.587891,319.121102 585.587891,317.519531 C585.587891,316.621089 585.285159,316.003908 584.679688,315.667969 C584.074216,315.33203 583.111335,315.164062 581.791016,315.164062 L579.716797,315.164062 L579.716797,319.921875 Z\" id=\"B\" fill=\"#4C7EF3\"/>\n",
       "        <path d=\"M595.53125,259.988281 L595.53125,245.703125 C595.421874,245.773438 594.91602,245.998045 594.013672,246.376953 C593.111324,246.755861 592.601563,246.960937 592.484375,246.992188 L592.484375,244.648438 C592.671876,244.5625 593.26562,244.267581 594.265625,243.763672 C595.26563,243.259763 595.816406,242.972657 595.917969,242.902344 L598.496094,242.902344 L598.496094,259.988281 L595.53125,259.988281 Z\" id=\"1\" fill=\"#4C7EF3\"/>\n",
       "        <g id=\"Group\" transform=\"translate(467.000000, 138.000000)\" stroke=\"#4C7EF3\" stroke-linecap=\"round\" stroke-width=\"4\">\n",
       "            <path d=\"M0.5,0.5 L20.1596033,20.1596033\" id=\"Line-3\"/>\n",
       "            <path d=\"M20.5,0.5 L0.840396749,20.1596033\" id=\"Line-3\"/>\n",
       "        </g>\n",
       "        <g id=\"Group\" transform=\"translate(571.000000, 278.000000)\" stroke=\"#4C7EF3\" stroke-linecap=\"round\" stroke-width=\"4\">\n",
       "            <path d=\"M0.5,0.5 L20.1596033,20.1596033\" id=\"Line-3\"/>\n",
       "            <path d=\"M20.5,0.5 L0.840396749,20.1596033\" id=\"Line-3\"/>\n",
       "        </g>\n",
       "        <path d=\"M104,686 L691,99\" id=\"Line-2\" stroke=\"#4C7EF3\" stroke-width=\"4\" stroke-linecap=\"round\" stroke-dasharray=\"13,21\"/>\n",
       "    </g>\n",
       "</svg>"
      ],
      "text/plain": [
       "<IPython.core.display.SVG object>"
      ]
     },
     "execution_count": 26,
     "metadata": {},
     "output_type": "execute_result"
    }
   ],
   "source": [
    "SVG(filename='../media/points.svg')"
   ]
  },
  {
   "cell_type": "markdown",
   "metadata": {},
   "source": [
    "In this example:\n",
    "\n",
    "- For point A, the squared distance is 9 (3²)\n",
    "- For point B, the squared distance is 1 (1²)\n",
    "- So the total loss, with this model, is 10. If we found a line that had less loss than 10, that line would be a better model for this data."
   ]
  },
  {
   "cell_type": "markdown",
   "metadata": {},
   "source": [
    "## Gradient Descent\n",
    "The main objective of using a gradient descent algorithm is to minimize the cost function using iteration. To achieve this goal, it performs two steps iteratively:\n",
    "\n",
    "- Calculates the first-order derivative of the function to compute the gradient or slope of that function.\n",
    "- Move away from the direction of the gradient, which means slope increased from the current point by alpha times, where Alpha is defined as Learning Rate. It is a tuning parameter in the optimization process which helps to decide the length of the steps.\n"
   ]
  },
  {
   "cell_type": "markdown",
   "metadata": {},
   "source": [
    "## SK-Learn\n"
   ]
  },
  {
   "cell_type": "code",
   "execution_count": 27,
   "metadata": {},
   "outputs": [
    {
     "data": {
      "image/png": "[encoded data removed]",
      "text/plain": [
       "<Figure size 640x480 with 1 Axes>"
      ]
     },
     "metadata": {},
     "output_type": "display_data"
    }
   ],
   "source": [
    "from sklearn.linear_model import LinearRegression\n",
    "df = pd.read_csv('CSVs/protein_intake.csv') \n",
    "\n",
    "df = df.dropna(subset=['Protein intake (g/kg/day)']) # for this example, simply removed\n",
    "# all NANS since linear regression cannot take NANs\n",
    "\n",
    "X = df[['Protein intake (g/kg/day)']] \n",
    "y = df['LBM change (kg)'] \n",
    "\n",
    "\n",
    "line_fitter = LinearRegression() #create object of LinearRegression class\n",
    "line_fitter.fit(X, y) # trains the model / line\n",
    "\n",
    "y_predictions = line_fitter.predict(X) # y_predictions can be used to make predictions\n",
    "\n",
    "plt.plot(X, y, 'o', label='Original Data')  # Label for clarity\n",
    "plt.plot(X, y_predictions, label='Predicted Values')  # Plot predicted values\n",
    "plt.legend()  # Show labels in the plot\n",
    "plt.show()\n",
    "\n",
    "\n",
    "\n",
    "\n",
    "\n",
    "# plt.show(X,y,'o')\n"
   ]
  },
  {
   "cell_type": "code",
   "execution_count": 28,
   "metadata": {},
   "outputs": [
    {
     "data": {
      "text/plain": [
       "'\\nx_train, x_test, y_train, y_test = train_test_split(x, y, train_size = 0.8, test_size = 0.2, random_state=6)\\n\\nmlr = LinearRegression()\\n\\nmodel=mlr.fit(x_train, y_train)\\n\\ny_predict = mlr.predict(x_test)\\n'"
      ]
     },
     "execution_count": 28,
     "metadata": {},
     "output_type": "execute_result"
    }
   ],
   "source": [
    "'''For Multiple Linear Regression (two or more indepedent variables)\n",
    "use the following code:'''\n",
    "\n",
    "'''\n",
    "x_train, x_test, y_train, y_test = train_test_split(x, y, train_size = 0.8, test_size = 0.2, random_state=6)\n",
    "\n",
    "mlr = LinearRegression()\n",
    "\n",
    "model=mlr.fit(x_train, y_train)\n",
    "\n",
    "y_predict = mlr.predict(x_test)\n",
    "'''"
   ]
  },
  {
   "cell_type": "markdown",
   "metadata": {},
   "source": [
    "# Multiple Linear Regression\n"
   ]
  },
  {
   "cell_type": "markdown",
   "metadata": {},
   "source": [
    "## Evaluating Model Accuracy\n",
    "\n",
    "### Understanding Residuals\n",
    "\n",
    "**Residuals**: These are the differences between the actual observed values and the values predicted by the regression model. Mathematically, for each data point \\( i \\), the residual \\( e_i \\) is given by:\n",
    "\n",
    "$$\n",
    "\\ e_i = y_i - \\hat{y}_i \\\n",
    "$$\n",
    "\n",
    "where $y_i$ is the actual value and $ \\hat{y}_i$ is the predicted value.\n",
    "\n",
    "### Residual Sum of Squares (RSS)\n",
    "\n",
    "**Residual Sum of Squares (RSS)**: This is the sum of the squares of the residuals. It quantifies the total deviation of the predicted values from the actual values. Mathematically, it is expressed as:\n",
    "\n",
    "$$\n",
    "\\ \\text{RSS} = \\sum_{i=1}^{n} (y_i - \\hat{y}_i)^2 \\\n",
    "$$\n",
    "\n",
    "where \\( n \\) is the number of data points, \\( y_i \\) is the actual value, and \\( \\hat{y}_i \\) is the predicted value.\n",
    "\n",
    "### Significance of RSS\n",
    "\n",
    "- **Model Fit**: A smaller RSS indicates a better fit of the model to the data, meaning the predicted values are closer to the actual values.\n",
    "- **Comparison of Models**: When comparing different models, the model with the smaller RSS is generally preferred, as it implies a better fit.\n",
    "- **Optimization**: Linear regression aims to find the model parameters (coefficients and intercept) that minimize the RSS.\n",
    "\n",
    "### Example Calculation\n",
    "\n",
    "Suppose you have the following actual and predicted values:\n",
    "\n",
    "- Actual values $( y ): [3, 4, 5]$\n",
    "- Predicted values $( \\hat{y} ): [2.5, 4.1, 5.3]$\n",
    "\n",
    "The residuals (\\( e \\)) would be:\n",
    "\n",
    "- \\( e_1 = 3 - 2.5 = 0.5 \\)\n",
    "- \\( e_2 = 4 - 4.1 = -0.1 \\)\n",
    "- \\( e_3 = 5 - 5.3 = -0.3 \\)\n",
    "\n",
    "The RSS is calculated as:\n",
    "\n",
    "$$\n",
    "\\text{RSS} = (0.5)^2 + (-0.1)^2 + (-0.3)^2 = 0.25 + 0.01 + 0.09 = 0.35\n",
    "$$\n",
    "\n",
    "Thus, the RSS for this set of predictions is 0.35, indicating the overall discrepancy between the actual and predicted values.\n",
    "\n"
   ]
  }
 ],
 "metadata": {
  "kernelspec": {
   "display_name": ".venv",
   "language": "python",
   "name": "python3"
  },
  "language_info": {
   "codemirror_mode": {
    "name": "ipython",
    "version": 3
   },
   "file_extension": ".py",
   "mimetype": "text/x-python",
   "name": "python",
   "nbconvert_exporter": "python",
   "pygments_lexer": "ipython3",
   "version": "3.10.11"
  }
 },
 "nbformat": 4,
 "nbformat_minor": 2
}
