{
 "cells": [
  {
   "cell_type": "markdown",
   "metadata": {},
   "source": [
    "# Introduction to Linear Algebra"
   ]
  },
  {
   "cell_type": "markdown",
   "metadata": {},
   "source": [
    "## What is Linear Algebra?\n",
    "Linear algebra is the branch of mathematics that deals with vectors, vector spaces (also known as linear spaces), linear transformations, and systems of linear equations. It forms the foundation for many areas in science and engineering, including computer graphics, machine learning, quantum physics, and more.\n",
    "\n",
    "In essence, linear algebra provides tools to model and solve problems involving linear relationships, where variables are related by linear equations.\n",
    "\n",
    "## Why Learn Linear Algebra?\n",
    "Linear algebra has a wide range of applications:\n",
    "- **Machine Learning & AI:** Algorithms like linear regression, neural networks, and PCA (Principal Component Analysis) heavily rely on linear algebra.\n",
    "- **Computer Graphics:** Graphics are created through transformations, which are represented using matrices and vectors.\n",
    "- **Physics and Engineering:** Physical phenomena, such as forces, fields, and transformations, are often modeled using linear algebra.\n",
    "\n",
    "By mastering linear algebra, you'll gain a strong mathematical foundation useful in numerous fields.\n",
    "\n",
    "## Fundamental Concepts in Linear Algebra\n",
    "Here's an outline of the key topics we'll cover:\n",
    "1. **Vectors** - Understand what vectors are, their properties, and operations like addition and scalar multiplication.\n",
    "2. **Matrices** - Introduction to matrices, matrix operations, and their use in solving systems of equations.\n",
    "3. **Linear Transformations** - Learn about functions that map vectors to other vectors in a linear way.\n",
    "4. **Vector Spaces** - Explore spaces formed by vectors, including concepts of basis and dimension.\n",
    "5. **Eigenvalues and Eigenvectors** - Essential concepts for understanding matrix transformations and diagonalization.\n",
    "6. **Orthogonality and Projections** - Understand perpendicular vectors, projections, and how they apply to least-squares solutions.\n",
    "7. **Determinants** - Learn about determinants and their importance in determining matrix invertibility and transformations.\n",
    "\n",
    "This roadmap will help you build a solid foundation in linear algebra, one step at a time.\n",
    "\n",
    "---\n",
    "\n",
    "In the next section, we'll dive into **Vectors**, beginning with definitions and operations.\n"
   ]
  },
  {
   "cell_type": "markdown",
   "metadata": {},
   "source": [
    "# Vectors and Vector Operations"
   ]
  },
  {
   "cell_type": "markdown",
   "metadata": {},
   "source": [
    "## What is a Vector?\n",
    "A **vector** is an object that has both **magnitude** (size) and **direction**. Vectors are often used to represent quantities such as displacement, velocity, or force in physics and engineering, and they’re also fundamental in fields like computer science and machine learning.\n",
    "\n",
    "In linear algebra, we represent vectors as ordered lists of numbers (coordinates) that define their position in space. Here’s an example of a vector in two-dimensional (2D) space:\n",
    "\n",
    "$$\n",
    "\\mathbf{v} = \\begin{bmatrix} 3 \\\\ 4 \\end{bmatrix}\n",
    "$$\n",
    "\n",
    "This vector, **v**, has components 3 and 4, representing its position along the x-axis and y-axis."
   ]
  },
  {
   "cell_type": "markdown",
   "metadata": {},
   "source": [
    "### Notation\n",
    "Vectors are typically denoted by bold letters (e.g., **v**) or letters with an arrow on top (e.g., $\\vec{v}$). For simplicity, we’ll use bold notation here."
   ]
  },
  {
   "cell_type": "markdown",
   "metadata": {},
   "source": [
    "## Types of Vectors\n",
    "1. **Column Vectors**: These are vectors represented in a vertical format:\n",
    "   $$\n",
    "   \\mathbf{v} = \\begin{bmatrix} 3 \\\\ 4 \\\\ 5 \\end{bmatrix}\n",
    "   $$\n",
    "\n",
    "2. **Row Vectors**: These are represented in a horizontal format:\n",
    "   $$\n",
    "   \\mathbf{w} = \\begin{bmatrix} 3 & 4 & 5 \\end{bmatrix}\n",
    "   $$\n",
    "\n",
    "3. **Zero Vector**: A vector where all elements are zero, often represented as **0**.\n",
    "   - Example in 3D: $$\\mathbf{0} = \\begin{bmatrix} 0 \\\\ 0 \\\\ 0 \\end{bmatrix}$$\n",
    "\n",
    "4. **Unit Vector**: A vector with a magnitude of 1. It’s often used to represent direction.\n",
    "\n",
    "---"
   ]
  },
  {
   "cell_type": "markdown",
   "metadata": {},
   "source": [
    "## Vector Operations"
   ]
  },
  {
   "cell_type": "markdown",
   "metadata": {},
   "source": [
    "### 1. Vector Addition\n",
    "To add two vectors, add their corresponding components. If **a** = $\\begin{bmatrix} a_1 \\\\ a_2 \\end{bmatrix}$ and **b** = $\\begin{bmatrix} b_1 \\\\ b_2 \\end{bmatrix}$, then:\n",
    "\n",
    "$$\n",
    "\\mathbf{a} + \\mathbf{b} = \\begin{bmatrix} a_1 + b_1 \\\\ a_2 + b_2 \\end{bmatrix}\n",
    "$$\n",
    "\n",
    "**Example**:\n",
    "$$\n",
    "\\begin{bmatrix} 2 \\\\ 3 \\end{bmatrix} + \\begin{bmatrix} 1 \\\\ 4 \\end{bmatrix} = \\begin{bmatrix} 3 \\\\ 7 \\end{bmatrix}\n",
    "$$"
   ]
  },
  {
   "cell_type": "markdown",
   "metadata": {},
   "source": [
    "### 2. Scalar Multiplication\n",
    "In scalar multiplication, a vector is multiplied by a scalar (a single number), scaling its magnitude without changing its direction.\n",
    "\n",
    "If **c** is a scalar and **v** = $\\begin{bmatrix} v_1 \\\\ v_2 \\end{bmatrix}$, then:\n",
    "\n",
    "$$\n",
    "c \\cdot \\mathbf{v} = \\begin{bmatrix} c \\cdot v_1 \\\\ c \\cdot v_2 \\end{bmatrix}\n",
    "$$\n",
    "\n",
    "**Example**:\n",
    "$$\n",
    "3 \\cdot \\begin{bmatrix} 2 \\\\ 5 \\end{bmatrix} = \\begin{bmatrix} 6 \\\\ 15 \\end{bmatrix}\n",
    "$$"
   ]
  },
  {
   "cell_type": "markdown",
   "metadata": {},
   "source": [
    "### 3. Vector Subtraction\n",
    "Vector subtraction is similar to addition but subtracts the components instead. Given **a** = $\\begin{bmatrix} a_1 \\\\ a_2 \\end{bmatrix}$ and **b** = $\\begin{bmatrix} b_1 \\\\ b_2 \\end{bmatrix}$, we find **a** - **b** by:\n",
    "\n",
    "$$\n",
    "\\mathbf{a} - \\mathbf{b} = \\begin{bmatrix} a_1 - b_1 \\\\ a_2 - b_2 \\end{bmatrix}\n",
    "$$\n",
    "\n",
    "**Example**:\n",
    "$$\n",
    "\\begin{bmatrix} 5 \\\\ 7 \\end{bmatrix} - \\begin{bmatrix} 2 \\\\ 3 \\end{bmatrix} = \\begin{bmatrix} 3 \\\\ 4 \\end{bmatrix}\n",
    "$$\n",
    "\n",
    "---"
   ]
  },
  {
   "cell_type": "markdown",
   "metadata": {},
   "source": [
    "## Magnitude of a Vector\n",
    "The **magnitude** or **length** of a vector **v** = $\\begin{bmatrix} v_1 \\\\ v_2 \\end{bmatrix}$ in 2D space is calculated using the Pythagorean theorem:\n",
    "\n",
    "$$\n",
    "|\\mathbf{v}| = \\sqrt{v_1^2 + v_2^2}\n",
    "$$\n",
    "\n",
    "**Example**:\n",
    "For **v** = $\\begin{bmatrix} 3 \\\\ 4 \\end{bmatrix}$,\n",
    "$$\n",
    "|\\mathbf{v}| = \\sqrt{3^2 + 4^2} = \\sqrt{9 + 16} = \\sqrt{25} = 5\n",
    "$$\n",
    "\n",
    "---"
   ]
  },
  {
   "cell_type": "markdown",
   "metadata": {},
   "source": [
    "## Vector Dot Products\n",
    "\n",
    "An important vector operation in linear algebra is the **dot product**. The dot product takes two vectors of equal dimensions and returns a single scalar value by summing the products of the vectors' corresponding components. This can be written out formulaically as:\n",
    "\n",
    "$$ \\mathbf{a} \\cdot \\mathbf{b} = \\sum_{i=1}^{n} a_i b_i $$"
   ]
  },
  {
   "cell_type": "markdown",
   "metadata": {},
   "source": [
    "### Example of Dot Product\n",
    "\n",
    "Let’s calculate the dot product of the vectors \n",
    "\n",
    "$$\n",
    "\\mathbf{a} = \\begin{bmatrix} 3 \\\\ 2 \\\\ -3 \\end{bmatrix} \n",
    "$$\n",
    "and \n",
    "$$\n",
    "\\mathbf{b} = \\begin{bmatrix} 0 \\\\ -3 \\\\ -6 \\end{bmatrix}\n",
    "$$"
   ]
  },
  {
   "cell_type": "markdown",
   "metadata": {},
   "source": [
    "#### Step-by-step Calculation\n",
    "\n",
    "1. **Identify the components**:\n",
    "   - For vector $ \\mathbf{a} $: \n",
    "     - $ a_1 = 3 $, $ a_2 = 2 $, $ a_3 = -3 $\n",
    "   - For vector $ \\mathbf{b} $: \n",
    "     - $ b_1 = 0 $, $ b_2 = -3 $, $ b_3 = -6 $\n",
    "\n",
    "2. **Apply the dot product formula**:\n",
    "\n",
    "   $$\n",
    "   \\mathbf{a} \\cdot \\mathbf{b} = \\sum_{i=1}^{n} a_i b_i = a_1 b_1 + a_2 b_2 + a_3 b_3\n",
    "   $$\n",
    "\n",
    "   Substituting in the values:\n",
    "\n",
    "   $$\n",
    "   \\mathbf{a} \\cdot \\mathbf{b} = (3 \\cdot 0) + (2 \\cdot -3) + (-3 \\cdot -6)\n",
    "   $$\n",
    "\n",
    "3. **Calculate each term**:\n",
    "   - $ 3 \\cdot 0 = 0 $\n",
    "   - $ 2 \\cdot -3 = -6 $\n",
    "   - $ -3 \\cdot -6 = 18 $\n",
    "\n",
    "4. **Sum the results**:\n",
    "   $$\n",
    "   \\mathbf{a} \\cdot \\mathbf{b} = 0 - 6 + 18 = 12\n",
    "   $$"
   ]
  },
  {
   "cell_type": "markdown",
   "metadata": {},
   "source": [
    "#### Final Result\n",
    "\n",
    "The dot product of $ \\mathbf{a} $ and $ \\mathbf{b} $ is \n",
    "\n",
    "$$\n",
    "\\mathbf{a} \\cdot \\mathbf{b} = 12\n",
    "$$\n",
    "\n",
    "---"
   ]
  },
  {
   "cell_type": "markdown",
   "metadata": {},
   "source": [
    "## Unit Vector\n",
    "A **unit vector** has a magnitude of 1 and is used to indicate direction. To find the unit vector $\\hat{\\mathbf{v}}$ of any vector **v**, divide each component by the vector's magnitude:\n",
    "\n",
    "$$\n",
    "\\hat{\\mathbf{v}} = \\frac{\\mathbf{v}}{|\\mathbf{v}|}\n",
    "$$\n",
    "\n",
    "**Example**:\n",
    "For **v** = $\\begin{bmatrix} 3 \\\\ 4 \\end{bmatrix}$ with $|\\mathbf{v}| = 5$,\n",
    "$$\n",
    "\\hat{\\mathbf{v}} = \\frac{1}{5} \\begin{bmatrix} 3 \\\\ 4 \\end{bmatrix} = \\begin{bmatrix} 0.6 \\\\ 0.8 \\end{bmatrix}\n",
    "$$\n",
    "\n",
    "---"
   ]
  },
  {
   "cell_type": "markdown",
   "metadata": {},
   "source": [
    "This section covers basic vector operations essential for understanding further topics in linear algebra. Each operation lays the foundation for working with more complex objects, such as matrices and transformations."
   ]
  },
  {
   "cell_type": "markdown",
   "metadata": {},
   "source": [
    "# Systems of Linear Equations"
   ]
  },
  {
   "cell_type": "markdown",
   "metadata": {},
   "source": [
    "## Introduction\n",
    "A **system of linear equations** is a collection of one or more linear equations involving the same variables. The aim is to find values of the variables that satisfy all equations in the system. Solving systems of linear equations has wide-ranging applications in fields like engineering, physics, economics, and computer science."
   ]
  },
  {
   "cell_type": "markdown",
   "metadata": {},
   "source": [
    "### Example of a System of Linear Equations\n",
    "Consider the following system of equations:\n",
    "$$\n",
    "\\begin{cases}\n",
    "2x + 3y = 8 \\\\\n",
    "x - y = -1\n",
    "\\end{cases}\n",
    "$$\n",
    "\n",
    "Here, we have two equations with two variables, $x$ and $y$. We’ll find the values of $x$ and $y$ that satisfy both equations simultaneously.\n",
    "\n",
    "---"
   ]
  },
  {
   "cell_type": "markdown",
   "metadata": {},
   "source": [
    "## Types of Solutions\n",
    "1. **Unique Solution**: The system has exactly one solution.\n",
    "2. **No Solution**: The system has no solution (the lines are parallel).\n",
    "3. **Infinitely Many Solutions**: The system has an infinite number of solutions (the lines overlap).\n",
    "\n",
    "---"
   ]
  },
  {
   "cell_type": "markdown",
   "metadata": {},
   "source": [
    "## Methods of Solving Systems of Linear Equations"
   ]
  },
  {
   "cell_type": "markdown",
   "metadata": {},
   "source": [
    "### 1. Substitution Method\n",
    "1. Solve one equation for one variable in terms of the other.\n",
    "2. Substitute this expression into the other equation.\n",
    "3. Solve for the remaining variable, then back-substitute to find the other variable."
   ]
  },
  {
   "cell_type": "markdown",
   "metadata": {},
   "source": [
    "#### Example\n",
    "Consider:\n",
    "$$\n",
    "\\begin{cases}\n",
    "x + 2y = 5 \\\\\n",
    "3x - y = 4\n",
    "\\end{cases}\n",
    "$$\n",
    "\n",
    "1. **Solve the first equation for $x$**:\n",
    "   $$\n",
    "   x = 5 - 2y\n",
    "   $$\n",
    "\n",
    "2. **Substitute into the second equation**:\n",
    "   $$\n",
    "   3(5 - 2y) - y = 4\n",
    "   $$\n",
    "   Expanding gives:\n",
    "   $$\n",
    "   15 - 6y - y = 4\n",
    "   $$\n",
    "   Simplifying yields:\n",
    "   $$\n",
    "   15 - 7y = 4 \\implies -7y = -11 \\implies y = \\frac{11}{7}\n",
    "   $$\n",
    "\n",
    "3. **Back-substitute $y = \\frac{11}{7}$ into $x = 5 - 2y$**:\n",
    "   $$\n",
    "   x = 5 - 2 \\cdot \\frac{11}{7} = 5 - \\frac{22}{7} = \\frac{35 - 22}{7} = \\frac{13}{7}\n",
    "   $$\n",
    "\n",
    "**Solution**: $x = \\frac{13}{7}$, $y = \\frac{11}{7}$.\n",
    "\n",
    "---"
   ]
  },
  {
   "cell_type": "markdown",
   "metadata": {},
   "source": [
    "### 2. Elimination Method\n",
    "1. Multiply equations if necessary to align the coefficients of one variable.\n",
    "2. Add or subtract equations to eliminate that variable.\n",
    "3. Solve the resulting equation for the remaining variable."
   ]
  },
  {
   "cell_type": "markdown",
   "metadata": {},
   "source": [
    "#### Example\n",
    "Solve:\n",
    "$$\n",
    "\\begin{cases}\n",
    "2x + 3y = 8 \\\\\n",
    "4x - 3y = 2\n",
    "\\end{cases}\n",
    "$$\n",
    "\n",
    "1. **Add the equations to eliminate $y$**:\n",
    "   $$\n",
    "   (2x + 3y) + (4x - 3y) = 8 + 2\n",
    "   $$\n",
    "   Simplifying gives:\n",
    "   $$\n",
    "   6x = 10 \\implies x = \\frac{10}{6} = \\frac{5}{3}\n",
    "   $$\n",
    "\n",
    "2. **Substitute $x = \\frac{5}{3}$ back into the first equation**:\n",
    "   $$\n",
    "   2\\left(\\frac{5}{3}\\right) + 3y = 8\n",
    "   $$\n",
    "   Simplifying yields:\n",
    "   $$\n",
    "   \\frac{10}{3} + 3y = 8\n",
    "   $$\n",
    "   Converting $8$ to a fraction:\n",
    "   $$\n",
    "   3y = 8 - \\frac{10}{3} = \\frac{24 - 10}{3} = \\frac{14}{3}\n",
    "   $$\n",
    "   Thus:\n",
    "   $$\n",
    "   y = \\frac{14}{9}\n",
    "   $$\n",
    "\n",
    "**Solution**: $x = \\frac{5}{3}$, $y = \\frac{14}{9}$.\n",
    "\n",
    "---"
   ]
  },
  {
   "cell_type": "markdown",
   "metadata": {},
   "source": [
    "### 3. Matrix Method (Augmented Matrices)\n",
    "For larger systems, we can use an **augmented matrix** and apply **Gaussian elimination** or **Gauss-Jordan elimination** to solve the system.\n",
    "\n",
    "Consider:\n",
    "$$\n",
    "\\begin{cases}\n",
    "x + y = 3 \\\\\n",
    "2x - y = 1\n",
    "\\end{cases}\n",
    "$$"
   ]
  },
  {
   "cell_type": "markdown",
   "metadata": {},
   "source": [
    "#### Steps\n",
    "1. **Write as an augmented matrix**:\n",
    "   $$\n",
    "   \\begin{bmatrix} 1 & 1 & | & 3 \\\\ 2 & -1 & | & 1 \\end{bmatrix}\n",
    "   $$\n",
    "\n",
    "2. **Eliminate $x$ from the second row**:\n",
    "   - Replace Row 2 with $ \\text{Row 2} - 2 \\times \\text{Row 1} $:\n",
    "   $$\n",
    "   \\begin{bmatrix} 1 & 1 & | & 3 \\\\ 0 & -3 & | & -5 \\end{bmatrix}\n",
    "   $$\n",
    "\n",
    "3. **Solve for $y$ in Row 2**:\n",
    "   $$\n",
    "   -3y = -5 \\implies y = \\frac{5}{3}\n",
    "   $$\n",
    "\n",
    "4. **Substitute $y = \\frac{5}{3}$ back into Row 1**:\n",
    "   $$\n",
    "   x + frac{5}{3} = 3 \\implies x = 3 - frac{5}{3} = frac{9 - 5}{3} = frac{4}{3}\n",
    "   $$\n",
    "\n",
    "**Solution**: $x = \\frac{4}{3}$, $y = \\frac{5}{3}$.\n",
    "\n",
    "---"
   ]
  },
  {
   "cell_type": "markdown",
   "metadata": {},
   "source": [
    "## Practice Problems\n",
    "1. Solve using substitution:\n",
    "   $$\n",
    "   \\begin{cases}\n",
    "   3x + 2y = 12 \\\\\n",
    "   x - 4y = -2\n",
    "   \\end{cases}\n",
    "   $$\n",
    "\n",
    "2. Solve using elimination:\n",
    "   $$\n",
    "   \\begin{cases}\n",
    "   4x + 3y = 24 \\\\\n",
    "   2x - 3y = -6\n",
    "   \\end{cases}\n",
    "   $$\n",
    "\n",
    "3. Solve using matrix methods:\n",
    "   $$\n",
    "   \\begin{cases}\n",
    "   5x + 2y = 8 \\\\\n",
    "   3x - y = 1\n",
    "   \\end{cases}\n",
    "   $$"
   ]
  },
  {
   "cell_type": "markdown",
   "metadata": {},
   "source": [
    "\n",
    "\n",
    "This concludes the introduction to systems of linear equations and solving them using substitution, elimination, and matrix methods.\n"
   ]
  },
  {
   "cell_type": "markdown",
   "metadata": {},
   "source": [
    "# Matrix Operations"
   ]
  },
  {
   "cell_type": "markdown",
   "metadata": {},
   "source": [
    "# Determinants"
   ]
  },
  {
   "cell_type": "markdown",
   "metadata": {},
   "source": [
    "# Vector Spaces and Subspaces"
   ]
  },
  {
   "cell_type": "markdown",
   "metadata": {},
   "source": [
    "# Basis and Dimension"
   ]
  },
  {
   "cell_type": "markdown",
   "metadata": {},
   "source": [
    "# Linear Transformations"
   ]
  },
  {
   "cell_type": "markdown",
   "metadata": {},
   "source": [
    "# Eigenvalues and Eigenvectors"
   ]
  },
  {
   "cell_type": "markdown",
   "metadata": {},
   "source": [
    "# Orthogonality and Orthogonal Bases"
   ]
  },
  {
   "cell_type": "markdown",
   "metadata": {},
   "source": [
    "# Applications and Advanced Topics"
   ]
  }
 ],
 "metadata": {
  "kernelspec": {
   "display_name": ".venv",
   "language": "python",
   "name": "python3"
  },
  "language_info": {
   "codemirror_mode": {
    "name": "ipython",
    "version": 3
   },
   "file_extension": ".py",
   "mimetype": "text/x-python",
   "name": "python",
   "nbconvert_exporter": "python",
   "pygments_lexer": "ipython3",
   "version": "3.11.9"
  }
 },
 "nbformat": 4,
 "nbformat_minor": 2
}
